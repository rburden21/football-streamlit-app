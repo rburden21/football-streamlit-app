{
 "cells": [
  {
   "cell_type": "code",
   "execution_count": 4,
   "metadata": {},
   "outputs": [],
   "source": [
    "import matplotlib.pyplot as plt\n",
    "import seaborn as sns\n",
    "import pandas as pd\n",
    "import numpy as np\n",
    "import sqlite3 \n",
    "import os"
   ]
  },
  {
   "cell_type": "code",
   "execution_count": 8,
   "metadata": {},
   "outputs": [
    {
     "name": "stdout",
     "output_type": "stream",
     "text": [
      "/Users/richard/Desktop/Projects/football-streamlit-app/football-streamlit-app/data/databases/fpl_data.db\n"
     ]
    }
   ],
   "source": [
    "# FPL Data\n",
    "folder_db = '/data/databases/'\n",
    "folder_raw = '/data/raw_files/'\n",
    "\n",
    "# Get the directory of the current script\n",
    "current_directory = os.path.abspath('')\n",
    "\n",
    "\n",
    "db_path = os.path.join(current_directory + folder_db, \"fpl_data.db\")\n",
    "conn = sqlite3.connect(db_path)\n",
    "df_fpl = pd.read_sql_query('SELECT * FROM fpl_data', conn)\n",
    "conn.close()"
   ]
  },
  {
   "cell_type": "code",
   "execution_count": 33,
   "metadata": {},
   "outputs": [
    {
     "data": {
      "text/html": [
       "<div>\n",
       "<style scoped>\n",
       "    .dataframe tbody tr th:only-of-type {\n",
       "        vertical-align: middle;\n",
       "    }\n",
       "\n",
       "    .dataframe tbody tr th {\n",
       "        vertical-align: top;\n",
       "    }\n",
       "\n",
       "    .dataframe thead th {\n",
       "        text-align: right;\n",
       "    }\n",
       "</style>\n",
       "<table border=\"1\" class=\"dataframe\">\n",
       "  <thead>\n",
       "    <tr style=\"text-align: right;\">\n",
       "      <th></th>\n",
       "      <th>rank</th>\n",
       "      <th>name</th>\n",
       "      <th>league</th>\n",
       "      <th>rating</th>\n",
       "      <th>off</th>\n",
       "      <th>def</th>\n",
       "      <th>spi</th>\n",
       "    </tr>\n",
       "  </thead>\n",
       "  <tbody>\n",
       "    <tr>\n",
       "      <th>0</th>\n",
       "      <td>1</td>\n",
       "      <td>Manchester City</td>\n",
       "      <td>Barclays Premier League</td>\n",
       "      <td>100.0</td>\n",
       "      <td>2.79</td>\n",
       "      <td>0.28</td>\n",
       "      <td>92.00</td>\n",
       "    </tr>\n",
       "    <tr>\n",
       "      <th>1</th>\n",
       "      <td>2</td>\n",
       "      <td>Liverpool</td>\n",
       "      <td>Barclays Premier League</td>\n",
       "      <td>94.1</td>\n",
       "      <td>2.63</td>\n",
       "      <td>0.67</td>\n",
       "      <td>83.93</td>\n",
       "    </tr>\n",
       "    <tr>\n",
       "      <th>2</th>\n",
       "      <td>3</td>\n",
       "      <td>Arsenal</td>\n",
       "      <td>Barclays Premier League</td>\n",
       "      <td>92.8</td>\n",
       "      <td>2.53</td>\n",
       "      <td>0.61</td>\n",
       "      <td>83.92</td>\n",
       "    </tr>\n",
       "    <tr>\n",
       "      <th>3</th>\n",
       "      <td>4</td>\n",
       "      <td>Manchester United</td>\n",
       "      <td>Barclays Premier League</td>\n",
       "      <td>92.3</td>\n",
       "      <td>2.35</td>\n",
       "      <td>0.74</td>\n",
       "      <td>79.08</td>\n",
       "    </tr>\n",
       "    <tr>\n",
       "      <th>4</th>\n",
       "      <td>5</td>\n",
       "      <td>Newcastle</td>\n",
       "      <td>Barclays Premier League</td>\n",
       "      <td>90.7</td>\n",
       "      <td>2.38</td>\n",
       "      <td>0.53</td>\n",
       "      <td>83.70</td>\n",
       "    </tr>\n",
       "  </tbody>\n",
       "</table>\n",
       "</div>"
      ],
      "text/plain": [
       "   rank               name                   league  rating   off   def    spi\n",
       "0     1    Manchester City  Barclays Premier League   100.0  2.79  0.28  92.00\n",
       "1     2          Liverpool  Barclays Premier League    94.1  2.63  0.67  83.93\n",
       "2     3            Arsenal  Barclays Premier League    92.8  2.53  0.61  83.92\n",
       "3     4  Manchester United  Barclays Premier League    92.3  2.35  0.74  79.08\n",
       "4     5          Newcastle  Barclays Premier League    90.7  2.38  0.53  83.70"
      ]
     },
     "execution_count": 33,
     "metadata": {},
     "output_type": "execute_result"
    }
   ],
   "source": [
    "data_path = os.path.join(current_directory + folder_raw)\n",
    "df_test_folder = pd.read_csv(data_path + '/team_ranks.csv')\n",
    "df_test_folder.head(5)"
   ]
  },
  {
   "cell_type": "code",
   "execution_count": 10,
   "metadata": {},
   "outputs": [
    {
     "data": {
      "text/html": [
       "<div>\n",
       "<style scoped>\n",
       "    .dataframe tbody tr th:only-of-type {\n",
       "        vertical-align: middle;\n",
       "    }\n",
       "\n",
       "    .dataframe tbody tr th {\n",
       "        vertical-align: top;\n",
       "    }\n",
       "\n",
       "    .dataframe thead th {\n",
       "        text-align: right;\n",
       "    }\n",
       "</style>\n",
       "<table border=\"1\" class=\"dataframe\">\n",
       "  <thead>\n",
       "    <tr style=\"text-align: right;\">\n",
       "      <th></th>\n",
       "      <th>index</th>\n",
       "      <th>second_name</th>\n",
       "      <th>first_name</th>\n",
       "      <th>team</th>\n",
       "      <th>element_type</th>\n",
       "      <th>selected_by_percent</th>\n",
       "      <th>now_cost</th>\n",
       "      <th>minutes</th>\n",
       "      <th>transfers_in</th>\n",
       "      <th>transfers_out</th>\n",
       "      <th>value_season</th>\n",
       "      <th>bonus</th>\n",
       "      <th>bps</th>\n",
       "      <th>total_points</th>\n",
       "      <th>expected_goals</th>\n",
       "      <th>expected_assists</th>\n",
       "      <th>expected_goal_involvements</th>\n",
       "      <th>expected_goals_conceded</th>\n",
       "      <th>expected_goals_per_90</th>\n",
       "      <th>expected_assists_per_90</th>\n",
       "      <th>expected_goal_involvements_per_90</th>\n",
       "      <th>expected_goals_conceded_per_90</th>\n",
       "      <th>id_x</th>\n",
       "      <th>plural_name</th>\n",
       "      <th>singular_name</th>\n",
       "      <th>pos_short</th>\n",
       "      <th>id_y</th>\n",
       "      <th>name</th>\n",
       "      <th>full_name</th>\n",
       "    </tr>\n",
       "  </thead>\n",
       "  <tbody>\n",
       "    <tr>\n",
       "      <th>0</th>\n",
       "      <td>0</td>\n",
       "      <td>Balogun</td>\n",
       "      <td>Folarin</td>\n",
       "      <td>1</td>\n",
       "      <td>4</td>\n",
       "      <td>0.3</td>\n",
       "      <td>44</td>\n",
       "      <td>0</td>\n",
       "      <td>10024</td>\n",
       "      <td>52995</td>\n",
       "      <td>0.0</td>\n",
       "      <td>0</td>\n",
       "      <td>0</td>\n",
       "      <td>0</td>\n",
       "      <td>0.00</td>\n",
       "      <td>0.00</td>\n",
       "      <td>0.00</td>\n",
       "      <td>0.00</td>\n",
       "      <td>0.00</td>\n",
       "      <td>0.00</td>\n",
       "      <td>0.00</td>\n",
       "      <td>0.00</td>\n",
       "      <td>4</td>\n",
       "      <td>Forwards</td>\n",
       "      <td>Forward</td>\n",
       "      <td>FW</td>\n",
       "      <td>1</td>\n",
       "      <td>Arsenal</td>\n",
       "      <td>Folarin Balogun</td>\n",
       "    </tr>\n",
       "    <tr>\n",
       "      <th>1</th>\n",
       "      <td>1</td>\n",
       "      <td>Alves Soares</td>\n",
       "      <td>Cedric</td>\n",
       "      <td>1</td>\n",
       "      <td>2</td>\n",
       "      <td>0.4</td>\n",
       "      <td>39</td>\n",
       "      <td>0</td>\n",
       "      <td>13536</td>\n",
       "      <td>18554</td>\n",
       "      <td>0.0</td>\n",
       "      <td>0</td>\n",
       "      <td>0</td>\n",
       "      <td>0</td>\n",
       "      <td>0.00</td>\n",
       "      <td>0.00</td>\n",
       "      <td>0.00</td>\n",
       "      <td>0.00</td>\n",
       "      <td>0.00</td>\n",
       "      <td>0.00</td>\n",
       "      <td>0.00</td>\n",
       "      <td>0.00</td>\n",
       "      <td>2</td>\n",
       "      <td>Defenders</td>\n",
       "      <td>Defender</td>\n",
       "      <td>DF</td>\n",
       "      <td>1</td>\n",
       "      <td>Arsenal</td>\n",
       "      <td>Cedric Alves Soares</td>\n",
       "    </tr>\n",
       "    <tr>\n",
       "      <th>2</th>\n",
       "      <td>2</td>\n",
       "      <td>Elneny</td>\n",
       "      <td>Mohamed</td>\n",
       "      <td>1</td>\n",
       "      <td>3</td>\n",
       "      <td>0.1</td>\n",
       "      <td>44</td>\n",
       "      <td>0</td>\n",
       "      <td>5135</td>\n",
       "      <td>9838</td>\n",
       "      <td>0.0</td>\n",
       "      <td>0</td>\n",
       "      <td>0</td>\n",
       "      <td>0</td>\n",
       "      <td>0.00</td>\n",
       "      <td>0.00</td>\n",
       "      <td>0.00</td>\n",
       "      <td>0.00</td>\n",
       "      <td>0.00</td>\n",
       "      <td>0.00</td>\n",
       "      <td>0.00</td>\n",
       "      <td>0.00</td>\n",
       "      <td>3</td>\n",
       "      <td>Midfielders</td>\n",
       "      <td>Midfielder</td>\n",
       "      <td>MF</td>\n",
       "      <td>1</td>\n",
       "      <td>Arsenal</td>\n",
       "      <td>Mohamed Elneny</td>\n",
       "    </tr>\n",
       "    <tr>\n",
       "      <th>3</th>\n",
       "      <td>3</td>\n",
       "      <td>Ferreira Vieira</td>\n",
       "      <td>Fabio</td>\n",
       "      <td>1</td>\n",
       "      <td>3</td>\n",
       "      <td>0.1</td>\n",
       "      <td>54</td>\n",
       "      <td>185</td>\n",
       "      <td>8971</td>\n",
       "      <td>9951</td>\n",
       "      <td>3.0</td>\n",
       "      <td>0</td>\n",
       "      <td>45</td>\n",
       "      <td>16</td>\n",
       "      <td>0.41</td>\n",
       "      <td>0.32</td>\n",
       "      <td>0.73</td>\n",
       "      <td>1.41</td>\n",
       "      <td>0.20</td>\n",
       "      <td>0.16</td>\n",
       "      <td>0.36</td>\n",
       "      <td>0.69</td>\n",
       "      <td>3</td>\n",
       "      <td>Midfielders</td>\n",
       "      <td>Midfielder</td>\n",
       "      <td>MF</td>\n",
       "      <td>1</td>\n",
       "      <td>Arsenal</td>\n",
       "      <td>Fabio Vieira</td>\n",
       "    </tr>\n",
       "    <tr>\n",
       "      <th>4</th>\n",
       "      <td>4</td>\n",
       "      <td>dos Santos Magalhaes</td>\n",
       "      <td>Gabriel</td>\n",
       "      <td>1</td>\n",
       "      <td>2</td>\n",
       "      <td>12.7</td>\n",
       "      <td>47</td>\n",
       "      <td>384</td>\n",
       "      <td>228409</td>\n",
       "      <td>1885273</td>\n",
       "      <td>3.4</td>\n",
       "      <td>0</td>\n",
       "      <td>82</td>\n",
       "      <td>16</td>\n",
       "      <td>0.07</td>\n",
       "      <td>0.04</td>\n",
       "      <td>0.11</td>\n",
       "      <td>4.20</td>\n",
       "      <td>0.02</td>\n",
       "      <td>0.01</td>\n",
       "      <td>0.03</td>\n",
       "      <td>0.98</td>\n",
       "      <td>2</td>\n",
       "      <td>Defenders</td>\n",
       "      <td>Defender</td>\n",
       "      <td>DF</td>\n",
       "      <td>1</td>\n",
       "      <td>Arsenal</td>\n",
       "      <td>Gabriel Dos Santos</td>\n",
       "    </tr>\n",
       "    <tr>\n",
       "      <th>5</th>\n",
       "      <td>5</td>\n",
       "      <td>Havertz</td>\n",
       "      <td>Kai</td>\n",
       "      <td>1</td>\n",
       "      <td>3</td>\n",
       "      <td>1.7</td>\n",
       "      <td>71</td>\n",
       "      <td>446</td>\n",
       "      <td>25572</td>\n",
       "      <td>316855</td>\n",
       "      <td>2.1</td>\n",
       "      <td>0</td>\n",
       "      <td>38</td>\n",
       "      <td>15</td>\n",
       "      <td>1.58</td>\n",
       "      <td>0.50</td>\n",
       "      <td>2.08</td>\n",
       "      <td>4.82</td>\n",
       "      <td>0.32</td>\n",
       "      <td>0.10</td>\n",
       "      <td>0.42</td>\n",
       "      <td>0.97</td>\n",
       "      <td>3</td>\n",
       "      <td>Midfielders</td>\n",
       "      <td>Midfielder</td>\n",
       "      <td>MF</td>\n",
       "      <td>1</td>\n",
       "      <td>Arsenal</td>\n",
       "      <td>Kai Havertz</td>\n",
       "    </tr>\n",
       "  </tbody>\n",
       "</table>\n",
       "</div>"
      ],
      "text/plain": [
       "   index           second_name first_name  team  element_type  \\\n",
       "0      0               Balogun    Folarin     1             4   \n",
       "1      1          Alves Soares     Cedric     1             2   \n",
       "2      2                Elneny    Mohamed     1             3   \n",
       "3      3       Ferreira Vieira      Fabio     1             3   \n",
       "4      4  dos Santos Magalhaes    Gabriel     1             2   \n",
       "5      5               Havertz        Kai     1             3   \n",
       "\n",
       "  selected_by_percent  now_cost  minutes  transfers_in  transfers_out  \\\n",
       "0                 0.3        44        0         10024          52995   \n",
       "1                 0.4        39        0         13536          18554   \n",
       "2                 0.1        44        0          5135           9838   \n",
       "3                 0.1        54      185          8971           9951   \n",
       "4                12.7        47      384        228409        1885273   \n",
       "5                 1.7        71      446         25572         316855   \n",
       "\n",
       "  value_season  bonus  bps  total_points expected_goals expected_assists  \\\n",
       "0          0.0      0    0             0           0.00             0.00   \n",
       "1          0.0      0    0             0           0.00             0.00   \n",
       "2          0.0      0    0             0           0.00             0.00   \n",
       "3          3.0      0   45            16           0.41             0.32   \n",
       "4          3.4      0   82            16           0.07             0.04   \n",
       "5          2.1      0   38            15           1.58             0.50   \n",
       "\n",
       "  expected_goal_involvements expected_goals_conceded  expected_goals_per_90  \\\n",
       "0                       0.00                    0.00                   0.00   \n",
       "1                       0.00                    0.00                   0.00   \n",
       "2                       0.00                    0.00                   0.00   \n",
       "3                       0.73                    1.41                   0.20   \n",
       "4                       0.11                    4.20                   0.02   \n",
       "5                       2.08                    4.82                   0.32   \n",
       "\n",
       "   expected_assists_per_90  expected_goal_involvements_per_90  \\\n",
       "0                     0.00                               0.00   \n",
       "1                     0.00                               0.00   \n",
       "2                     0.00                               0.00   \n",
       "3                     0.16                               0.36   \n",
       "4                     0.01                               0.03   \n",
       "5                     0.10                               0.42   \n",
       "\n",
       "   expected_goals_conceded_per_90  id_x  plural_name singular_name pos_short  \\\n",
       "0                            0.00     4     Forwards       Forward        FW   \n",
       "1                            0.00     2    Defenders      Defender        DF   \n",
       "2                            0.00     3  Midfielders    Midfielder        MF   \n",
       "3                            0.69     3  Midfielders    Midfielder        MF   \n",
       "4                            0.98     2    Defenders      Defender        DF   \n",
       "5                            0.97     3  Midfielders    Midfielder        MF   \n",
       "\n",
       "   id_y     name            full_name  \n",
       "0     1  Arsenal      Folarin Balogun  \n",
       "1     1  Arsenal  Cedric Alves Soares  \n",
       "2     1  Arsenal       Mohamed Elneny  \n",
       "3     1  Arsenal         Fabio Vieira  \n",
       "4     1  Arsenal   Gabriel Dos Santos  \n",
       "5     1  Arsenal          Kai Havertz  "
      ]
     },
     "execution_count": 10,
     "metadata": {},
     "output_type": "execute_result"
    }
   ],
   "source": [
    "pd.set_option('display.max_columns', None)\n",
    "df_fpl.head(6)\n",
    "# selected_by_percent\n",
    "# total_points"
   ]
  },
  {
   "cell_type": "code",
   "execution_count": 17,
   "metadata": {},
   "outputs": [
    {
     "name": "stderr",
     "output_type": "stream",
     "text": [
      "/Users/richard/opt/anaconda3/lib/python3.9/site-packages/seaborn/_decorators.py:36: FutureWarning: Pass the following variables as keyword args: x, y. From version 0.12, the only valid positional argument will be `data`, and passing other arguments without an explicit keyword will result in an error or misinterpretation.\n",
      "  warnings.warn(\n"
     ]
    },
    {
     "data": {
      "image/png": "[encoded data removed]",
      "text/plain": [
       "<Figure size 720x432 with 1 Axes>"
      ]
     },
     "metadata": {
      "needs_background": "light"
     },
     "output_type": "display_data"
    }
   ],
   "source": [
    "# df_fpl.head(6)\n",
    "# selected_by_percent\n",
    "# total_points\n",
    "\n",
    "\n",
    "df_fpl['selected_by_percent'] = pd.to_numeric(df_fpl['selected_by_percent']) #.astype(int)\n",
    "\n",
    "plt.figure(figsize=(10, 6))\n",
    "sns.scatterplot(df_fpl['selected_by_percent'], df_fpl['total_points'], s=100) #, hue=df_fpl['full_name']\n",
    "plt.xlabel('Ownership')\n",
    "plt.ylabel('Gameweek Points')\n",
    "plt.title('Differentials and essentials')\n",
    "plt.show()"
   ]
  },
  {
   "cell_type": "code",
   "execution_count": 23,
   "metadata": {},
   "outputs": [
    {
     "name": "stderr",
     "output_type": "stream",
     "text": [
      "/Users/richard/opt/anaconda3/lib/python3.9/site-packages/seaborn/_decorators.py:36: FutureWarning: Pass the following variables as keyword args: x, y. From version 0.12, the only valid positional argument will be `data`, and passing other arguments without an explicit keyword will result in an error or misinterpretation.\n",
      "  warnings.warn(\n"
     ]
    },
    {
     "data": {
      "image/png": "[encoded data removed]",
      "text/plain": [
       "<Figure size 720x432 with 1 Axes>"
      ]
     },
     "metadata": {
      "needs_background": "light"
     },
     "output_type": "display_data"
    }
   ],
   "source": [
    "players = ['Son', 'Sterling', 'Fernandes', 'Beckham']\n",
    "transfers = [1372000, -3005000, -130000, -10000]\n",
    "\n",
    "plt.figure(figsize=(10, 6))\n",
    "sns.barplot(players, transfers, palette='coolwarm')\n",
    "plt.xlabel('Players')\n",
    "plt.ylabel('Transfers')\n",
    "plt.title('Top pre-gameweek moves')\n",
    "plt.show()"
   ]
  },
  {
   "cell_type": "code",
   "execution_count": 19,
   "metadata": {},
   "outputs": [
    {
     "data": {
      "image/png": "[encoded data removed]",
      "text/plain": [
       "<Figure size 720x432 with 1 Axes>"
      ]
     },
     "metadata": {
      "needs_background": "light"
     },
     "output_type": "display_data"
    }
   ],
   "source": [
    "players = ['Isak', 'Doucoure', 'Mendes']\n",
    "xg_values = [1.0, 0.8, 0.9]\n",
    "xa_values = [0.5, 0.4, 0.3]\n",
    "\n",
    "plt.figure(figsize=(10, 6))\n",
    "for player, xg, xa in zip(players, xg_values, xa_values):\n",
    "    plt.plot([xg, xa], [player, player], marker='o')\n",
    "plt.xlabel('xG + xA')\n",
    "plt.title('Great expectations: Non-penalty xG + xA')\n",
    "plt.show()"
   ]
  },
  {
   "cell_type": "code",
   "execution_count": 24,
   "metadata": {},
   "outputs": [
    {
     "data": {
      "image/png": "[encoded data removed]",
      "text/plain": [
       "<Figure size 576x432 with 2 Axes>"
      ]
     },
     "metadata": {
      "needs_background": "light"
     },
     "output_type": "display_data"
    }
   ],
   "source": [
    "data = {\n",
    "    'Goalkeepers': [2, 3, 2, 3],\n",
    "    'Defenders': [5, 6, 5, 7],\n",
    "    'Midfielders': [10, 12, 11, 13],\n",
    "    'Forwards': [3, 4, 3, 5]\n",
    "}\n",
    "gameweeks = [5, 6, 7, 8]\n",
    "\n",
    "heatmap_data = pd.DataFrame(data, index=gameweeks)\n",
    "plt.figure(figsize=(8, 6))\n",
    "sns.heatmap(heatmap_data, cmap='coolwarm', annot=True)\n",
    "plt.title('Points share')\n",
    "plt.show()"
   ]
  },
  {
   "cell_type": "code",
   "execution_count": 25,
   "metadata": {},
   "outputs": [
    {
     "data": {
      "image/png": "[encoded data removed]",
      "text/plain": [
       "<Figure size 864x1080 with 1 Axes>"
      ]
     },
     "metadata": {
      "needs_background": "light"
     },
     "output_type": "display_data"
    }
   ],
   "source": [
    "import matplotlib.pyplot as plt\n",
    "\n",
    "# Sample Data\n",
    "players = [\n",
    "    \"Thierry Henry\", \"Sergio Agüero\", \"Mohamed Salah\",\n",
    "    # ... (add other players here)\n",
    "    \"James Maddison\", \"Theo Walcott\"\n",
    "]\n",
    "\n",
    "# Just for this example, I'm assuming the first value is non-penalty goals \n",
    "# and the second value is assists. You'll need to adjust these.\n",
    "non_penalty_goals = [0.85, 0.83, 0.76, 0.52, 0.47]\n",
    "assists = [0.10, 0.10, 0.10, 0.01, 0.05]\n",
    "\n",
    "# Plotting\n",
    "fig, ax = plt.subplots(figsize=(12, 15))\n",
    "\n",
    "# Stacked Bar Chart\n",
    "ax.barh(players, non_penalty_goals, color='#7a5195', label='Non-Penalty Goals per 90', edgecolor='black')\n",
    "ax.barh(players, assists, left=non_penalty_goals, color='#003f5c', label='Assists per 90', edgecolor='black')\n",
    "\n",
    "# Invert y-axis to have the player with the highest value on top\n",
    "ax.invert_yaxis()\n",
    "\n",
    "# Setting title and labels\n",
    "ax.set_title(\"NON-PENALTY GOALS + ASSISTS PER 90\\nPremier League | 99/00 - 22/23 |>10k min\", fontsize=16, fontweight='bold', pad=20)\n",
    "ax.set_xlabel(\"Non-Penalty Goals + Assists per 90\", fontsize=14)\n",
    "\n",
    "# Remove y-ticks\n",
    "ax.tick_params(axis='y', which='both', length=0)\n",
    "ax.grid(axis='x')\n",
    "\n",
    "# Display the combined values next to the bars\n",
    "for i, (g, a) in enumerate(zip(non_penalty_goals, assists)):\n",
    "    ax.text(g + a + 0.01, i, \n",
    "            f\"{g + a:.2f}\", va='center', ha='left', fontsize=12, fontweight='bold', color='black')\n",
    "\n",
    "plt.tight_layout()\n",
    "plt.show()\n"
   ]
  },
  {
   "cell_type": "code",
   "execution_count": 27,
   "metadata": {},
   "outputs": [
    {
     "data": {
      "application/vnd.plotly.v1+json": {
       "config": {
        "plotlyServerURL": "https://plot.ly"
       },
       "data": [
        {
         "colorbar": {
          "title": {
           "text": "Points"
          }
         },
         "colorscale": [
          [
           0,
           "rgb(255,245,240)"
          ],
          [
           0.125,
           "rgb(254,224,210)"
          ],
          [
           0.25,
           "rgb(252,187,161)"
          ],
          [
           0.375,
           "rgb(252,146,114)"
          ],
          [
           0.5,
           "rgb(251,106,74)"
          ],
          [
           0.625,
           "rgb(239,59,44)"
          ],
          [
           0.75,
           "rgb(203,24,29)"
          ],
          [
           0.875,
           "rgb(165,15,21)"
          ],
          [
           1,
           "rgb(103,0,13)"
          ]
         ],
         "hoverongaps": false,
         "type": "heatmap",
         "x": [
          "2",
          "4",
          "6",
          "8"
         ],
         "y": [
          "Joachim Andersen (51 points)",
          "Kieran Trippier (49 points)",
          "Benjamin White (45 points)",
          "William Saliba (36 points)",
          "Matty Cash (36 points)",
          "Cristian Romero (36 points)",
          "Marc Guéhi (35 points)",
          "Tyrick Mitchell (34 points)",
          "Micky van de Ven (34 points)",
          "Axel Disasi (34 points)",
          "Vladimir Coufal (33 points)",
          "Levi Colwill (33 points)",
          "Pedro Porro (32 points)",
          "Destiny Udogie (32 points)",
          "Pau Torres (31 points)",
          "Kyle Walker (31 points)"
         ],
         "z": [
          [
           9,
           2,
           11,
           1,
           1,
           6,
           15,
           6
          ],
          [
           2,
           2,
           0,
           1,
           8,
           18,
           12,
           6
          ],
          [
           1,
           7,
           1,
           2,
           7,
           4,
           14,
           9
          ],
          [
           5,
           8,
           1,
           2,
           6,
           1,
           6,
           7
          ],
          [
           -1,
           6,
           17,
           -1,
           1,
           6,
           6,
           2
          ],
          [
           7,
           6,
           7,
           7,
           2,
           -2,
           1,
           8
          ],
          [
           6,
           2,
           2,
           1,
           0,
           8,
           7,
           9
          ],
          [
           8,
           2,
           2,
           4,
           1,
           5,
           6,
           6
          ],
          [
           1,
           7,
           6,
           1,
           1,
           1,
           2,
           15
          ],
          [
           11,
           0,
           6,
           2,
           5,
           2,
           6,
           2
          ],
          [
           2,
           2,
           2,
           2,
           4,
           12,
           5,
           5
          ],
          [
           2,
           2,
           1,
           6,
           2,
           6,
           2,
           12
          ],
          [
           0,
           1,
           6,
           6,
           4,
           2,
           1,
           7
          ],
          [
           1,
           1,
           5,
           12,
           5,
           2,
           0,
           1
          ],
          [
           0,
           0,
           6,
           2,
           1,
           2,
           8,
           2
          ],
          [
           6,
           6,
           6,
           2,
           2,
           2,
           11,
           0
          ]
         ]
        }
       ],
       "layout": {
        "template": {
         "data": {
          "bar": [
           {
            "error_x": {
             "color": "#2a3f5f"
            },
            "error_y": {
             "color": "#2a3f5f"
            },
            "marker": {
             "line": {
              "color": "#E5ECF6",
              "width": 0.5
             },
             "pattern": {
              "fillmode": "overlay",
              "size": 10,
              "solidity": 0.2
             }
            },
            "type": "bar"
           }
          ],
          "barpolar": [
           {
            "marker": {
             "line": {
              "color": "#E5ECF6",
              "width": 0.5
             },
             "pattern": {
              "fillmode": "overlay",
              "size": 10,
              "solidity": 0.2
             }
            },
            "type": "barpolar"
           }
          ],
          "carpet": [
           {
            "aaxis": {
             "endlinecolor": "#2a3f5f",
             "gridcolor": "white",
             "linecolor": "white",
             "minorgridcolor": "white",
             "startlinecolor": "#2a3f5f"
            },
            "baxis": {
             "endlinecolor": "#2a3f5f",
             "gridcolor": "white",
             "linecolor": "white",
             "minorgridcolor": "white",
             "startlinecolor": "#2a3f5f"
            },
            "type": "carpet"
           }
          ],
          "choropleth": [
           {
            "colorbar": {
             "outlinewidth": 0,
             "ticks": ""
            },
            "type": "choropleth"
           }
          ],
          "contour": [
           {
            "colorbar": {
             "outlinewidth": 0,
             "ticks": ""
            },
            "colorscale": [
             [
              0,
              "#0d0887"
             ],
             [
              0.1111111111111111,
              "#46039f"
             ],
             [
              0.2222222222222222,
              "#7201a8"
             ],
             [
              0.3333333333333333,
              "#9c179e"
             ],
             [
              0.4444444444444444,
              "#bd3786"
             ],
             [
              0.5555555555555556,
              "#d8576b"
             ],
             [
              0.6666666666666666,
              "#ed7953"
             ],
             [
              0.7777777777777778,
              "#fb9f3a"
             ],
             [
              0.8888888888888888,
              "#fdca26"
             ],
             [
              1,
              "#f0f921"
             ]
            ],
            "type": "contour"
           }
          ],
          "contourcarpet": [
           {
            "colorbar": {
             "outlinewidth": 0,
             "ticks": ""
            },
            "type": "contourcarpet"
           }
          ],
          "heatmap": [
           {
            "colorbar": {
             "outlinewidth": 0,
             "ticks": ""
            },
            "colorscale": [
             [
              0,
              "#0d0887"
             ],
             [
              0.1111111111111111,
              "#46039f"
             ],
             [
              0.2222222222222222,
              "#7201a8"
             ],
             [
              0.3333333333333333,
              "#9c179e"
             ],
             [
              0.4444444444444444,
              "#bd3786"
             ],
             [
              0.5555555555555556,
              "#d8576b"
             ],
             [
              0.6666666666666666,
              "#ed7953"
             ],
             [
              0.7777777777777778,
              "#fb9f3a"
             ],
             [
              0.8888888888888888,
              "#fdca26"
             ],
             [
              1,
              "#f0f921"
             ]
            ],
            "type": "heatmap"
           }
          ],
          "heatmapgl": [
           {
            "colorbar": {
             "outlinewidth": 0,
             "ticks": ""
            },
            "colorscale": [
             [
              0,
              "#0d0887"
             ],
             [
              0.1111111111111111,
              "#46039f"
             ],
             [
              0.2222222222222222,
              "#7201a8"
             ],
             [
              0.3333333333333333,
              "#9c179e"
             ],
             [
              0.4444444444444444,
              "#bd3786"
             ],
             [
              0.5555555555555556,
              "#d8576b"
             ],
             [
              0.6666666666666666,
              "#ed7953"
             ],
             [
              0.7777777777777778,
              "#fb9f3a"
             ],
             [
              0.8888888888888888,
              "#fdca26"
             ],
             [
              1,
              "#f0f921"
             ]
            ],
            "type": "heatmapgl"
           }
          ],
          "histogram": [
           {
            "marker": {
             "pattern": {
              "fillmode": "overlay",
              "size": 10,
              "solidity": 0.2
             }
            },
            "type": "histogram"
           }
          ],
          "histogram2d": [
           {
            "colorbar": {
             "outlinewidth": 0,
             "ticks": ""
            },
            "colorscale": [
             [
              0,
              "#0d0887"
             ],
             [
              0.1111111111111111,
              "#46039f"
             ],
             [
              0.2222222222222222,
              "#7201a8"
             ],
             [
              0.3333333333333333,
              "#9c179e"
             ],
             [
              0.4444444444444444,
              "#bd3786"
             ],
             [
              0.5555555555555556,
              "#d8576b"
             ],
             [
              0.6666666666666666,
              "#ed7953"
             ],
             [
              0.7777777777777778,
              "#fb9f3a"
             ],
             [
              0.8888888888888888,
              "#fdca26"
             ],
             [
              1,
              "#f0f921"
             ]
            ],
            "type": "histogram2d"
           }
          ],
          "histogram2dcontour": [
           {
            "colorbar": {
             "outlinewidth": 0,
             "ticks": ""
            },
            "colorscale": [
             [
              0,
              "#0d0887"
             ],
             [
              0.1111111111111111,
              "#46039f"
             ],
             [
              0.2222222222222222,
              "#7201a8"
             ],
             [
              0.3333333333333333,
              "#9c179e"
             ],
             [
              0.4444444444444444,
              "#bd3786"
             ],
             [
              0.5555555555555556,
              "#d8576b"
             ],
             [
              0.6666666666666666,
              "#ed7953"
             ],
             [
              0.7777777777777778,
              "#fb9f3a"
             ],
             [
              0.8888888888888888,
              "#fdca26"
             ],
             [
              1,
              "#f0f921"
             ]
            ],
            "type": "histogram2dcontour"
           }
          ],
          "mesh3d": [
           {
            "colorbar": {
             "outlinewidth": 0,
             "ticks": ""
            },
            "type": "mesh3d"
           }
          ],
          "parcoords": [
           {
            "line": {
             "colorbar": {
              "outlinewidth": 0,
              "ticks": ""
             }
            },
            "type": "parcoords"
           }
          ],
          "pie": [
           {
            "automargin": true,
            "type": "pie"
           }
          ],
          "scatter": [
           {
            "marker": {
             "colorbar": {
              "outlinewidth": 0,
              "ticks": ""
             }
            },
            "type": "scatter"
           }
          ],
          "scatter3d": [
           {
            "line": {
             "colorbar": {
              "outlinewidth": 0,
              "ticks": ""
             }
            },
            "marker": {
             "colorbar": {
              "outlinewidth": 0,
              "ticks": ""
             }
            },
            "type": "scatter3d"
           }
          ],
          "scattercarpet": [
           {
            "marker": {
             "colorbar": {
              "outlinewidth": 0,
              "ticks": ""
             }
            },
            "type": "scattercarpet"
           }
          ],
          "scattergeo": [
           {
            "marker": {
             "colorbar": {
              "outlinewidth": 0,
              "ticks": ""
             }
            },
            "type": "scattergeo"
           }
          ],
          "scattergl": [
           {
            "marker": {
             "colorbar": {
              "outlinewidth": 0,
              "ticks": ""
             }
            },
            "type": "scattergl"
           }
          ],
          "scattermapbox": [
           {
            "marker": {
             "colorbar": {
              "outlinewidth": 0,
              "ticks": ""
             }
            },
            "type": "scattermapbox"
           }
          ],
          "scatterpolar": [
           {
            "marker": {
             "colorbar": {
              "outlinewidth": 0,
              "ticks": ""
             }
            },
            "type": "scatterpolar"
           }
          ],
          "scatterpolargl": [
           {
            "marker": {
             "colorbar": {
              "outlinewidth": 0,
              "ticks": ""
             }
            },
            "type": "scatterpolargl"
           }
          ],
          "scatterternary": [
           {
            "marker": {
             "colorbar": {
              "outlinewidth": 0,
              "ticks": ""
             }
            },
            "type": "scatterternary"
           }
          ],
          "surface": [
           {
            "colorbar": {
             "outlinewidth": 0,
             "ticks": ""
            },
            "colorscale": [
             [
              0,
              "#0d0887"
             ],
             [
              0.1111111111111111,
              "#46039f"
             ],
             [
              0.2222222222222222,
              "#7201a8"
             ],
             [
              0.3333333333333333,
              "#9c179e"
             ],
             [
              0.4444444444444444,
              "#bd3786"
             ],
             [
              0.5555555555555556,
              "#d8576b"
             ],
             [
              0.6666666666666666,
              "#ed7953"
             ],
             [
              0.7777777777777778,
              "#fb9f3a"
             ],
             [
              0.8888888888888888,
              "#fdca26"
             ],
             [
              1,
              "#f0f921"
             ]
            ],
            "type": "surface"
           }
          ],
          "table": [
           {
            "cells": {
             "fill": {
              "color": "#EBF0F8"
             },
             "line": {
              "color": "white"
             }
            },
            "header": {
             "fill": {
              "color": "#C8D4E3"
             },
             "line": {
              "color": "white"
             }
            },
            "type": "table"
           }
          ]
         },
         "layout": {
          "annotationdefaults": {
           "arrowcolor": "#2a3f5f",
           "arrowhead": 0,
           "arrowwidth": 1
          },
          "autotypenumbers": "strict",
          "coloraxis": {
           "colorbar": {
            "outlinewidth": 0,
            "ticks": ""
           }
          },
          "colorscale": {
           "diverging": [
            [
             0,
             "#8e0152"
            ],
            [
             0.1,
             "#c51b7d"
            ],
            [
             0.2,
             "#de77ae"
            ],
            [
             0.3,
             "#f1b6da"
            ],
            [
             0.4,
             "#fde0ef"
            ],
            [
             0.5,
             "#f7f7f7"
            ],
            [
             0.6,
             "#e6f5d0"
            ],
            [
             0.7,
             "#b8e186"
            ],
            [
             0.8,
             "#7fbc41"
            ],
            [
             0.9,
             "#4d9221"
            ],
            [
             1,
             "#276419"
            ]
           ],
           "sequential": [
            [
             0,
             "#0d0887"
            ],
            [
             0.1111111111111111,
             "#46039f"
            ],
            [
             0.2222222222222222,
             "#7201a8"
            ],
            [
             0.3333333333333333,
             "#9c179e"
            ],
            [
             0.4444444444444444,
             "#bd3786"
            ],
            [
             0.5555555555555556,
             "#d8576b"
            ],
            [
             0.6666666666666666,
             "#ed7953"
            ],
            [
             0.7777777777777778,
             "#fb9f3a"
            ],
            [
             0.8888888888888888,
             "#fdca26"
            ],
            [
             1,
             "#f0f921"
            ]
           ],
           "sequentialminus": [
            [
             0,
             "#0d0887"
            ],
            [
             0.1111111111111111,
             "#46039f"
            ],
            [
             0.2222222222222222,
             "#7201a8"
            ],
            [
             0.3333333333333333,
             "#9c179e"
            ],
            [
             0.4444444444444444,
             "#bd3786"
            ],
            [
             0.5555555555555556,
             "#d8576b"
            ],
            [
             0.6666666666666666,
             "#ed7953"
            ],
            [
             0.7777777777777778,
             "#fb9f3a"
            ],
            [
             0.8888888888888888,
             "#fdca26"
            ],
            [
             1,
             "#f0f921"
            ]
           ]
          },
          "colorway": [
           "#636efa",
           "#EF553B",
           "#00cc96",
           "#ab63fa",
           "#FFA15A",
           "#19d3f3",
           "#FF6692",
           "#B6E880",
           "#FF97FF",
           "#FECB52"
          ],
          "font": {
           "color": "#2a3f5f"
          },
          "geo": {
           "bgcolor": "white",
           "lakecolor": "white",
           "landcolor": "#E5ECF6",
           "showlakes": true,
           "showland": true,
           "subunitcolor": "white"
          },
          "hoverlabel": {
           "align": "left"
          },
          "hovermode": "closest",
          "mapbox": {
           "style": "light"
          },
          "paper_bgcolor": "white",
          "plot_bgcolor": "#E5ECF6",
          "polar": {
           "angularaxis": {
            "gridcolor": "white",
            "linecolor": "white",
            "ticks": ""
           },
           "bgcolor": "#E5ECF6",
           "radialaxis": {
            "gridcolor": "white",
            "linecolor": "white",
            "ticks": ""
           }
          },
          "scene": {
           "xaxis": {
            "backgroundcolor": "#E5ECF6",
            "gridcolor": "white",
            "gridwidth": 2,
            "linecolor": "white",
            "showbackground": true,
            "ticks": "",
            "zerolinecolor": "white"
           },
           "yaxis": {
            "backgroundcolor": "#E5ECF6",
            "gridcolor": "white",
            "gridwidth": 2,
            "linecolor": "white",
            "showbackground": true,
            "ticks": "",
            "zerolinecolor": "white"
           },
           "zaxis": {
            "backgroundcolor": "#E5ECF6",
            "gridcolor": "white",
            "gridwidth": 2,
            "linecolor": "white",
            "showbackground": true,
            "ticks": "",
            "zerolinecolor": "white"
           }
          },
          "shapedefaults": {
           "line": {
            "color": "#2a3f5f"
           }
          },
          "ternary": {
           "aaxis": {
            "gridcolor": "white",
            "linecolor": "white",
            "ticks": ""
           },
           "baxis": {
            "gridcolor": "white",
            "linecolor": "white",
            "ticks": ""
           },
           "bgcolor": "#E5ECF6",
           "caxis": {
            "gridcolor": "white",
            "linecolor": "white",
            "ticks": ""
           }
          },
          "title": {
           "x": 0.05
          },
          "xaxis": {
           "automargin": true,
           "gridcolor": "white",
           "linecolor": "white",
           "ticks": "",
           "title": {
            "standoff": 15
           },
           "zerolinecolor": "white",
           "zerolinewidth": 2
          },
          "yaxis": {
           "automargin": true,
           "gridcolor": "white",
           "linecolor": "white",
           "ticks": "",
           "title": {
            "standoff": 15
           },
           "zerolinecolor": "white",
           "zerolinewidth": 2
          }
         }
        },
        "title": {
         "text": "Points by gameweek: Defenders with over 30 points"
        },
        "xaxis": {
         "nticks": 4,
         "title": {
          "text": "Gameweek"
         }
        },
        "yaxis": {
         "nticks": 16,
         "title": {}
        }
       }
      }
     },
     "metadata": {},
     "output_type": "display_data"
    }
   ],
   "source": [
    "import plotly.graph_objects as go\n",
    "\n",
    "# Data\n",
    "players = [\n",
    "    \"Joachim Andersen\", \"Kieran Trippier\", \"Benjamin White\",\n",
    "    \"William Saliba\", \"Matty Cash\", \"Cristian Romero\",\n",
    "    \"Marc Guéhi\", \"Tyrick Mitchell\", \"Micky van de Ven\",\n",
    "    \"Axel Disasi\", \"Vladimir Coufal\", \"Levi Colwill\",\n",
    "    \"Pedro Porro\", \"Destiny Udogie\", \"Pau Torres\", \"Kyle Walker\"\n",
    "]\n",
    "points = [51, 49, 45, 36, 36, 36, 35, 34, 34, 34, 33, 33, 32, 32, 31, 31]\n",
    "\n",
    "gameweeks = [\"2\", \"4\", \"6\", \"8\"]\n",
    "scores = [\n",
    "    [9, 2, 11, 1, 1, 6, 15, 6],\n",
    "    [2, 2, 0, 1, 8, 18, 12, 6],\n",
    "    [1, 7, 1, 2, 7, 4, 14, 9],\n",
    "    [5, 8, 1, 2, 6, 1, 6, 7],\n",
    "    [-1, 6, 17, -1, 1, 6, 6, 2],\n",
    "    [7, 6, 7, 7, 2, -2, 1, 8],\n",
    "    [6, 2, 2, 1, 0, 8, 7, 9],\n",
    "    [8, 2, 2, 4, 1, 5, 6, 6],\n",
    "    [1, 7, 6, 1, 1, 1, 2, 15],\n",
    "    [11, 0, 6, 2, 5, 2, 6, 2],\n",
    "    [2, 2, 2, 2, 4, 12, 5, 5],\n",
    "    [2, 2, 1, 6, 2, 6, 2, 12],\n",
    "    [0, 1, 6, 6, 4, 2, 1, 7],\n",
    "    [1, 1, 5, 12, 5, 2, 0, 1],\n",
    "    [0, 0, 6, 2, 1, 2, 8, 2],\n",
    "    [6, 6, 6, 2, 2, 2, 11, 0]\n",
    "]\n",
    "\n",
    "# Creating the heatmap\n",
    "fig = go.Figure(data=go.Heatmap(\n",
    "    z=scores,\n",
    "    x=gameweeks,\n",
    "    y=[f\"{player} ({point} points)\" for player, point in zip(players, points)],\n",
    "    hoverongaps=False,\n",
    "    colorscale=\"reds\",\n",
    "    colorbar=dict(title='Points')\n",
    "))\n",
    "\n",
    "fig.update_layout(\n",
    "    title=\"Points by gameweek: Defenders with over 30 points\",\n",
    "    xaxis_nticks=len(gameweeks),\n",
    "    yaxis_nticks=len(players),\n",
    "    xaxis_title=\"Gameweek\",\n",
    "    yaxis_title=None,\n",
    ")\n",
    "\n",
    "fig.show()\n"
   ]
  },
  {
   "cell_type": "code",
   "execution_count": 31,
   "metadata": {},
   "outputs": [
    {
     "data": {
      "image/png": "[encoded data removed]",
      "text/plain": [
       "<Figure size 864x432 with 1 Axes>"
      ]
     },
     "metadata": {
      "needs_background": "light"
     },
     "output_type": "display_data"
    }
   ],
   "source": [
    "import pandas as pd\n",
    "import seaborn as sns\n",
    "import matplotlib.pyplot as plt\n",
    "\n",
    "# Data setup\n",
    "players = [\n",
    "    \"Joachim Andersen (51 points)\",\n",
    "    \"Kieran Trippier (49 points)\",\n",
    "    \"Benjamin White (45 points)\",\n",
    "    \"William Saliba (36 points)\",\n",
    "    \"Matty Cash (36 points)\"\n",
    "]\n",
    "\n",
    "gameweek_data = [\n",
    "    [9, 2, 11, 1, 1, 6, 15, 6],\n",
    "    [2, 2, 0, 1, 8, 18, 12, 6],\n",
    "    [1, 7, 1, 2, 7, 4, 14, 9],\n",
    "    [5, 8, 1, 2, 6, 1, 6, 7],\n",
    "    [-1, 6, 17, -1, 1, 6, 6, 2]\n",
    "]\n",
    "\n",
    "df = pd.DataFrame(gameweek_data, columns=[f\"Gameweek {i}\" for i in [2, 3, 4, 5, 6, 7, 8, 9]], index=players)\n",
    "\n",
    "# Plotting\n",
    "plt.figure(figsize=(12, 6))\n",
    "cmap = sns.diverging_palette(220, 10, as_cmap=True) # Define color palette\n",
    "sns.set(font_scale=1.2)\n",
    "sns.heatmap(df, cmap=cmap, annot=True, fmt='g', linewidths=0.5, linecolor='gray', cbar=False)\n",
    "\n",
    "# Title and display\n",
    "plt.title(\"Points by gameweek\\nDefenders with over 30 points\", size=16)\n",
    "plt.show()\n"
   ]
  },
  {
   "cell_type": "code",
   "execution_count": 28,
   "metadata": {},
   "outputs": [
    {
     "data": {
      "application/vnd.plotly.v1+json": {
       "config": {
        "plotlyServerURL": "https://plot.ly"
       },
       "data": [
        {
         "fill": "toself",
         "name": "Shooting",
         "r": [
          77.4,
          75,
          23.3,
          94.4,
          57.8,
          53.4,
          84.6,
          88.4
         ],
         "theta": [
          "Non-Penalty Goal",
          "Big Chances",
          "Shot Quality",
          "On Target %",
          "Off Shots",
          "Dribbles Completed %",
          "Pressure Regains",
          "Turnovers"
         ],
         "type": "scatterpolar"
        }
       ],
       "layout": {
        "polar": {
         "radialaxis": {
          "range": [
           0,
           100
          ],
          "visible": true
         }
        },
        "showlegend": false,
        "template": {
         "data": {
          "bar": [
           {
            "error_x": {
             "color": "#2a3f5f"
            },
            "error_y": {
             "color": "#2a3f5f"
            },
            "marker": {
             "line": {
              "color": "#E5ECF6",
              "width": 0.5
             },
             "pattern": {
              "fillmode": "overlay",
              "size": 10,
              "solidity": 0.2
             }
            },
            "type": "bar"
           }
          ],
          "barpolar": [
           {
            "marker": {
             "line": {
              "color": "#E5ECF6",
              "width": 0.5
             },
             "pattern": {
              "fillmode": "overlay",
              "size": 10,
              "solidity": 0.2
             }
            },
            "type": "barpolar"
           }
          ],
          "carpet": [
           {
            "aaxis": {
             "endlinecolor": "#2a3f5f",
             "gridcolor": "white",
             "linecolor": "white",
             "minorgridcolor": "white",
             "startlinecolor": "#2a3f5f"
            },
            "baxis": {
             "endlinecolor": "#2a3f5f",
             "gridcolor": "white",
             "linecolor": "white",
             "minorgridcolor": "white",
             "startlinecolor": "#2a3f5f"
            },
            "type": "carpet"
           }
          ],
          "choropleth": [
           {
            "colorbar": {
             "outlinewidth": 0,
             "ticks": ""
            },
            "type": "choropleth"
           }
          ],
          "contour": [
           {
            "colorbar": {
             "outlinewidth": 0,
             "ticks": ""
            },
            "colorscale": [
             [
              0,
              "#0d0887"
             ],
             [
              0.1111111111111111,
              "#46039f"
             ],
             [
              0.2222222222222222,
              "#7201a8"
             ],
             [
              0.3333333333333333,
              "#9c179e"
             ],
             [
              0.4444444444444444,
              "#bd3786"
             ],
             [
              0.5555555555555556,
              "#d8576b"
             ],
             [
              0.6666666666666666,
              "#ed7953"
             ],
             [
              0.7777777777777778,
              "#fb9f3a"
             ],
             [
              0.8888888888888888,
              "#fdca26"
             ],
             [
              1,
              "#f0f921"
             ]
            ],
            "type": "contour"
           }
          ],
          "contourcarpet": [
           {
            "colorbar": {
             "outlinewidth": 0,
             "ticks": ""
            },
            "type": "contourcarpet"
           }
          ],
          "heatmap": [
           {
            "colorbar": {
             "outlinewidth": 0,
             "ticks": ""
            },
            "colorscale": [
             [
              0,
              "#0d0887"
             ],
             [
              0.1111111111111111,
              "#46039f"
             ],
             [
              0.2222222222222222,
              "#7201a8"
             ],
             [
              0.3333333333333333,
              "#9c179e"
             ],
             [
              0.4444444444444444,
              "#bd3786"
             ],
             [
              0.5555555555555556,
              "#d8576b"
             ],
             [
              0.6666666666666666,
              "#ed7953"
             ],
             [
              0.7777777777777778,
              "#fb9f3a"
             ],
             [
              0.8888888888888888,
              "#fdca26"
             ],
             [
              1,
              "#f0f921"
             ]
            ],
            "type": "heatmap"
           }
          ],
          "heatmapgl": [
           {
            "colorbar": {
             "outlinewidth": 0,
             "ticks": ""
            },
            "colorscale": [
             [
              0,
              "#0d0887"
             ],
             [
              0.1111111111111111,
              "#46039f"
             ],
             [
              0.2222222222222222,
              "#7201a8"
             ],
             [
              0.3333333333333333,
              "#9c179e"
             ],
             [
              0.4444444444444444,
              "#bd3786"
             ],
             [
              0.5555555555555556,
              "#d8576b"
             ],
             [
              0.6666666666666666,
              "#ed7953"
             ],
             [
              0.7777777777777778,
              "#fb9f3a"
             ],
             [
              0.8888888888888888,
              "#fdca26"
             ],
             [
              1,
              "#f0f921"
             ]
            ],
            "type": "heatmapgl"
           }
          ],
          "histogram": [
           {
            "marker": {
             "pattern": {
              "fillmode": "overlay",
              "size": 10,
              "solidity": 0.2
             }
            },
            "type": "histogram"
           }
          ],
          "histogram2d": [
           {
            "colorbar": {
             "outlinewidth": 0,
             "ticks": ""
            },
            "colorscale": [
             [
              0,
              "#0d0887"
             ],
             [
              0.1111111111111111,
              "#46039f"
             ],
             [
              0.2222222222222222,
              "#7201a8"
             ],
             [
              0.3333333333333333,
              "#9c179e"
             ],
             [
              0.4444444444444444,
              "#bd3786"
             ],
             [
              0.5555555555555556,
              "#d8576b"
             ],
             [
              0.6666666666666666,
              "#ed7953"
             ],
             [
              0.7777777777777778,
              "#fb9f3a"
             ],
             [
              0.8888888888888888,
              "#fdca26"
             ],
             [
              1,
              "#f0f921"
             ]
            ],
            "type": "histogram2d"
           }
          ],
          "histogram2dcontour": [
           {
            "colorbar": {
             "outlinewidth": 0,
             "ticks": ""
            },
            "colorscale": [
             [
              0,
              "#0d0887"
             ],
             [
              0.1111111111111111,
              "#46039f"
             ],
             [
              0.2222222222222222,
              "#7201a8"
             ],
             [
              0.3333333333333333,
              "#9c179e"
             ],
             [
              0.4444444444444444,
              "#bd3786"
             ],
             [
              0.5555555555555556,
              "#d8576b"
             ],
             [
              0.6666666666666666,
              "#ed7953"
             ],
             [
              0.7777777777777778,
              "#fb9f3a"
             ],
             [
              0.8888888888888888,
              "#fdca26"
             ],
             [
              1,
              "#f0f921"
             ]
            ],
            "type": "histogram2dcontour"
           }
          ],
          "mesh3d": [
           {
            "colorbar": {
             "outlinewidth": 0,
             "ticks": ""
            },
            "type": "mesh3d"
           }
          ],
          "parcoords": [
           {
            "line": {
             "colorbar": {
              "outlinewidth": 0,
              "ticks": ""
             }
            },
            "type": "parcoords"
           }
          ],
          "pie": [
           {
            "automargin": true,
            "type": "pie"
           }
          ],
          "scatter": [
           {
            "marker": {
             "colorbar": {
              "outlinewidth": 0,
              "ticks": ""
             }
            },
            "type": "scatter"
           }
          ],
          "scatter3d": [
           {
            "line": {
             "colorbar": {
              "outlinewidth": 0,
              "ticks": ""
             }
            },
            "marker": {
             "colorbar": {
              "outlinewidth": 0,
              "ticks": ""
             }
            },
            "type": "scatter3d"
           }
          ],
          "scattercarpet": [
           {
            "marker": {
             "colorbar": {
              "outlinewidth": 0,
              "ticks": ""
             }
            },
            "type": "scattercarpet"
           }
          ],
          "scattergeo": [
           {
            "marker": {
             "colorbar": {
              "outlinewidth": 0,
              "ticks": ""
             }
            },
            "type": "scattergeo"
           }
          ],
          "scattergl": [
           {
            "marker": {
             "colorbar": {
              "outlinewidth": 0,
              "ticks": ""
             }
            },
            "type": "scattergl"
           }
          ],
          "scattermapbox": [
           {
            "marker": {
             "colorbar": {
              "outlinewidth": 0,
              "ticks": ""
             }
            },
            "type": "scattermapbox"
           }
          ],
          "scatterpolar": [
           {
            "marker": {
             "colorbar": {
              "outlinewidth": 0,
              "ticks": ""
             }
            },
            "type": "scatterpolar"
           }
          ],
          "scatterpolargl": [
           {
            "marker": {
             "colorbar": {
              "outlinewidth": 0,
              "ticks": ""
             }
            },
            "type": "scatterpolargl"
           }
          ],
          "scatterternary": [
           {
            "marker": {
             "colorbar": {
              "outlinewidth": 0,
              "ticks": ""
             }
            },
            "type": "scatterternary"
           }
          ],
          "surface": [
           {
            "colorbar": {
             "outlinewidth": 0,
             "ticks": ""
            },
            "colorscale": [
             [
              0,
              "#0d0887"
             ],
             [
              0.1111111111111111,
              "#46039f"
             ],
             [
              0.2222222222222222,
              "#7201a8"
             ],
             [
              0.3333333333333333,
              "#9c179e"
             ],
             [
              0.4444444444444444,
              "#bd3786"
             ],
             [
              0.5555555555555556,
              "#d8576b"
             ],
             [
              0.6666666666666666,
              "#ed7953"
             ],
             [
              0.7777777777777778,
              "#fb9f3a"
             ],
             [
              0.8888888888888888,
              "#fdca26"
             ],
             [
              1,
              "#f0f921"
             ]
            ],
            "type": "surface"
           }
          ],
          "table": [
           {
            "cells": {
             "fill": {
              "color": "#EBF0F8"
             },
             "line": {
              "color": "white"
             }
            },
            "header": {
             "fill": {
              "color": "#C8D4E3"
             },
             "line": {
              "color": "white"
             }
            },
            "type": "table"
           }
          ]
         },
         "layout": {
          "annotationdefaults": {
           "arrowcolor": "#2a3f5f",
           "arrowhead": 0,
           "arrowwidth": 1
          },
          "autotypenumbers": "strict",
          "coloraxis": {
           "colorbar": {
            "outlinewidth": 0,
            "ticks": ""
           }
          },
          "colorscale": {
           "diverging": [
            [
             0,
             "#8e0152"
            ],
            [
             0.1,
             "#c51b7d"
            ],
            [
             0.2,
             "#de77ae"
            ],
            [
             0.3,
             "#f1b6da"
            ],
            [
             0.4,
             "#fde0ef"
            ],
            [
             0.5,
             "#f7f7f7"
            ],
            [
             0.6,
             "#e6f5d0"
            ],
            [
             0.7,
             "#b8e186"
            ],
            [
             0.8,
             "#7fbc41"
            ],
            [
             0.9,
             "#4d9221"
            ],
            [
             1,
             "#276419"
            ]
           ],
           "sequential": [
            [
             0,
             "#0d0887"
            ],
            [
             0.1111111111111111,
             "#46039f"
            ],
            [
             0.2222222222222222,
             "#7201a8"
            ],
            [
             0.3333333333333333,
             "#9c179e"
            ],
            [
             0.4444444444444444,
             "#bd3786"
            ],
            [
             0.5555555555555556,
             "#d8576b"
            ],
            [
             0.6666666666666666,
             "#ed7953"
            ],
            [
             0.7777777777777778,
             "#fb9f3a"
            ],
            [
             0.8888888888888888,
             "#fdca26"
            ],
            [
             1,
             "#f0f921"
            ]
           ],
           "sequentialminus": [
            [
             0,
             "#0d0887"
            ],
            [
             0.1111111111111111,
             "#46039f"
            ],
            [
             0.2222222222222222,
             "#7201a8"
            ],
            [
             0.3333333333333333,
             "#9c179e"
            ],
            [
             0.4444444444444444,
             "#bd3786"
            ],
            [
             0.5555555555555556,
             "#d8576b"
            ],
            [
             0.6666666666666666,
             "#ed7953"
            ],
            [
             0.7777777777777778,
             "#fb9f3a"
            ],
            [
             0.8888888888888888,
             "#fdca26"
            ],
            [
             1,
             "#f0f921"
            ]
           ]
          },
          "colorway": [
           "#636efa",
           "#EF553B",
           "#00cc96",
           "#ab63fa",
           "#FFA15A",
           "#19d3f3",
           "#FF6692",
           "#B6E880",
           "#FF97FF",
           "#FECB52"
          ],
          "font": {
           "color": "#2a3f5f"
          },
          "geo": {
           "bgcolor": "white",
           "lakecolor": "white",
           "landcolor": "#E5ECF6",
           "showlakes": true,
           "showland": true,
           "subunitcolor": "white"
          },
          "hoverlabel": {
           "align": "left"
          },
          "hovermode": "closest",
          "mapbox": {
           "style": "light"
          },
          "paper_bgcolor": "white",
          "plot_bgcolor": "#E5ECF6",
          "polar": {
           "angularaxis": {
            "gridcolor": "white",
            "linecolor": "white",
            "ticks": ""
           },
           "bgcolor": "#E5ECF6",
           "radialaxis": {
            "gridcolor": "white",
            "linecolor": "white",
            "ticks": ""
           }
          },
          "scene": {
           "xaxis": {
            "backgroundcolor": "#E5ECF6",
            "gridcolor": "white",
            "gridwidth": 2,
            "linecolor": "white",
            "showbackground": true,
            "ticks": "",
            "zerolinecolor": "white"
           },
           "yaxis": {
            "backgroundcolor": "#E5ECF6",
            "gridcolor": "white",
            "gridwidth": 2,
            "linecolor": "white",
            "showbackground": true,
            "ticks": "",
            "zerolinecolor": "white"
           },
           "zaxis": {
            "backgroundcolor": "#E5ECF6",
            "gridcolor": "white",
            "gridwidth": 2,
            "linecolor": "white",
            "showbackground": true,
            "ticks": "",
            "zerolinecolor": "white"
           }
          },
          "shapedefaults": {
           "line": {
            "color": "#2a3f5f"
           }
          },
          "ternary": {
           "aaxis": {
            "gridcolor": "white",
            "linecolor": "white",
            "ticks": ""
           },
           "baxis": {
            "gridcolor": "white",
            "linecolor": "white",
            "ticks": ""
           },
           "bgcolor": "#E5ECF6",
           "caxis": {
            "gridcolor": "white",
            "linecolor": "white",
            "ticks": ""
           }
          },
          "title": {
           "x": 0.05
          },
          "xaxis": {
           "automargin": true,
           "gridcolor": "white",
           "linecolor": "white",
           "ticks": "",
           "title": {
            "standoff": 15
           },
           "zerolinecolor": "white",
           "zerolinewidth": 2
          },
          "yaxis": {
           "automargin": true,
           "gridcolor": "white",
           "linecolor": "white",
           "ticks": "",
           "title": {
            "standoff": 15
           },
           "zerolinecolor": "white",
           "zerolinewidth": 2
          }
         }
        }
       }
      }
     },
     "metadata": {},
     "output_type": "display_data"
    }
   ],
   "source": [
    "import plotly.graph_objects as go\n",
    "\n",
    "# Define the labels and values\n",
    "labels = [\"Non-Penalty Goal\", \"Big Chances\", \"Shot Quality\", \"On Target %\", \"Off Shots\", \"Dribbles Completed %\", \"Pressure Regains\", \"Turnovers\"]\n",
    "values = [77.4, 75.0, 23.3, 94.4, 57.8, 53.4, 84.6, 88.4]\n",
    "\n",
    "# Create the plot\n",
    "fig = go.Figure(data=go.Scatterpolar(\n",
    "    r=values,\n",
    "    theta=labels,\n",
    "    fill='toself',\n",
    "    name='Shooting'\n",
    "))\n",
    "\n",
    "# Set the layout and appearance\n",
    "fig.update_layout(\n",
    "    polar=dict(\n",
    "        radialaxis=dict(\n",
    "            visible=True,\n",
    "            range=[0, 100]  # Set the maximum value of the radar chart\n",
    "        )\n",
    "    ),\n",
    "    showlegend=False\n",
    ")\n",
    "\n",
    "fig.show()\n"
   ]
  },
  {
   "cell_type": "code",
   "execution_count": 29,
   "metadata": {},
   "outputs": [
    {
     "data": {
      "application/vnd.plotly.v1+json": {
       "config": {
        "plotlyServerURL": "https://plot.ly"
       },
       "data": [
        {
         "fill": "toself",
         "name": "Shooting",
         "r": [
          77.4,
          75,
          23.3,
          94.4,
          57.8,
          53.4,
          84.6,
          88.4
         ],
         "subplot": "polar",
         "theta": [
          "Non-Penalty Goal",
          "Big Chances",
          "Shot Quality",
          "On Target %",
          "Off Shots",
          "Dribbles Completed %",
          "Pressure Regains",
          "Turnovers"
         ],
         "type": "scatterpolar"
        },
        {
         "fill": "toself",
         "name": "Creating",
         "r": [
          72,
          59.5,
          82.3,
          83.9,
          84.1,
          59.9,
          78.1,
          87.1
         ],
         "subplot": "polar2",
         "theta": [
          "Non-Penalty Goal",
          "Big Chances",
          "Shot Quality",
          "On Target %",
          "Off Shots",
          "Dribbles Completed %",
          "Pressure Regains",
          "Turnovers"
         ],
         "type": "scatterpolar"
        }
       ],
       "layout": {
        "annotations": [
         {
          "font": {
           "size": 16
          },
          "showarrow": false,
          "text": "Shooting: 69.3",
          "x": 0.225,
          "xanchor": "center",
          "xref": "paper",
          "y": 1,
          "yanchor": "bottom",
          "yref": "paper"
         },
         {
          "font": {
           "size": 16
          },
          "showarrow": false,
          "text": "Creating: 75.9",
          "x": 0.775,
          "xanchor": "center",
          "xref": "paper",
          "y": 1,
          "yanchor": "bottom",
          "yref": "paper"
         }
        ],
        "polar": {
         "domain": {
          "x": [
           0,
           0.45
          ],
          "y": [
           0,
           1
          ]
         },
         "radialaxis": {
          "range": [
           0,
           100
          ],
          "visible": true
         }
        },
        "polar2": {
         "domain": {
          "x": [
           0.55,
           1
          ],
          "y": [
           0,
           1
          ]
         },
         "radialaxis": {
          "range": [
           0,
           100
          ],
          "visible": true
         }
        },
        "showlegend": false,
        "template": {
         "data": {
          "bar": [
           {
            "error_x": {
             "color": "#2a3f5f"
            },
            "error_y": {
             "color": "#2a3f5f"
            },
            "marker": {
             "line": {
              "color": "#E5ECF6",
              "width": 0.5
             },
             "pattern": {
              "fillmode": "overlay",
              "size": 10,
              "solidity": 0.2
             }
            },
            "type": "bar"
           }
          ],
          "barpolar": [
           {
            "marker": {
             "line": {
              "color": "#E5ECF6",
              "width": 0.5
             },
             "pattern": {
              "fillmode": "overlay",
              "size": 10,
              "solidity": 0.2
             }
            },
            "type": "barpolar"
           }
          ],
          "carpet": [
           {
            "aaxis": {
             "endlinecolor": "#2a3f5f",
             "gridcolor": "white",
             "linecolor": "white",
             "minorgridcolor": "white",
             "startlinecolor": "#2a3f5f"
            },
            "baxis": {
             "endlinecolor": "#2a3f5f",
             "gridcolor": "white",
             "linecolor": "white",
             "minorgridcolor": "white",
             "startlinecolor": "#2a3f5f"
            },
            "type": "carpet"
           }
          ],
          "choropleth": [
           {
            "colorbar": {
             "outlinewidth": 0,
             "ticks": ""
            },
            "type": "choropleth"
           }
          ],
          "contour": [
           {
            "colorbar": {
             "outlinewidth": 0,
             "ticks": ""
            },
            "colorscale": [
             [
              0,
              "#0d0887"
             ],
             [
              0.1111111111111111,
              "#46039f"
             ],
             [
              0.2222222222222222,
              "#7201a8"
             ],
             [
              0.3333333333333333,
              "#9c179e"
             ],
             [
              0.4444444444444444,
              "#bd3786"
             ],
             [
              0.5555555555555556,
              "#d8576b"
             ],
             [
              0.6666666666666666,
              "#ed7953"
             ],
             [
              0.7777777777777778,
              "#fb9f3a"
             ],
             [
              0.8888888888888888,
              "#fdca26"
             ],
             [
              1,
              "#f0f921"
             ]
            ],
            "type": "contour"
           }
          ],
          "contourcarpet": [
           {
            "colorbar": {
             "outlinewidth": 0,
             "ticks": ""
            },
            "type": "contourcarpet"
           }
          ],
          "heatmap": [
           {
            "colorbar": {
             "outlinewidth": 0,
             "ticks": ""
            },
            "colorscale": [
             [
              0,
              "#0d0887"
             ],
             [
              0.1111111111111111,
              "#46039f"
             ],
             [
              0.2222222222222222,
              "#7201a8"
             ],
             [
              0.3333333333333333,
              "#9c179e"
             ],
             [
              0.4444444444444444,
              "#bd3786"
             ],
             [
              0.5555555555555556,
              "#d8576b"
             ],
             [
              0.6666666666666666,
              "#ed7953"
             ],
             [
              0.7777777777777778,
              "#fb9f3a"
             ],
             [
              0.8888888888888888,
              "#fdca26"
             ],
             [
              1,
              "#f0f921"
             ]
            ],
            "type": "heatmap"
           }
          ],
          "heatmapgl": [
           {
            "colorbar": {
             "outlinewidth": 0,
             "ticks": ""
            },
            "colorscale": [
             [
              0,
              "#0d0887"
             ],
             [
              0.1111111111111111,
              "#46039f"
             ],
             [
              0.2222222222222222,
              "#7201a8"
             ],
             [
              0.3333333333333333,
              "#9c179e"
             ],
             [
              0.4444444444444444,
              "#bd3786"
             ],
             [
              0.5555555555555556,
              "#d8576b"
             ],
             [
              0.6666666666666666,
              "#ed7953"
             ],
             [
              0.7777777777777778,
              "#fb9f3a"
             ],
             [
              0.8888888888888888,
              "#fdca26"
             ],
             [
              1,
              "#f0f921"
             ]
            ],
            "type": "heatmapgl"
           }
          ],
          "histogram": [
           {
            "marker": {
             "pattern": {
              "fillmode": "overlay",
              "size": 10,
              "solidity": 0.2
             }
            },
            "type": "histogram"
           }
          ],
          "histogram2d": [
           {
            "colorbar": {
             "outlinewidth": 0,
             "ticks": ""
            },
            "colorscale": [
             [
              0,
              "#0d0887"
             ],
             [
              0.1111111111111111,
              "#46039f"
             ],
             [
              0.2222222222222222,
              "#7201a8"
             ],
             [
              0.3333333333333333,
              "#9c179e"
             ],
             [
              0.4444444444444444,
              "#bd3786"
             ],
             [
              0.5555555555555556,
              "#d8576b"
             ],
             [
              0.6666666666666666,
              "#ed7953"
             ],
             [
              0.7777777777777778,
              "#fb9f3a"
             ],
             [
              0.8888888888888888,
              "#fdca26"
             ],
             [
              1,
              "#f0f921"
             ]
            ],
            "type": "histogram2d"
           }
          ],
          "histogram2dcontour": [
           {
            "colorbar": {
             "outlinewidth": 0,
             "ticks": ""
            },
            "colorscale": [
             [
              0,
              "#0d0887"
             ],
             [
              0.1111111111111111,
              "#46039f"
             ],
             [
              0.2222222222222222,
              "#7201a8"
             ],
             [
              0.3333333333333333,
              "#9c179e"
             ],
             [
              0.4444444444444444,
              "#bd3786"
             ],
             [
              0.5555555555555556,
              "#d8576b"
             ],
             [
              0.6666666666666666,
              "#ed7953"
             ],
             [
              0.7777777777777778,
              "#fb9f3a"
             ],
             [
              0.8888888888888888,
              "#fdca26"
             ],
             [
              1,
              "#f0f921"
             ]
            ],
            "type": "histogram2dcontour"
           }
          ],
          "mesh3d": [
           {
            "colorbar": {
             "outlinewidth": 0,
             "ticks": ""
            },
            "type": "mesh3d"
           }
          ],
          "parcoords": [
           {
            "line": {
             "colorbar": {
              "outlinewidth": 0,
              "ticks": ""
             }
            },
            "type": "parcoords"
           }
          ],
          "pie": [
           {
            "automargin": true,
            "type": "pie"
           }
          ],
          "scatter": [
           {
            "marker": {
             "colorbar": {
              "outlinewidth": 0,
              "ticks": ""
             }
            },
            "type": "scatter"
           }
          ],
          "scatter3d": [
           {
            "line": {
             "colorbar": {
              "outlinewidth": 0,
              "ticks": ""
             }
            },
            "marker": {
             "colorbar": {
              "outlinewidth": 0,
              "ticks": ""
             }
            },
            "type": "scatter3d"
           }
          ],
          "scattercarpet": [
           {
            "marker": {
             "colorbar": {
              "outlinewidth": 0,
              "ticks": ""
             }
            },
            "type": "scattercarpet"
           }
          ],
          "scattergeo": [
           {
            "marker": {
             "colorbar": {
              "outlinewidth": 0,
              "ticks": ""
             }
            },
            "type": "scattergeo"
           }
          ],
          "scattergl": [
           {
            "marker": {
             "colorbar": {
              "outlinewidth": 0,
              "ticks": ""
             }
            },
            "type": "scattergl"
           }
          ],
          "scattermapbox": [
           {
            "marker": {
             "colorbar": {
              "outlinewidth": 0,
              "ticks": ""
             }
            },
            "type": "scattermapbox"
           }
          ],
          "scatterpolar": [
           {
            "marker": {
             "colorbar": {
              "outlinewidth": 0,
              "ticks": ""
             }
            },
            "type": "scatterpolar"
           }
          ],
          "scatterpolargl": [
           {
            "marker": {
             "colorbar": {
              "outlinewidth": 0,
              "ticks": ""
             }
            },
            "type": "scatterpolargl"
           }
          ],
          "scatterternary": [
           {
            "marker": {
             "colorbar": {
              "outlinewidth": 0,
              "ticks": ""
             }
            },
            "type": "scatterternary"
           }
          ],
          "surface": [
           {
            "colorbar": {
             "outlinewidth": 0,
             "ticks": ""
            },
            "colorscale": [
             [
              0,
              "#0d0887"
             ],
             [
              0.1111111111111111,
              "#46039f"
             ],
             [
              0.2222222222222222,
              "#7201a8"
             ],
             [
              0.3333333333333333,
              "#9c179e"
             ],
             [
              0.4444444444444444,
              "#bd3786"
             ],
             [
              0.5555555555555556,
              "#d8576b"
             ],
             [
              0.6666666666666666,
              "#ed7953"
             ],
             [
              0.7777777777777778,
              "#fb9f3a"
             ],
             [
              0.8888888888888888,
              "#fdca26"
             ],
             [
              1,
              "#f0f921"
             ]
            ],
            "type": "surface"
           }
          ],
          "table": [
           {
            "cells": {
             "fill": {
              "color": "#EBF0F8"
             },
             "line": {
              "color": "white"
             }
            },
            "header": {
             "fill": {
              "color": "#C8D4E3"
             },
             "line": {
              "color": "white"
             }
            },
            "type": "table"
           }
          ]
         },
         "layout": {
          "annotationdefaults": {
           "arrowcolor": "#2a3f5f",
           "arrowhead": 0,
           "arrowwidth": 1
          },
          "autotypenumbers": "strict",
          "coloraxis": {
           "colorbar": {
            "outlinewidth": 0,
            "ticks": ""
           }
          },
          "colorscale": {
           "diverging": [
            [
             0,
             "#8e0152"
            ],
            [
             0.1,
             "#c51b7d"
            ],
            [
             0.2,
             "#de77ae"
            ],
            [
             0.3,
             "#f1b6da"
            ],
            [
             0.4,
             "#fde0ef"
            ],
            [
             0.5,
             "#f7f7f7"
            ],
            [
             0.6,
             "#e6f5d0"
            ],
            [
             0.7,
             "#b8e186"
            ],
            [
             0.8,
             "#7fbc41"
            ],
            [
             0.9,
             "#4d9221"
            ],
            [
             1,
             "#276419"
            ]
           ],
           "sequential": [
            [
             0,
             "#0d0887"
            ],
            [
             0.1111111111111111,
             "#46039f"
            ],
            [
             0.2222222222222222,
             "#7201a8"
            ],
            [
             0.3333333333333333,
             "#9c179e"
            ],
            [
             0.4444444444444444,
             "#bd3786"
            ],
            [
             0.5555555555555556,
             "#d8576b"
            ],
            [
             0.6666666666666666,
             "#ed7953"
            ],
            [
             0.7777777777777778,
             "#fb9f3a"
            ],
            [
             0.8888888888888888,
             "#fdca26"
            ],
            [
             1,
             "#f0f921"
            ]
           ],
           "sequentialminus": [
            [
             0,
             "#0d0887"
            ],
            [
             0.1111111111111111,
             "#46039f"
            ],
            [
             0.2222222222222222,
             "#7201a8"
            ],
            [
             0.3333333333333333,
             "#9c179e"
            ],
            [
             0.4444444444444444,
             "#bd3786"
            ],
            [
             0.5555555555555556,
             "#d8576b"
            ],
            [
             0.6666666666666666,
             "#ed7953"
            ],
            [
             0.7777777777777778,
             "#fb9f3a"
            ],
            [
             0.8888888888888888,
             "#fdca26"
            ],
            [
             1,
             "#f0f921"
            ]
           ]
          },
          "colorway": [
           "#636efa",
           "#EF553B",
           "#00cc96",
           "#ab63fa",
           "#FFA15A",
           "#19d3f3",
           "#FF6692",
           "#B6E880",
           "#FF97FF",
           "#FECB52"
          ],
          "font": {
           "color": "#2a3f5f"
          },
          "geo": {
           "bgcolor": "white",
           "lakecolor": "white",
           "landcolor": "#E5ECF6",
           "showlakes": true,
           "showland": true,
           "subunitcolor": "white"
          },
          "hoverlabel": {
           "align": "left"
          },
          "hovermode": "closest",
          "mapbox": {
           "style": "light"
          },
          "paper_bgcolor": "white",
          "plot_bgcolor": "#E5ECF6",
          "polar": {
           "angularaxis": {
            "gridcolor": "white",
            "linecolor": "white",
            "ticks": ""
           },
           "bgcolor": "#E5ECF6",
           "radialaxis": {
            "gridcolor": "white",
            "linecolor": "white",
            "ticks": ""
           }
          },
          "scene": {
           "xaxis": {
            "backgroundcolor": "#E5ECF6",
            "gridcolor": "white",
            "gridwidth": 2,
            "linecolor": "white",
            "showbackground": true,
            "ticks": "",
            "zerolinecolor": "white"
           },
           "yaxis": {
            "backgroundcolor": "#E5ECF6",
            "gridcolor": "white",
            "gridwidth": 2,
            "linecolor": "white",
            "showbackground": true,
            "ticks": "",
            "zerolinecolor": "white"
           },
           "zaxis": {
            "backgroundcolor": "#E5ECF6",
            "gridcolor": "white",
            "gridwidth": 2,
            "linecolor": "white",
            "showbackground": true,
            "ticks": "",
            "zerolinecolor": "white"
           }
          },
          "shapedefaults": {
           "line": {
            "color": "#2a3f5f"
           }
          },
          "ternary": {
           "aaxis": {
            "gridcolor": "white",
            "linecolor": "white",
            "ticks": ""
           },
           "baxis": {
            "gridcolor": "white",
            "linecolor": "white",
            "ticks": ""
           },
           "bgcolor": "#E5ECF6",
           "caxis": {
            "gridcolor": "white",
            "linecolor": "white",
            "ticks": ""
           }
          },
          "title": {
           "x": 0.05
          },
          "xaxis": {
           "automargin": true,
           "gridcolor": "white",
           "linecolor": "white",
           "ticks": "",
           "title": {
            "standoff": 15
           },
           "zerolinecolor": "white",
           "zerolinewidth": 2
          },
          "yaxis": {
           "automargin": true,
           "gridcolor": "white",
           "linecolor": "white",
           "ticks": "",
           "title": {
            "standoff": 15
           },
           "zerolinecolor": "white",
           "zerolinewidth": 2
          }
         }
        }
       }
      }
     },
     "metadata": {},
     "output_type": "display_data"
    }
   ],
   "source": [
    "import plotly.graph_objects as go\n",
    "from plotly.subplots import make_subplots\n",
    "import numpy as np\n",
    "\n",
    "# Define the labels and values\n",
    "labels = [\"Non-Penalty Goal\", \"Big Chances\", \"Shot Quality\", \"On Target %\", \"Off Shots\", \"Dribbles Completed %\", \"Pressure Regains\", \"Turnovers\"]\n",
    "\n",
    "values_shooting = [77.4, 75.0, 23.3, 94.4, 57.8, 53.4, 84.6, 88.4]\n",
    "values_creating = [72.0, 59.5, 82.3, 83.9, 84.1, 59.9, 78.1, 87.1]\n",
    "\n",
    "# Create a subplot layout\n",
    "fig = make_subplots(rows=1, cols=2, \n",
    "                    subplot_titles=(f'Shooting: {np.mean(values_shooting):.1f}', \n",
    "                                    f'Creating: {np.mean(values_creating):.1f}'),\n",
    "                    specs=[[{'type': 'polar'}, {'type': 'polar'}]])\n",
    "\n",
    "# Add traces for shooting and creating\n",
    "fig.add_trace(go.Scatterpolar(r=values_shooting, theta=labels, fill='toself', name='Shooting'), row=1, col=1)\n",
    "fig.add_trace(go.Scatterpolar(r=values_creating, theta=labels, fill='toself', name='Creating'), row=1, col=2)\n",
    "\n",
    "# Update the layout\n",
    "fig.update_layout(\n",
    "    polar=dict(\n",
    "        radialaxis=dict(\n",
    "            visible=True,\n",
    "            range=[0, 100]\n",
    "        )\n",
    "    ),\n",
    "    polar2=dict(\n",
    "        radialaxis=dict(\n",
    "            visible=True,\n",
    "            range=[0, 100]\n",
    "        )\n",
    "    ),\n",
    "    showlegend=False\n",
    ")\n",
    "\n",
    "fig.show()\n"
   ]
  },
  {
   "cell_type": "code",
   "execution_count": 1,
   "metadata": {},
   "outputs": [
    {
     "data": {
      "image/png": "[encoded data removed]",
      "text/plain": [
       "<Figure size 720x864 with 1 Axes>"
      ]
     },
     "metadata": {
      "needs_background": "light"
     },
     "output_type": "display_data"
    }
   ],
   "source": [
    "import matplotlib.pyplot as plt\n",
    "\n",
    "teams = [\"Man City\", \"Newcastle\", \"Chelsea\", \"Everton\", \"Liverpool\", \"Spurs\", \"Brentford\", \"Aston Villa\",\n",
    "         \"Brighton\", \"Man Utd\", \"Crystal Palace\", \"Nott'm Forest\", \"West Ham\", \"Luton Town\", \"Fulham\",\n",
    "         \"Wolves\", \"Burnley\", \"Bournemouth\", \"Sheffield Utd\"]\n",
    "\n",
    "actual_positions = [1, 2, 3, 3, 4, 4, 1, 5, 5, 6, 9, 9, 7, 15, 12, 15, 15, 19, 20]\n",
    "expected_positions = [3, 8, 3, 5, 6, 7, 8, 9, 10, 11, 12, 13, 14, 16, 14, 17, 17, 18, 20]\n",
    "\n",
    "# Plotting\n",
    "fig, ax = plt.subplots(figsize=(10, 12))\n",
    "ax.scatter(expected_positions, range(len(teams)), color='gray', label=\"Expected Position\")\n",
    "ax.scatter(actual_positions, range(len(teams)), color='red', label=\"Actual Position\")\n",
    "ax.set_yticks(range(len(teams)))\n",
    "ax.set_yticklabels(teams)\n",
    "ax.invert_yaxis()  # Reverse y-axis to have top teams at the top\n",
    "ax.set_xlabel(\"Position\")\n",
    "ax.set_title(\"Comparing actual and expected position | English Premier League 2023-24\")\n",
    "ax.legend()\n",
    "\n",
    "# Draw lines between actual and expected positions\n",
    "for i, team in enumerate(teams):\n",
    "    ax.plot([expected_positions[i], actual_positions[i]], [i, i], color='black', linestyle='--', linewidth=0.7)\n",
    "\n",
    "plt.tight_layout()\n",
    "plt.show()\n"
   ]
  },
  {
   "cell_type": "code",
   "execution_count": 13,
   "metadata": {},
   "outputs": [
    {
     "data": {
      "image/png": "[encoded data removed]",
      "text/plain": [
       "<Figure size 720x864 with 1 Axes>"
      ]
     },
     "metadata": {
      "needs_background": "light"
     },
     "output_type": "display_data"
    }
   ],
   "source": [
    "import matplotlib.pyplot as plt\n",
    "\n",
    "teams = [\"Man City\", \"Newcastle\", \"Chelsea\", \"Everton\", \"Liverpool\", \"Spurs\", \"Brentford\", \"Aston Villa\",\n",
    "         \"Brighton\", \"Man Utd\", \"Crystal Palace\", \"Nott'm Forest\", \"West Ham\", \"Luton Town\", \"Fulham\",\n",
    "         \"Wolves\", \"Burnley\", \"Bournemouth\", \"Sheffield Utd\"]\n",
    "\n",
    "actual_positions = [1, 2, 3, 3, 4, 4, 1, 5, 5, 6, 9, 9, 7, 15, 12, 15, 15, 19, 20]\n",
    "expected_positions = [3, 8, 3, 5, 6, 7, 8, 9, 10, 11, 12, 13, 14, 16, 14, 17, 17, 18, 20]\n",
    "\n",
    "# Reverse the lists\n",
    "teams = teams[::-1]\n",
    "actual_positions = actual_positions[::-1]\n",
    "expected_positions = expected_positions[::-1]\n",
    "\n",
    "# Create a scatter plot\n",
    "fig, ax = plt.subplots(figsize=(10, 12))\n",
    "\n",
    "# Plot actual positions (in red) and expected positions (in yellow)\n",
    "ax.scatter(actual_positions, teams, color='green', s=300, label=\"Actual Position\")\n",
    "ax.scatter(expected_positions, teams, color='red', s=300, label=\"Expected Position\")\n",
    "\n",
    "# Draw arrows between actual and expected positions\n",
    "for team, actual, expected in zip(teams, actual_positions, expected_positions):\n",
    "    ax.annotate(\"\", xy=(expected, team), xytext=(actual, team),\n",
    "                arrowprops=dict(arrowstyle=\"->\", lw=1.5))\n",
    "    ax.text(actual, team, str(actual), color='white', ha='center', va='center', weight='bold')\n",
    "    ax.text(expected, team, str(expected), color='black', ha='center', va='center', weight='bold')\n",
    "\n",
    "# Set labels, title and adjust x-axis\n",
    "ax.set_xlabel(\"Position\")\n",
    "ax.set_title(\"Actual vs Expected Positions (EPL 2023-24)\")\n",
    "ax.set_xlim(0, 21)  # Set x-axis limits from 1 to 20\n",
    "ax.legend(loc=\"upper right\")\n",
    "\n",
    "plt.tight_layout()\n",
    "plt.show()\n"
   ]
  },
  {
   "cell_type": "code",
   "execution_count": 54,
   "metadata": {},
   "outputs": [],
   "source": [
    "# Function to calculate xPts\n",
    "def calculate_xPts(row):\n",
    "    xG = row['xg']\n",
    "    xA = row['xga']\n",
    "    goal_diff = xG - xA\n",
    "    \n",
    "    # Adjusting the thresholds and probabilities to closely match the xPts value of 19.31\n",
    "    if goal_diff > 1.5:\n",
    "        p_win = 0.9\n",
    "        p_draw = 0.07\n",
    "        p_loss = 0.03\n",
    "    elif goal_diff > 0.5:\n",
    "        p_win = 0.75\n",
    "        p_draw = 0.2\n",
    "        p_loss = 0.05\n",
    "    elif goal_diff > 0:\n",
    "        p_win = 0.6\n",
    "        p_draw = 0.3\n",
    "        p_loss = 0.1\n",
    "    else:\n",
    "        p_win = 0.4\n",
    "        p_draw = 0.4\n",
    "        p_loss = 0.2\n",
    "        \n",
    "    # Calculating xPts based on the probabilities\n",
    "    xPts = 3 * p_win + 1 * p_draw\n",
    "    \n",
    "    return xPts"
   ]
  },
  {
   "cell_type": "code",
   "execution_count": 82,
   "metadata": {},
   "outputs": [
    {
     "data": {
      "text/html": [
       "<div>\n",
       "<style scoped>\n",
       "    .dataframe tbody tr th:only-of-type {\n",
       "        vertical-align: middle;\n",
       "    }\n",
       "\n",
       "    .dataframe tbody tr th {\n",
       "        vertical-align: top;\n",
       "    }\n",
       "\n",
       "    .dataframe thead th {\n",
       "        text-align: right;\n",
       "    }\n",
       "</style>\n",
       "<table border=\"1\" class=\"dataframe\">\n",
       "  <thead>\n",
       "    <tr style=\"text-align: right;\">\n",
       "      <th></th>\n",
       "      <th>index</th>\n",
       "      <th>date</th>\n",
       "      <th>round</th>\n",
       "      <th>venue</th>\n",
       "      <th>result</th>\n",
       "      <th>gf</th>\n",
       "      <th>ga</th>\n",
       "      <th>opponent</th>\n",
       "      <th>xg</th>\n",
       "      <th>xga</th>\n",
       "      <th>possession</th>\n",
       "      <th>xg_roll</th>\n",
       "      <th>xga_roll</th>\n",
       "      <th>team</th>\n",
       "      <th>year</th>\n",
       "    </tr>\n",
       "  </thead>\n",
       "  <tbody>\n",
       "    <tr>\n",
       "      <th>2596</th>\n",
       "      <td>10</td>\n",
       "      <td>2023-11-04 00:00:00</td>\n",
       "      <td>Matchweek 11</td>\n",
       "      <td>Home</td>\n",
       "      <td>L</td>\n",
       "      <td>0.0</td>\n",
       "      <td>1.0</td>\n",
       "      <td>Manchester Utd</td>\n",
       "      <td>1.0</td>\n",
       "      <td>0.7</td>\n",
       "      <td>45</td>\n",
       "      <td>1.01</td>\n",
       "      <td>1.64</td>\n",
       "      <td>Fulham</td>\n",
       "      <td>2023-2024</td>\n",
       "    </tr>\n",
       "    <tr>\n",
       "      <th>2597</th>\n",
       "      <td>10</td>\n",
       "      <td>2023-11-04 00:00:00</td>\n",
       "      <td>Matchweek 11</td>\n",
       "      <td>Home</td>\n",
       "      <td>L</td>\n",
       "      <td>0.0</td>\n",
       "      <td>2.0</td>\n",
       "      <td>Crystal Palace</td>\n",
       "      <td>1.1</td>\n",
       "      <td>1.3</td>\n",
       "      <td>67</td>\n",
       "      <td>0.9</td>\n",
       "      <td>1.83</td>\n",
       "      <td>Burnley</td>\n",
       "      <td>2023-2024</td>\n",
       "    </tr>\n",
       "    <tr>\n",
       "      <th>2598</th>\n",
       "      <td>10</td>\n",
       "      <td>2023-11-04 00:00:00</td>\n",
       "      <td>Matchweek 11</td>\n",
       "      <td>Home</td>\n",
       "      <td>D</td>\n",
       "      <td>1.0</td>\n",
       "      <td>1.0</td>\n",
       "      <td>Brighton</td>\n",
       "      <td>0.7</td>\n",
       "      <td>0.5</td>\n",
       "      <td>21</td>\n",
       "      <td>1.35</td>\n",
       "      <td>1.22</td>\n",
       "      <td>Everton</td>\n",
       "      <td>2023-2024</td>\n",
       "    </tr>\n",
       "    <tr>\n",
       "      <th>2599</th>\n",
       "      <td>10</td>\n",
       "      <td>2023-11-04 00:00:00</td>\n",
       "      <td>Matchweek 11</td>\n",
       "      <td>Home</td>\n",
       "      <td>W</td>\n",
       "      <td>3.0</td>\n",
       "      <td>2.0</td>\n",
       "      <td>West Ham</td>\n",
       "      <td>1.5</td>\n",
       "      <td>1.8</td>\n",
       "      <td>58</td>\n",
       "      <td>1.84</td>\n",
       "      <td>1.34</td>\n",
       "      <td>Brentford</td>\n",
       "      <td>2023-2024</td>\n",
       "    </tr>\n",
       "    <tr>\n",
       "      <th>2600</th>\n",
       "      <td>10</td>\n",
       "      <td>2023-11-04 00:00:00</td>\n",
       "      <td>Matchweek 11</td>\n",
       "      <td>Away</td>\n",
       "      <td>L</td>\n",
       "      <td>1.0</td>\n",
       "      <td>6.0</td>\n",
       "      <td>Manchester City</td>\n",
       "      <td>0.9</td>\n",
       "      <td>1.9</td>\n",
       "      <td>35</td>\n",
       "      <td>1.01</td>\n",
       "      <td>2.26</td>\n",
       "      <td>Bournemouth</td>\n",
       "      <td>2023-2024</td>\n",
       "    </tr>\n",
       "    <tr>\n",
       "      <th>2601</th>\n",
       "      <td>10</td>\n",
       "      <td>2023-11-04 00:00:00</td>\n",
       "      <td>Matchweek 11</td>\n",
       "      <td>Away</td>\n",
       "      <td>L</td>\n",
       "      <td>0.0</td>\n",
       "      <td>1.0</td>\n",
       "      <td>Newcastle Utd</td>\n",
       "      <td>0.6</td>\n",
       "      <td>1.0</td>\n",
       "      <td>58</td>\n",
       "      <td>1.85</td>\n",
       "      <td>0.76</td>\n",
       "      <td>Arsenal</td>\n",
       "      <td>2023-2024</td>\n",
       "    </tr>\n",
       "    <tr>\n",
       "      <th>2602</th>\n",
       "      <td>10</td>\n",
       "      <td>2023-11-04 00:00:00</td>\n",
       "      <td>Matchweek 11</td>\n",
       "      <td>Away</td>\n",
       "      <td>L</td>\n",
       "      <td>1.0</td>\n",
       "      <td>2.0</td>\n",
       "      <td>Sheffield Utd</td>\n",
       "      <td>1.2</td>\n",
       "      <td>1.0</td>\n",
       "      <td>61</td>\n",
       "      <td>1.22</td>\n",
       "      <td>1.65</td>\n",
       "      <td>Wolves</td>\n",
       "      <td>2023-2024</td>\n",
       "    </tr>\n",
       "    <tr>\n",
       "      <th>2603</th>\n",
       "      <td>10</td>\n",
       "      <td>2023-11-04 00:00:00</td>\n",
       "      <td>Matchweek 11</td>\n",
       "      <td>Away</td>\n",
       "      <td>W</td>\n",
       "      <td>2.0</td>\n",
       "      <td>0.0</td>\n",
       "      <td>Burnley</td>\n",
       "      <td>1.3</td>\n",
       "      <td>1.1</td>\n",
       "      <td>33</td>\n",
       "      <td>1.02</td>\n",
       "      <td>1.47</td>\n",
       "      <td>Crystal Palace</td>\n",
       "      <td>2023-2024</td>\n",
       "    </tr>\n",
       "    <tr>\n",
       "      <th>2604</th>\n",
       "      <td>10</td>\n",
       "      <td>2023-11-04 00:00:00</td>\n",
       "      <td>Matchweek 11</td>\n",
       "      <td>Away</td>\n",
       "      <td>D</td>\n",
       "      <td>1.0</td>\n",
       "      <td>1.0</td>\n",
       "      <td>Everton</td>\n",
       "      <td>0.5</td>\n",
       "      <td>0.7</td>\n",
       "      <td>79</td>\n",
       "      <td>1.53</td>\n",
       "      <td>1.45</td>\n",
       "      <td>Brighton</td>\n",
       "      <td>2023-2024</td>\n",
       "    </tr>\n",
       "    <tr>\n",
       "      <th>2605</th>\n",
       "      <td>10</td>\n",
       "      <td>2023-11-05 00:00:00</td>\n",
       "      <td>Matchweek 11</td>\n",
       "      <td>Away</td>\n",
       "      <td>L</td>\n",
       "      <td>0.0</td>\n",
       "      <td>2.0</td>\n",
       "      <td>Nott'ham Forest</td>\n",
       "      <td>1.2</td>\n",
       "      <td>0.4</td>\n",
       "      <td>73</td>\n",
       "      <td>1.87</td>\n",
       "      <td>1.17</td>\n",
       "      <td>Aston Villa</td>\n",
       "      <td>2023-2024</td>\n",
       "    </tr>\n",
       "    <tr>\n",
       "      <th>2606</th>\n",
       "      <td>10</td>\n",
       "      <td>2023-11-05 00:00:00</td>\n",
       "      <td>Matchweek 11</td>\n",
       "      <td>Away</td>\n",
       "      <td>D</td>\n",
       "      <td>1.0</td>\n",
       "      <td>1.0</td>\n",
       "      <td>Luton Town</td>\n",
       "      <td>2.6</td>\n",
       "      <td>0.8</td>\n",
       "      <td>73</td>\n",
       "      <td>2.35</td>\n",
       "      <td>1.15</td>\n",
       "      <td>Liverpool</td>\n",
       "      <td>2023-2024</td>\n",
       "    </tr>\n",
       "    <tr>\n",
       "      <th>2607</th>\n",
       "      <td>10</td>\n",
       "      <td>2023-11-05 00:00:00</td>\n",
       "      <td>Matchweek 11</td>\n",
       "      <td>Home</td>\n",
       "      <td>W</td>\n",
       "      <td>2.0</td>\n",
       "      <td>0.0</td>\n",
       "      <td>Aston Villa</td>\n",
       "      <td>0.4</td>\n",
       "      <td>1.2</td>\n",
       "      <td>27</td>\n",
       "      <td>1.03</td>\n",
       "      <td>1.59</td>\n",
       "      <td>Nott'ham Forest</td>\n",
       "      <td>2023-2024</td>\n",
       "    </tr>\n",
       "    <tr>\n",
       "      <th>2608</th>\n",
       "      <td>10</td>\n",
       "      <td>2023-11-05 00:00:00</td>\n",
       "      <td>Matchweek 11</td>\n",
       "      <td>Home</td>\n",
       "      <td>D</td>\n",
       "      <td>1.0</td>\n",
       "      <td>1.0</td>\n",
       "      <td>Liverpool</td>\n",
       "      <td>0.8</td>\n",
       "      <td>2.6</td>\n",
       "      <td>27</td>\n",
       "      <td>1.1</td>\n",
       "      <td>1.85</td>\n",
       "      <td>Luton Town</td>\n",
       "      <td>2023-2024</td>\n",
       "    </tr>\n",
       "    <tr>\n",
       "      <th>2609</th>\n",
       "      <td>10</td>\n",
       "      <td>2023-11-06 00:00:00</td>\n",
       "      <td>Matchweek 11</td>\n",
       "      <td>Away</td>\n",
       "      <td>W</td>\n",
       "      <td>4.0</td>\n",
       "      <td>1.0</td>\n",
       "      <td>Tottenham</td>\n",
       "      <td>4.0</td>\n",
       "      <td>0.9</td>\n",
       "      <td>60</td>\n",
       "      <td>2.09</td>\n",
       "      <td>1.09</td>\n",
       "      <td>Chelsea</td>\n",
       "      <td>2023-2024</td>\n",
       "    </tr>\n",
       "    <tr>\n",
       "      <th>2610</th>\n",
       "      <td>10</td>\n",
       "      <td>2023-11-06 00:00:00</td>\n",
       "      <td>Matchweek 11</td>\n",
       "      <td>Home</td>\n",
       "      <td>L</td>\n",
       "      <td>1.0</td>\n",
       "      <td>4.0</td>\n",
       "      <td>Chelsea</td>\n",
       "      <td>0.9</td>\n",
       "      <td>4.0</td>\n",
       "      <td>40</td>\n",
       "      <td>1.71</td>\n",
       "      <td>1.43</td>\n",
       "      <td>Tottenham</td>\n",
       "      <td>2023-2024</td>\n",
       "    </tr>\n",
       "  </tbody>\n",
       "</table>\n",
       "</div>"
      ],
      "text/plain": [
       "      index                 date         round venue result   gf   ga  \\\n",
       "2596     10  2023-11-04 00:00:00  Matchweek 11  Home      L  0.0  1.0   \n",
       "2597     10  2023-11-04 00:00:00  Matchweek 11  Home      L  0.0  2.0   \n",
       "2598     10  2023-11-04 00:00:00  Matchweek 11  Home      D  1.0  1.0   \n",
       "2599     10  2023-11-04 00:00:00  Matchweek 11  Home      W  3.0  2.0   \n",
       "2600     10  2023-11-04 00:00:00  Matchweek 11  Away      L  1.0  6.0   \n",
       "2601     10  2023-11-04 00:00:00  Matchweek 11  Away      L  0.0  1.0   \n",
       "2602     10  2023-11-04 00:00:00  Matchweek 11  Away      L  1.0  2.0   \n",
       "2603     10  2023-11-04 00:00:00  Matchweek 11  Away      W  2.0  0.0   \n",
       "2604     10  2023-11-04 00:00:00  Matchweek 11  Away      D  1.0  1.0   \n",
       "2605     10  2023-11-05 00:00:00  Matchweek 11  Away      L  0.0  2.0   \n",
       "2606     10  2023-11-05 00:00:00  Matchweek 11  Away      D  1.0  1.0   \n",
       "2607     10  2023-11-05 00:00:00  Matchweek 11  Home      W  2.0  0.0   \n",
       "2608     10  2023-11-05 00:00:00  Matchweek 11  Home      D  1.0  1.0   \n",
       "2609     10  2023-11-06 00:00:00  Matchweek 11  Away      W  4.0  1.0   \n",
       "2610     10  2023-11-06 00:00:00  Matchweek 11  Home      L  1.0  4.0   \n",
       "\n",
       "             opponent   xg  xga  possession xg_roll xga_roll             team  \\\n",
       "2596   Manchester Utd  1.0  0.7          45    1.01     1.64           Fulham   \n",
       "2597   Crystal Palace  1.1  1.3          67     0.9     1.83          Burnley   \n",
       "2598         Brighton  0.7  0.5          21    1.35     1.22          Everton   \n",
       "2599         West Ham  1.5  1.8          58    1.84     1.34        Brentford   \n",
       "2600  Manchester City  0.9  1.9          35    1.01     2.26      Bournemouth   \n",
       "2601    Newcastle Utd  0.6  1.0          58    1.85     0.76          Arsenal   \n",
       "2602    Sheffield Utd  1.2  1.0          61    1.22     1.65           Wolves   \n",
       "2603          Burnley  1.3  1.1          33    1.02     1.47   Crystal Palace   \n",
       "2604          Everton  0.5  0.7          79    1.53     1.45         Brighton   \n",
       "2605  Nott'ham Forest  1.2  0.4          73    1.87     1.17      Aston Villa   \n",
       "2606       Luton Town  2.6  0.8          73    2.35     1.15        Liverpool   \n",
       "2607      Aston Villa  0.4  1.2          27    1.03     1.59  Nott'ham Forest   \n",
       "2608        Liverpool  0.8  2.6          27     1.1     1.85       Luton Town   \n",
       "2609        Tottenham  4.0  0.9          60    2.09     1.09          Chelsea   \n",
       "2610          Chelsea  0.9  4.0          40    1.71     1.43        Tottenham   \n",
       "\n",
       "           year  \n",
       "2596  2023-2024  \n",
       "2597  2023-2024  \n",
       "2598  2023-2024  \n",
       "2599  2023-2024  \n",
       "2600  2023-2024  \n",
       "2601  2023-2024  \n",
       "2602  2023-2024  \n",
       "2603  2023-2024  \n",
       "2604  2023-2024  \n",
       "2605  2023-2024  \n",
       "2606  2023-2024  \n",
       "2607  2023-2024  \n",
       "2608  2023-2024  \n",
       "2609  2023-2024  \n",
       "2610  2023-2024  "
      ]
     },
     "execution_count": 82,
     "metadata": {},
     "output_type": "execute_result"
    }
   ],
   "source": [
    "import sqlite3\n",
    "import pandas as pd\n",
    "\n",
    "folder_db = '/data/databases/'\n",
    "folder_raw = '/data/raw_files/'\n",
    "\n",
    "# Get the directory of the current script\n",
    "current_directory = os.path.abspath('')\n",
    "\n",
    "\n",
    "db_path = os.path.join(current_directory + folder_db, \"fbref_data_team_individual.db\")\n",
    "conn = sqlite3.connect(db_path)\n",
    "df_individual_xpts = pd.read_sql_query('SELECT * FROM team_individual_tbl', conn)\n",
    "conn.close()\n",
    "df_individual_xpts = df_individual_xpts[df_individual_xpts['year'] == '2023-2024']\n",
    "df_individual_xpts.tail(15)"
   ]
  },
  {
   "cell_type": "code",
   "execution_count": 55,
   "metadata": {},
   "outputs": [
    {
     "name": "stdout",
     "output_type": "stream",
     "text": [
      "Expected Points for Brentford: 1.30\n",
      "Expected Points for Arsenal: 1.44\n"
     ]
    }
   ],
   "source": [
    "import numpy as np\n",
    "from scipy.stats import poisson\n",
    "\n",
    "def simulate_match(xG_home, xG_away, num_simulations=20000):\n",
    "    # Simulate goals using Poisson distribution\n",
    "    home_goals = poisson.rvs(mu=xG_home, size=num_simulations)\n",
    "    away_goals = poisson.rvs(mu=xG_away, size=num_simulations)\n",
    "    \n",
    "    # Calculate wins, draws, losses\n",
    "    home_wins = np.sum(home_goals > away_goals)\n",
    "    draws = np.sum(home_goals == away_goals)\n",
    "    away_wins = num_simulations - home_wins - draws\n",
    "    \n",
    "    # Calculate probabilities\n",
    "    win_probability_home = home_wins / num_simulations\n",
    "    draw_probability = draws / num_simulations\n",
    "    win_probability_away = away_wins / num_simulations\n",
    "    \n",
    "    # Calculate expected points (xPts)\n",
    "    xPts_home = (win_probability_home * 3.0) + (draw_probability * 1.0)\n",
    "    xPts_away = (win_probability_away * 3.0) + (draw_probability * 1.0)\n",
    "    \n",
    "    return xPts_home, xPts_away\n",
    "\n",
    "# Example\n",
    "xG_Brentford = 1.3\n",
    "xG_Arsenal = 1.4\n",
    "xPts_Brentford, xPts_Arsenal = simulate_match(xG_Brentford, xG_Arsenal)\n",
    "print(f\"Expected Points for Brentford: {xPts_Brentford:.2f}\")\n",
    "print(f\"Expected Points for Arsenal: {xPts_Arsenal:.2f}\")\n"
   ]
  },
  {
   "cell_type": "code",
   "execution_count": 83,
   "metadata": {},
   "outputs": [
    {
     "data": {
      "text/html": [
       "<div>\n",
       "<style scoped>\n",
       "    .dataframe tbody tr th:only-of-type {\n",
       "        vertical-align: middle;\n",
       "    }\n",
       "\n",
       "    .dataframe tbody tr th {\n",
       "        vertical-align: top;\n",
       "    }\n",
       "\n",
       "    .dataframe thead th {\n",
       "        text-align: right;\n",
       "    }\n",
       "</style>\n",
       "<table border=\"1\" class=\"dataframe\">\n",
       "  <thead>\n",
       "    <tr style=\"text-align: right;\">\n",
       "      <th></th>\n",
       "      <th>index</th>\n",
       "      <th>date</th>\n",
       "      <th>round</th>\n",
       "      <th>venue</th>\n",
       "      <th>result</th>\n",
       "      <th>gf</th>\n",
       "      <th>ga</th>\n",
       "      <th>opponent</th>\n",
       "      <th>xg</th>\n",
       "      <th>xga</th>\n",
       "      <th>possession</th>\n",
       "      <th>xg_roll</th>\n",
       "      <th>xga_roll</th>\n",
       "      <th>team</th>\n",
       "      <th>year</th>\n",
       "      <th>xPts</th>\n",
       "    </tr>\n",
       "  </thead>\n",
       "  <tbody>\n",
       "    <tr>\n",
       "      <th>2601</th>\n",
       "      <td>10</td>\n",
       "      <td>2023-11-04 00:00:00</td>\n",
       "      <td>Matchweek 11</td>\n",
       "      <td>Away</td>\n",
       "      <td>L</td>\n",
       "      <td>0.0</td>\n",
       "      <td>1.0</td>\n",
       "      <td>Newcastle Utd</td>\n",
       "      <td>0.6</td>\n",
       "      <td>1.0</td>\n",
       "      <td>58</td>\n",
       "      <td>1.85</td>\n",
       "      <td>0.76</td>\n",
       "      <td>Arsenal</td>\n",
       "      <td>2023-2024</td>\n",
       "      <td>0.98415</td>\n",
       "    </tr>\n",
       "    <tr>\n",
       "      <th>2602</th>\n",
       "      <td>10</td>\n",
       "      <td>2023-11-04 00:00:00</td>\n",
       "      <td>Matchweek 11</td>\n",
       "      <td>Away</td>\n",
       "      <td>L</td>\n",
       "      <td>1.0</td>\n",
       "      <td>2.0</td>\n",
       "      <td>Sheffield Utd</td>\n",
       "      <td>1.2</td>\n",
       "      <td>1.0</td>\n",
       "      <td>61</td>\n",
       "      <td>1.22</td>\n",
       "      <td>1.65</td>\n",
       "      <td>Wolves</td>\n",
       "      <td>2023-2024</td>\n",
       "      <td>1.50595</td>\n",
       "    </tr>\n",
       "    <tr>\n",
       "      <th>2603</th>\n",
       "      <td>10</td>\n",
       "      <td>2023-11-04 00:00:00</td>\n",
       "      <td>Matchweek 11</td>\n",
       "      <td>Away</td>\n",
       "      <td>W</td>\n",
       "      <td>2.0</td>\n",
       "      <td>0.0</td>\n",
       "      <td>Burnley</td>\n",
       "      <td>1.3</td>\n",
       "      <td>1.1</td>\n",
       "      <td>33</td>\n",
       "      <td>1.02</td>\n",
       "      <td>1.47</td>\n",
       "      <td>Crystal Palace</td>\n",
       "      <td>2023-2024</td>\n",
       "      <td>1.51070</td>\n",
       "    </tr>\n",
       "    <tr>\n",
       "      <th>2604</th>\n",
       "      <td>10</td>\n",
       "      <td>2023-11-04 00:00:00</td>\n",
       "      <td>Matchweek 11</td>\n",
       "      <td>Away</td>\n",
       "      <td>D</td>\n",
       "      <td>1.0</td>\n",
       "      <td>1.0</td>\n",
       "      <td>Everton</td>\n",
       "      <td>0.5</td>\n",
       "      <td>0.7</td>\n",
       "      <td>79</td>\n",
       "      <td>1.53</td>\n",
       "      <td>1.45</td>\n",
       "      <td>Brighton</td>\n",
       "      <td>2023-2024</td>\n",
       "      <td>1.09720</td>\n",
       "    </tr>\n",
       "    <tr>\n",
       "      <th>2605</th>\n",
       "      <td>10</td>\n",
       "      <td>2023-11-05 00:00:00</td>\n",
       "      <td>Matchweek 11</td>\n",
       "      <td>Away</td>\n",
       "      <td>L</td>\n",
       "      <td>0.0</td>\n",
       "      <td>2.0</td>\n",
       "      <td>Nott'ham Forest</td>\n",
       "      <td>1.2</td>\n",
       "      <td>0.4</td>\n",
       "      <td>73</td>\n",
       "      <td>1.87</td>\n",
       "      <td>1.17</td>\n",
       "      <td>Aston Villa</td>\n",
       "      <td>2023-2024</td>\n",
       "      <td>2.02260</td>\n",
       "    </tr>\n",
       "    <tr>\n",
       "      <th>2606</th>\n",
       "      <td>10</td>\n",
       "      <td>2023-11-05 00:00:00</td>\n",
       "      <td>Matchweek 11</td>\n",
       "      <td>Away</td>\n",
       "      <td>D</td>\n",
       "      <td>1.0</td>\n",
       "      <td>1.0</td>\n",
       "      <td>Luton Town</td>\n",
       "      <td>2.6</td>\n",
       "      <td>0.8</td>\n",
       "      <td>73</td>\n",
       "      <td>2.35</td>\n",
       "      <td>1.15</td>\n",
       "      <td>Liverpool</td>\n",
       "      <td>2023-2024</td>\n",
       "      <td>2.42680</td>\n",
       "    </tr>\n",
       "    <tr>\n",
       "      <th>2607</th>\n",
       "      <td>10</td>\n",
       "      <td>2023-11-05 00:00:00</td>\n",
       "      <td>Matchweek 11</td>\n",
       "      <td>Home</td>\n",
       "      <td>W</td>\n",
       "      <td>2.0</td>\n",
       "      <td>0.0</td>\n",
       "      <td>Aston Villa</td>\n",
       "      <td>0.4</td>\n",
       "      <td>1.2</td>\n",
       "      <td>27</td>\n",
       "      <td>1.03</td>\n",
       "      <td>1.59</td>\n",
       "      <td>Nott'ham Forest</td>\n",
       "      <td>2023-2024</td>\n",
       "      <td>0.69150</td>\n",
       "    </tr>\n",
       "    <tr>\n",
       "      <th>2608</th>\n",
       "      <td>10</td>\n",
       "      <td>2023-11-05 00:00:00</td>\n",
       "      <td>Matchweek 11</td>\n",
       "      <td>Home</td>\n",
       "      <td>D</td>\n",
       "      <td>1.0</td>\n",
       "      <td>1.0</td>\n",
       "      <td>Liverpool</td>\n",
       "      <td>0.8</td>\n",
       "      <td>2.6</td>\n",
       "      <td>27</td>\n",
       "      <td>1.1</td>\n",
       "      <td>1.85</td>\n",
       "      <td>Luton Town</td>\n",
       "      <td>2023-2024</td>\n",
       "      <td>0.42410</td>\n",
       "    </tr>\n",
       "    <tr>\n",
       "      <th>2609</th>\n",
       "      <td>10</td>\n",
       "      <td>2023-11-06 00:00:00</td>\n",
       "      <td>Matchweek 11</td>\n",
       "      <td>Away</td>\n",
       "      <td>W</td>\n",
       "      <td>4.0</td>\n",
       "      <td>1.0</td>\n",
       "      <td>Tottenham</td>\n",
       "      <td>4.0</td>\n",
       "      <td>0.9</td>\n",
       "      <td>60</td>\n",
       "      <td>2.09</td>\n",
       "      <td>1.09</td>\n",
       "      <td>Chelsea</td>\n",
       "      <td>2023-2024</td>\n",
       "      <td>2.74195</td>\n",
       "    </tr>\n",
       "    <tr>\n",
       "      <th>2610</th>\n",
       "      <td>10</td>\n",
       "      <td>2023-11-06 00:00:00</td>\n",
       "      <td>Matchweek 11</td>\n",
       "      <td>Home</td>\n",
       "      <td>L</td>\n",
       "      <td>1.0</td>\n",
       "      <td>4.0</td>\n",
       "      <td>Chelsea</td>\n",
       "      <td>0.9</td>\n",
       "      <td>4.0</td>\n",
       "      <td>40</td>\n",
       "      <td>1.71</td>\n",
       "      <td>1.43</td>\n",
       "      <td>Tottenham</td>\n",
       "      <td>2023-2024</td>\n",
       "      <td>0.19590</td>\n",
       "    </tr>\n",
       "  </tbody>\n",
       "</table>\n",
       "</div>"
      ],
      "text/plain": [
       "      index                 date         round venue result   gf   ga  \\\n",
       "2601     10  2023-11-04 00:00:00  Matchweek 11  Away      L  0.0  1.0   \n",
       "2602     10  2023-11-04 00:00:00  Matchweek 11  Away      L  1.0  2.0   \n",
       "2603     10  2023-11-04 00:00:00  Matchweek 11  Away      W  2.0  0.0   \n",
       "2604     10  2023-11-04 00:00:00  Matchweek 11  Away      D  1.0  1.0   \n",
       "2605     10  2023-11-05 00:00:00  Matchweek 11  Away      L  0.0  2.0   \n",
       "2606     10  2023-11-05 00:00:00  Matchweek 11  Away      D  1.0  1.0   \n",
       "2607     10  2023-11-05 00:00:00  Matchweek 11  Home      W  2.0  0.0   \n",
       "2608     10  2023-11-05 00:00:00  Matchweek 11  Home      D  1.0  1.0   \n",
       "2609     10  2023-11-06 00:00:00  Matchweek 11  Away      W  4.0  1.0   \n",
       "2610     10  2023-11-06 00:00:00  Matchweek 11  Home      L  1.0  4.0   \n",
       "\n",
       "             opponent   xg  xga  possession xg_roll xga_roll             team  \\\n",
       "2601    Newcastle Utd  0.6  1.0          58    1.85     0.76          Arsenal   \n",
       "2602    Sheffield Utd  1.2  1.0          61    1.22     1.65           Wolves   \n",
       "2603          Burnley  1.3  1.1          33    1.02     1.47   Crystal Palace   \n",
       "2604          Everton  0.5  0.7          79    1.53     1.45         Brighton   \n",
       "2605  Nott'ham Forest  1.2  0.4          73    1.87     1.17      Aston Villa   \n",
       "2606       Luton Town  2.6  0.8          73    2.35     1.15        Liverpool   \n",
       "2607      Aston Villa  0.4  1.2          27    1.03     1.59  Nott'ham Forest   \n",
       "2608        Liverpool  0.8  2.6          27     1.1     1.85       Luton Town   \n",
       "2609        Tottenham  4.0  0.9          60    2.09     1.09          Chelsea   \n",
       "2610          Chelsea  0.9  4.0          40    1.71     1.43        Tottenham   \n",
       "\n",
       "           year     xPts  \n",
       "2601  2023-2024  0.98415  \n",
       "2602  2023-2024  1.50595  \n",
       "2603  2023-2024  1.51070  \n",
       "2604  2023-2024  1.09720  \n",
       "2605  2023-2024  2.02260  \n",
       "2606  2023-2024  2.42680  \n",
       "2607  2023-2024  0.69150  \n",
       "2608  2023-2024  0.42410  \n",
       "2609  2023-2024  2.74195  \n",
       "2610  2023-2024  0.19590  "
      ]
     },
     "execution_count": 83,
     "metadata": {},
     "output_type": "execute_result"
    }
   ],
   "source": [
    "import numpy as np\n",
    "from scipy.stats import poisson\n",
    "import pandas as pd\n",
    "\n",
    "# Same simulate_match function as before\n",
    "def simulate_match(xG_home, xG_away, num_simulations=20000):\n",
    "    home_goals = poisson.rvs(mu=xG_home, size=num_simulations)\n",
    "    away_goals = poisson.rvs(mu=xG_away, size=num_simulations)\n",
    "    \n",
    "    home_wins = np.sum(home_goals > away_goals)\n",
    "    draws = np.sum(home_goals == away_goals)\n",
    "    \n",
    "    win_probability_home = home_wins / num_simulations\n",
    "    draw_probability = draws / num_simulations\n",
    "    \n",
    "    xPts_home = (win_probability_home * 3.0) + (draw_probability * 1.0)\n",
    "    return xPts_home\n",
    "\n",
    "# Applying the simulate_match function to each row in the dataframe\n",
    "df_individual_xpts['xPts'] = df_individual_xpts.apply(lambda row: simulate_match(row['xg'], row['xga']), axis=1)\n",
    "\n",
    "df_individual_xpts.tail(10)\n"
   ]
  },
  {
   "cell_type": "code",
   "execution_count": 84,
   "metadata": {},
   "outputs": [
    {
     "name": "stdout",
     "output_type": "stream",
     "text": [
      "               team      xPts  Rank\n",
      "0   Manchester City  22.50840     1\n",
      "1         Liverpool  21.85145     2\n",
      "2     Newcastle Utd  21.63450     3\n",
      "3           Chelsea  21.08365     4\n",
      "4           Arsenal  20.50835     5\n",
      "5       Aston Villa  18.77050     6\n",
      "6         Brentford  17.92485     7\n",
      "7         Tottenham  17.39080     8\n",
      "8          Brighton  17.01530     9\n",
      "9           Everton  16.53890    10\n",
      "10   Manchester Utd  13.92040    11\n",
      "11   Crystal Palace  13.04615    12\n",
      "12         West Ham  12.78220    13\n",
      "13           Wolves  12.50505    14\n",
      "14  Nott'ham Forest  12.36880    15\n",
      "15           Fulham  11.70830    16\n",
      "16       Luton Town  10.26920    17\n",
      "17          Burnley   8.92210    18\n",
      "18      Bournemouth   8.65450    19\n",
      "19    Sheffield Utd   6.81910    20\n"
     ]
    }
   ],
   "source": [
    "# Group by 'team' and sum 'xPts', then sort by the xPts values\n",
    "team_xPts = df_individual_xpts.groupby('team')['xPts'].sum().sort_values(ascending=False)\n",
    "\n",
    "# Convert the Series to a DataFrame\n",
    "team_xPts_df = team_xPts.reset_index()\n",
    "\n",
    "# Add a new 'Rank' column which provides a rank from 1 to the length of the DataFrame\n",
    "team_xPts_df['Rank'] = team_xPts_df['xPts'].rank(ascending=False, method='min').astype(int)\n",
    "\n",
    "print(team_xPts_df)\n"
   ]
  },
  {
   "cell_type": "code",
   "execution_count": 85,
   "metadata": {},
   "outputs": [
    {
     "name": "stdout",
     "output_type": "stream",
     "text": [
      "    Rk            Squad  Pts\n",
      "0    1  Manchester City   27\n",
      "1    2        Tottenham   26\n",
      "2    3        Liverpool   24\n",
      "3    4          Arsenal   24\n",
      "4    5      Aston Villa   22\n",
      "5    6    Newcastle Utd   20\n",
      "6    7         Brighton   18\n",
      "7    8   Manchester Utd   18\n",
      "8    9        Brentford   16\n",
      "9   10          Chelsea   15\n",
      "10  11   Crystal Palace   15\n",
      "11  12         West Ham   14\n",
      "12  13  Nott'ham Forest   13\n",
      "13  14           Wolves   12\n",
      "14  15           Fulham   12\n",
      "15  16          Everton   11\n",
      "16  17       Luton Town    6\n",
      "17  18      Bournemouth    6\n",
      "18  19          Burnley    4\n",
      "19  20    Sheffield Utd    4\n"
     ]
    }
   ],
   "source": [
    "import requests\n",
    "from bs4 import BeautifulSoup\n",
    "import pandas as pd\n",
    "\n",
    "url = 'https://fbref.com/en/comps/9/Premier-League-Stats'\n",
    "response = requests.get(url).text.replace('<!--', '').replace('-->', '')\n",
    "df_tables = pd.read_html(response)\n",
    "df_tables_prem = df_tables[0]\n",
    "cols = ['Rk', 'Squad', 'Pts']\n",
    "df_tables_prem = df_tables_prem[cols]\n",
    "# Display the first table from the fetched tables\n",
    "print(df_tables_prem)\n"
   ]
  },
  {
   "cell_type": "code",
   "execution_count": 86,
   "metadata": {},
   "outputs": [
    {
     "name": "stdout",
     "output_type": "stream",
     "text": [
      "    Rk            Squad  Pts\n",
      "0    1  Manchester City   27\n",
      "1    2        Tottenham   26\n",
      "2    3        Liverpool   24\n",
      "3    4          Arsenal   24\n",
      "4    5      Aston Villa   22\n",
      "5    6    Newcastle Utd   20\n",
      "6    7         Brighton   18\n",
      "7    8   Manchester Utd   18\n",
      "8    9        Brentford   16\n",
      "9   10          Chelsea   15\n",
      "10  11   Crystal Palace   15\n",
      "11  12         West Ham   14\n",
      "12  13  Nott'ham Forest   13\n",
      "13  14           Wolves   12\n",
      "14  15           Fulham   12\n",
      "15  16          Everton   11\n",
      "16  17       Luton Town    6\n",
      "17  18      Bournemouth    6\n",
      "18  19          Burnley    4\n",
      "19  20    Sheffield Utd    4\n"
     ]
    }
   ],
   "source": [
    "df_tables_prem = df_tables[0]\n",
    "cols = ['Rk', 'Squad', 'Pts']\n",
    "df_tables_prem = df_tables_prem[cols]\n",
    "# Display the first table from the fetched tables\n",
    "print(df_tables_prem)"
   ]
  },
  {
   "cell_type": "code",
   "execution_count": 87,
   "metadata": {},
   "outputs": [
    {
     "data": {
      "text/html": [
       "<div>\n",
       "<style scoped>\n",
       "    .dataframe tbody tr th:only-of-type {\n",
       "        vertical-align: middle;\n",
       "    }\n",
       "\n",
       "    .dataframe tbody tr th {\n",
       "        vertical-align: top;\n",
       "    }\n",
       "\n",
       "    .dataframe thead th {\n",
       "        text-align: right;\n",
       "    }\n",
       "</style>\n",
       "<table border=\"1\" class=\"dataframe\">\n",
       "  <thead>\n",
       "    <tr style=\"text-align: right;\">\n",
       "      <th></th>\n",
       "      <th>Rk</th>\n",
       "      <th>Squad</th>\n",
       "      <th>Pts</th>\n",
       "      <th>team</th>\n",
       "      <th>xPts</th>\n",
       "      <th>Rank</th>\n",
       "    </tr>\n",
       "  </thead>\n",
       "  <tbody>\n",
       "    <tr>\n",
       "      <th>0</th>\n",
       "      <td>1</td>\n",
       "      <td>Manchester City</td>\n",
       "      <td>27</td>\n",
       "      <td>Manchester City</td>\n",
       "      <td>22.50840</td>\n",
       "      <td>1</td>\n",
       "    </tr>\n",
       "    <tr>\n",
       "      <th>1</th>\n",
       "      <td>2</td>\n",
       "      <td>Tottenham</td>\n",
       "      <td>26</td>\n",
       "      <td>Tottenham</td>\n",
       "      <td>17.39080</td>\n",
       "      <td>8</td>\n",
       "    </tr>\n",
       "    <tr>\n",
       "      <th>2</th>\n",
       "      <td>3</td>\n",
       "      <td>Liverpool</td>\n",
       "      <td>24</td>\n",
       "      <td>Liverpool</td>\n",
       "      <td>21.85145</td>\n",
       "      <td>2</td>\n",
       "    </tr>\n",
       "    <tr>\n",
       "      <th>3</th>\n",
       "      <td>4</td>\n",
       "      <td>Arsenal</td>\n",
       "      <td>24</td>\n",
       "      <td>Arsenal</td>\n",
       "      <td>20.50835</td>\n",
       "      <td>5</td>\n",
       "    </tr>\n",
       "    <tr>\n",
       "      <th>4</th>\n",
       "      <td>5</td>\n",
       "      <td>Aston Villa</td>\n",
       "      <td>22</td>\n",
       "      <td>Aston Villa</td>\n",
       "      <td>18.77050</td>\n",
       "      <td>6</td>\n",
       "    </tr>\n",
       "    <tr>\n",
       "      <th>5</th>\n",
       "      <td>6</td>\n",
       "      <td>Newcastle Utd</td>\n",
       "      <td>20</td>\n",
       "      <td>Newcastle Utd</td>\n",
       "      <td>21.63450</td>\n",
       "      <td>3</td>\n",
       "    </tr>\n",
       "    <tr>\n",
       "      <th>6</th>\n",
       "      <td>7</td>\n",
       "      <td>Brighton</td>\n",
       "      <td>18</td>\n",
       "      <td>Brighton</td>\n",
       "      <td>17.01530</td>\n",
       "      <td>9</td>\n",
       "    </tr>\n",
       "    <tr>\n",
       "      <th>7</th>\n",
       "      <td>8</td>\n",
       "      <td>Manchester Utd</td>\n",
       "      <td>18</td>\n",
       "      <td>Manchester Utd</td>\n",
       "      <td>13.92040</td>\n",
       "      <td>11</td>\n",
       "    </tr>\n",
       "    <tr>\n",
       "      <th>8</th>\n",
       "      <td>9</td>\n",
       "      <td>Brentford</td>\n",
       "      <td>16</td>\n",
       "      <td>Brentford</td>\n",
       "      <td>17.92485</td>\n",
       "      <td>7</td>\n",
       "    </tr>\n",
       "    <tr>\n",
       "      <th>9</th>\n",
       "      <td>10</td>\n",
       "      <td>Chelsea</td>\n",
       "      <td>15</td>\n",
       "      <td>Chelsea</td>\n",
       "      <td>21.08365</td>\n",
       "      <td>4</td>\n",
       "    </tr>\n",
       "    <tr>\n",
       "      <th>10</th>\n",
       "      <td>11</td>\n",
       "      <td>Crystal Palace</td>\n",
       "      <td>15</td>\n",
       "      <td>Crystal Palace</td>\n",
       "      <td>13.04615</td>\n",
       "      <td>12</td>\n",
       "    </tr>\n",
       "    <tr>\n",
       "      <th>11</th>\n",
       "      <td>12</td>\n",
       "      <td>West Ham</td>\n",
       "      <td>14</td>\n",
       "      <td>West Ham</td>\n",
       "      <td>12.78220</td>\n",
       "      <td>13</td>\n",
       "    </tr>\n",
       "    <tr>\n",
       "      <th>12</th>\n",
       "      <td>13</td>\n",
       "      <td>Nott'ham Forest</td>\n",
       "      <td>13</td>\n",
       "      <td>Nott'ham Forest</td>\n",
       "      <td>12.36880</td>\n",
       "      <td>15</td>\n",
       "    </tr>\n",
       "    <tr>\n",
       "      <th>13</th>\n",
       "      <td>14</td>\n",
       "      <td>Wolves</td>\n",
       "      <td>12</td>\n",
       "      <td>Wolves</td>\n",
       "      <td>12.50505</td>\n",
       "      <td>14</td>\n",
       "    </tr>\n",
       "    <tr>\n",
       "      <th>14</th>\n",
       "      <td>15</td>\n",
       "      <td>Fulham</td>\n",
       "      <td>12</td>\n",
       "      <td>Fulham</td>\n",
       "      <td>11.70830</td>\n",
       "      <td>16</td>\n",
       "    </tr>\n",
       "    <tr>\n",
       "      <th>15</th>\n",
       "      <td>16</td>\n",
       "      <td>Everton</td>\n",
       "      <td>11</td>\n",
       "      <td>Everton</td>\n",
       "      <td>16.53890</td>\n",
       "      <td>10</td>\n",
       "    </tr>\n",
       "    <tr>\n",
       "      <th>16</th>\n",
       "      <td>17</td>\n",
       "      <td>Luton Town</td>\n",
       "      <td>6</td>\n",
       "      <td>Luton Town</td>\n",
       "      <td>10.26920</td>\n",
       "      <td>17</td>\n",
       "    </tr>\n",
       "    <tr>\n",
       "      <th>17</th>\n",
       "      <td>18</td>\n",
       "      <td>Bournemouth</td>\n",
       "      <td>6</td>\n",
       "      <td>Bournemouth</td>\n",
       "      <td>8.65450</td>\n",
       "      <td>19</td>\n",
       "    </tr>\n",
       "    <tr>\n",
       "      <th>18</th>\n",
       "      <td>19</td>\n",
       "      <td>Burnley</td>\n",
       "      <td>4</td>\n",
       "      <td>Burnley</td>\n",
       "      <td>8.92210</td>\n",
       "      <td>18</td>\n",
       "    </tr>\n",
       "    <tr>\n",
       "      <th>19</th>\n",
       "      <td>20</td>\n",
       "      <td>Sheffield Utd</td>\n",
       "      <td>4</td>\n",
       "      <td>Sheffield Utd</td>\n",
       "      <td>6.81910</td>\n",
       "      <td>20</td>\n",
       "    </tr>\n",
       "  </tbody>\n",
       "</table>\n",
       "</div>"
      ],
      "text/plain": [
       "    Rk            Squad  Pts             team      xPts  Rank\n",
       "0    1  Manchester City   27  Manchester City  22.50840     1\n",
       "1    2        Tottenham   26        Tottenham  17.39080     8\n",
       "2    3        Liverpool   24        Liverpool  21.85145     2\n",
       "3    4          Arsenal   24          Arsenal  20.50835     5\n",
       "4    5      Aston Villa   22      Aston Villa  18.77050     6\n",
       "5    6    Newcastle Utd   20    Newcastle Utd  21.63450     3\n",
       "6    7         Brighton   18         Brighton  17.01530     9\n",
       "7    8   Manchester Utd   18   Manchester Utd  13.92040    11\n",
       "8    9        Brentford   16        Brentford  17.92485     7\n",
       "9   10          Chelsea   15          Chelsea  21.08365     4\n",
       "10  11   Crystal Palace   15   Crystal Palace  13.04615    12\n",
       "11  12         West Ham   14         West Ham  12.78220    13\n",
       "12  13  Nott'ham Forest   13  Nott'ham Forest  12.36880    15\n",
       "13  14           Wolves   12           Wolves  12.50505    14\n",
       "14  15           Fulham   12           Fulham  11.70830    16\n",
       "15  16          Everton   11          Everton  16.53890    10\n",
       "16  17       Luton Town    6       Luton Town  10.26920    17\n",
       "17  18      Bournemouth    6      Bournemouth   8.65450    19\n",
       "18  19          Burnley    4          Burnley   8.92210    18\n",
       "19  20    Sheffield Utd    4    Sheffield Utd   6.81910    20"
      ]
     },
     "execution_count": 87,
     "metadata": {},
     "output_type": "execute_result"
    }
   ],
   "source": [
    "merged_df = pd.merge(df_tables_prem, team_xPts_df, left_on='Squad', right_on='team', how='inner')\n",
    "merged_df"
   ]
  },
  {
   "cell_type": "code",
   "execution_count": 88,
   "metadata": {},
   "outputs": [],
   "source": [
    "merged_df.to_csv('data/raw_files/tables_expected_actual.csv')"
   ]
  },
  {
   "cell_type": "code",
   "execution_count": 81,
   "metadata": {},
   "outputs": [
    {
     "data": {
      "image/png": "[encoded data removed]",
      "text/plain": [
       "<Figure size 720x864 with 1 Axes>"
      ]
     },
     "metadata": {
      "needs_background": "light"
     },
     "output_type": "display_data"
    }
   ],
   "source": [
    "import matplotlib.pyplot as plt\n",
    "\n",
    "teams = merged_df['team'].unique().tolist()\n",
    "\n",
    "actual_positions = merged_df['Rk'].unique().tolist() #[1, 2, 3, 3, 4, 4, 1, 5, 5, 6, 9, 9, 7, 15, 12, 15, 15, 19, 20]\n",
    "expected_positions = merged_df['Rank'].unique().tolist() #[3, 8, 3, 5, 6, 7, 8, 9, 10, 11, 12, 13, 14, 16, 14, 17, 17, 18, 20]\n",
    "\n",
    "# Reverse the lists\n",
    "teams = teams[::-1]\n",
    "actual_positions = actual_positions[::-1]\n",
    "expected_positions = expected_positions[::-1]\n",
    "\n",
    "# Create a scatter plot\n",
    "fig, ax = plt.subplots(figsize=(10, 12))\n",
    "\n",
    "# Plot actual positions (in red) and expected positions (in yellow)\n",
    "ax.scatter(actual_positions, teams, color='green', s=300, label=\"Actual Position\")\n",
    "ax.scatter(expected_positions, teams, color='red', s=300, label=\"Expected Position\")\n",
    "\n",
    "# Draw arrows between actual and expected positions\n",
    "for team, actual, expected in zip(teams, actual_positions, expected_positions):\n",
    "    ax.annotate(\"\", xy=(expected, team), xytext=(actual, team),\n",
    "                arrowprops=dict(arrowstyle=\"->\", lw=1.5))\n",
    "    ax.text(actual, team, str(actual), color='white', ha='center', va='center', weight='bold')\n",
    "    ax.text(expected, team, str(expected), color='black', ha='center', va='center', weight='bold')\n",
    "\n",
    "# Set labels, title and adjust x-axis\n",
    "ax.set_xlabel(\"Position\")\n",
    "ax.set_title(\"Actual vs Expected Positions (EPL 2023-24)\")\n",
    "ax.set_xlim(0, 21)  # Set x-axis limits from 1 to 20\n",
    "ax.legend(loc=\"upper right\")\n",
    "\n",
    "plt.tight_layout()\n",
    "plt.show()\n"
   ]
  }
 ],
 "metadata": {
  "kernelspec": {
   "display_name": "Python 3.9.12 ('base')",
   "language": "python",
   "name": "python3"
  },
  "language_info": {
   "codemirror_mode": {
    "name": "ipython",
    "version": 3
   },
   "file_extension": ".py",
   "mimetype": "text/x-python",
   "name": "python",
   "nbconvert_exporter": "python",
   "pygments_lexer": "ipython3",
   "version": "3.9.12"
  },
  "orig_nbformat": 4,
  "vscode": {
   "interpreter": {
    "hash": "0496842fed3252e429d236fd9df9f28ef62eb2f8e7d98cd38ba8d6755488d983"
   }
  }
 },
 "nbformat": 4,
 "nbformat_minor": 2
}
