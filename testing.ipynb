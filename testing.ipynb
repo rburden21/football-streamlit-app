{
 "cells": [
  {
   "cell_type": "code",
   "execution_count": 4,
   "metadata": {},
   "outputs": [],
   "source": [
    "import matplotlib.pyplot as plt\n",
    "import seaborn as sns\n",
    "import pandas as pd\n",
    "import numpy as np\n",
    "import sqlite3 \n",
    "import os"
   ]
  },
  {
   "cell_type": "code",
   "execution_count": 8,
   "metadata": {},
   "outputs": [
    {
     "name": "stdout",
     "output_type": "stream",
     "text": [
      "/Users/richard/Desktop/Projects/football-streamlit-app/football-streamlit-app/data/databases/fpl_data.db\n"
     ]
    }
   ],
   "source": [
    "# FPL Data\n",
    "folder_db = '/data/databases/'\n",
    "folder_raw = '/data/raw_files/'\n",
    "\n",
    "# Get the directory of the current script\n",
    "current_directory = os.path.abspath('')\n",
    "\n",
    "\n",
    "db_path = os.path.join(current_directory + folder_db, \"fpl_data.db\")\n",
    "conn = sqlite3.connect(db_path)\n",
    "df_fpl = pd.read_sql_query('SELECT * FROM fpl_data', conn)\n",
    "conn.close()"
   ]
  },
  {
   "cell_type": "code",
   "execution_count": 33,
   "metadata": {},
   "outputs": [
    {
     "data": {
      "text/html": [
       "<div>\n",
       "<style scoped>\n",
       "    .dataframe tbody tr th:only-of-type {\n",
       "        vertical-align: middle;\n",
       "    }\n",
       "\n",
       "    .dataframe tbody tr th {\n",
       "        vertical-align: top;\n",
       "    }\n",
       "\n",
       "    .dataframe thead th {\n",
       "        text-align: right;\n",
       "    }\n",
       "</style>\n",
       "<table border=\"1\" class=\"dataframe\">\n",
       "  <thead>\n",
       "    <tr style=\"text-align: right;\">\n",
       "      <th></th>\n",
       "      <th>rank</th>\n",
       "      <th>name</th>\n",
       "      <th>league</th>\n",
       "      <th>rating</th>\n",
       "      <th>off</th>\n",
       "      <th>def</th>\n",
       "      <th>spi</th>\n",
       "    </tr>\n",
       "  </thead>\n",
       "  <tbody>\n",
       "    <tr>\n",
       "      <th>0</th>\n",
       "      <td>1</td>\n",
       "      <td>Manchester City</td>\n",
       "      <td>Barclays Premier League</td>\n",
       "      <td>100.0</td>\n",
       "      <td>2.79</td>\n",
       "      <td>0.28</td>\n",
       "      <td>92.00</td>\n",
       "    </tr>\n",
       "    <tr>\n",
       "      <th>1</th>\n",
       "      <td>2</td>\n",
       "      <td>Liverpool</td>\n",
       "      <td>Barclays Premier League</td>\n",
       "      <td>94.1</td>\n",
       "      <td>2.63</td>\n",
       "      <td>0.67</td>\n",
       "      <td>83.93</td>\n",
       "    </tr>\n",
       "    <tr>\n",
       "      <th>2</th>\n",
       "      <td>3</td>\n",
       "      <td>Arsenal</td>\n",
       "      <td>Barclays Premier League</td>\n",
       "      <td>92.8</td>\n",
       "      <td>2.53</td>\n",
       "      <td>0.61</td>\n",
       "      <td>83.92</td>\n",
       "    </tr>\n",
       "    <tr>\n",
       "      <th>3</th>\n",
       "      <td>4</td>\n",
       "      <td>Manchester United</td>\n",
       "      <td>Barclays Premier League</td>\n",
       "      <td>92.3</td>\n",
       "      <td>2.35</td>\n",
       "      <td>0.74</td>\n",
       "      <td>79.08</td>\n",
       "    </tr>\n",
       "    <tr>\n",
       "      <th>4</th>\n",
       "      <td>5</td>\n",
       "      <td>Newcastle</td>\n",
       "      <td>Barclays Premier League</td>\n",
       "      <td>90.7</td>\n",
       "      <td>2.38</td>\n",
       "      <td>0.53</td>\n",
       "      <td>83.70</td>\n",
       "    </tr>\n",
       "  </tbody>\n",
       "</table>\n",
       "</div>"
      ],
      "text/plain": [
       "   rank               name                   league  rating   off   def    spi\n",
       "0     1    Manchester City  Barclays Premier League   100.0  2.79  0.28  92.00\n",
       "1     2          Liverpool  Barclays Premier League    94.1  2.63  0.67  83.93\n",
       "2     3            Arsenal  Barclays Premier League    92.8  2.53  0.61  83.92\n",
       "3     4  Manchester United  Barclays Premier League    92.3  2.35  0.74  79.08\n",
       "4     5          Newcastle  Barclays Premier League    90.7  2.38  0.53  83.70"
      ]
     },
     "execution_count": 33,
     "metadata": {},
     "output_type": "execute_result"
    }
   ],
   "source": [
    "data_path = os.path.join(current_directory + folder_raw)\n",
    "df_test_folder = pd.read_csv(data_path + '/team_ranks.csv')\n",
    "df_test_folder.head(5)"
   ]
  },
  {
   "cell_type": "code",
   "execution_count": 10,
   "metadata": {},
   "outputs": [
    {
     "data": {
      "text/html": [
       "<div>\n",
       "<style scoped>\n",
       "    .dataframe tbody tr th:only-of-type {\n",
       "        vertical-align: middle;\n",
       "    }\n",
       "\n",
       "    .dataframe tbody tr th {\n",
       "        vertical-align: top;\n",
       "    }\n",
       "\n",
       "    .dataframe thead th {\n",
       "        text-align: right;\n",
       "    }\n",
       "</style>\n",
       "<table border=\"1\" class=\"dataframe\">\n",
       "  <thead>\n",
       "    <tr style=\"text-align: right;\">\n",
       "      <th></th>\n",
       "      <th>index</th>\n",
       "      <th>second_name</th>\n",
       "      <th>first_name</th>\n",
       "      <th>team</th>\n",
       "      <th>element_type</th>\n",
       "      <th>selected_by_percent</th>\n",
       "      <th>now_cost</th>\n",
       "      <th>minutes</th>\n",
       "      <th>transfers_in</th>\n",
       "      <th>transfers_out</th>\n",
       "      <th>value_season</th>\n",
       "      <th>bonus</th>\n",
       "      <th>bps</th>\n",
       "      <th>total_points</th>\n",
       "      <th>expected_goals</th>\n",
       "      <th>expected_assists</th>\n",
       "      <th>expected_goal_involvements</th>\n",
       "      <th>expected_goals_conceded</th>\n",
       "      <th>expected_goals_per_90</th>\n",
       "      <th>expected_assists_per_90</th>\n",
       "      <th>expected_goal_involvements_per_90</th>\n",
       "      <th>expected_goals_conceded_per_90</th>\n",
       "      <th>id_x</th>\n",
       "      <th>plural_name</th>\n",
       "      <th>singular_name</th>\n",
       "      <th>pos_short</th>\n",
       "      <th>id_y</th>\n",
       "      <th>name</th>\n",
       "      <th>full_name</th>\n",
       "    </tr>\n",
       "  </thead>\n",
       "  <tbody>\n",
       "    <tr>\n",
       "      <th>0</th>\n",
       "      <td>0</td>\n",
       "      <td>Balogun</td>\n",
       "      <td>Folarin</td>\n",
       "      <td>1</td>\n",
       "      <td>4</td>\n",
       "      <td>0.3</td>\n",
       "      <td>44</td>\n",
       "      <td>0</td>\n",
       "      <td>10024</td>\n",
       "      <td>52995</td>\n",
       "      <td>0.0</td>\n",
       "      <td>0</td>\n",
       "      <td>0</td>\n",
       "      <td>0</td>\n",
       "      <td>0.00</td>\n",
       "      <td>0.00</td>\n",
       "      <td>0.00</td>\n",
       "      <td>0.00</td>\n",
       "      <td>0.00</td>\n",
       "      <td>0.00</td>\n",
       "      <td>0.00</td>\n",
       "      <td>0.00</td>\n",
       "      <td>4</td>\n",
       "      <td>Forwards</td>\n",
       "      <td>Forward</td>\n",
       "      <td>FW</td>\n",
       "      <td>1</td>\n",
       "      <td>Arsenal</td>\n",
       "      <td>Folarin Balogun</td>\n",
       "    </tr>\n",
       "    <tr>\n",
       "      <th>1</th>\n",
       "      <td>1</td>\n",
       "      <td>Alves Soares</td>\n",
       "      <td>Cedric</td>\n",
       "      <td>1</td>\n",
       "      <td>2</td>\n",
       "      <td>0.4</td>\n",
       "      <td>39</td>\n",
       "      <td>0</td>\n",
       "      <td>13536</td>\n",
       "      <td>18554</td>\n",
       "      <td>0.0</td>\n",
       "      <td>0</td>\n",
       "      <td>0</td>\n",
       "      <td>0</td>\n",
       "      <td>0.00</td>\n",
       "      <td>0.00</td>\n",
       "      <td>0.00</td>\n",
       "      <td>0.00</td>\n",
       "      <td>0.00</td>\n",
       "      <td>0.00</td>\n",
       "      <td>0.00</td>\n",
       "      <td>0.00</td>\n",
       "      <td>2</td>\n",
       "      <td>Defenders</td>\n",
       "      <td>Defender</td>\n",
       "      <td>DF</td>\n",
       "      <td>1</td>\n",
       "      <td>Arsenal</td>\n",
       "      <td>Cedric Alves Soares</td>\n",
       "    </tr>\n",
       "    <tr>\n",
       "      <th>2</th>\n",
       "      <td>2</td>\n",
       "      <td>Elneny</td>\n",
       "      <td>Mohamed</td>\n",
       "      <td>1</td>\n",
       "      <td>3</td>\n",
       "      <td>0.1</td>\n",
       "      <td>44</td>\n",
       "      <td>0</td>\n",
       "      <td>5135</td>\n",
       "      <td>9838</td>\n",
       "      <td>0.0</td>\n",
       "      <td>0</td>\n",
       "      <td>0</td>\n",
       "      <td>0</td>\n",
       "      <td>0.00</td>\n",
       "      <td>0.00</td>\n",
       "      <td>0.00</td>\n",
       "      <td>0.00</td>\n",
       "      <td>0.00</td>\n",
       "      <td>0.00</td>\n",
       "      <td>0.00</td>\n",
       "      <td>0.00</td>\n",
       "      <td>3</td>\n",
       "      <td>Midfielders</td>\n",
       "      <td>Midfielder</td>\n",
       "      <td>MF</td>\n",
       "      <td>1</td>\n",
       "      <td>Arsenal</td>\n",
       "      <td>Mohamed Elneny</td>\n",
       "    </tr>\n",
       "    <tr>\n",
       "      <th>3</th>\n",
       "      <td>3</td>\n",
       "      <td>Ferreira Vieira</td>\n",
       "      <td>Fabio</td>\n",
       "      <td>1</td>\n",
       "      <td>3</td>\n",
       "      <td>0.1</td>\n",
       "      <td>54</td>\n",
       "      <td>185</td>\n",
       "      <td>8971</td>\n",
       "      <td>9951</td>\n",
       "      <td>3.0</td>\n",
       "      <td>0</td>\n",
       "      <td>45</td>\n",
       "      <td>16</td>\n",
       "      <td>0.41</td>\n",
       "      <td>0.32</td>\n",
       "      <td>0.73</td>\n",
       "      <td>1.41</td>\n",
       "      <td>0.20</td>\n",
       "      <td>0.16</td>\n",
       "      <td>0.36</td>\n",
       "      <td>0.69</td>\n",
       "      <td>3</td>\n",
       "      <td>Midfielders</td>\n",
       "      <td>Midfielder</td>\n",
       "      <td>MF</td>\n",
       "      <td>1</td>\n",
       "      <td>Arsenal</td>\n",
       "      <td>Fabio Vieira</td>\n",
       "    </tr>\n",
       "    <tr>\n",
       "      <th>4</th>\n",
       "      <td>4</td>\n",
       "      <td>dos Santos Magalhaes</td>\n",
       "      <td>Gabriel</td>\n",
       "      <td>1</td>\n",
       "      <td>2</td>\n",
       "      <td>12.7</td>\n",
       "      <td>47</td>\n",
       "      <td>384</td>\n",
       "      <td>228409</td>\n",
       "      <td>1885273</td>\n",
       "      <td>3.4</td>\n",
       "      <td>0</td>\n",
       "      <td>82</td>\n",
       "      <td>16</td>\n",
       "      <td>0.07</td>\n",
       "      <td>0.04</td>\n",
       "      <td>0.11</td>\n",
       "      <td>4.20</td>\n",
       "      <td>0.02</td>\n",
       "      <td>0.01</td>\n",
       "      <td>0.03</td>\n",
       "      <td>0.98</td>\n",
       "      <td>2</td>\n",
       "      <td>Defenders</td>\n",
       "      <td>Defender</td>\n",
       "      <td>DF</td>\n",
       "      <td>1</td>\n",
       "      <td>Arsenal</td>\n",
       "      <td>Gabriel Dos Santos</td>\n",
       "    </tr>\n",
       "    <tr>\n",
       "      <th>5</th>\n",
       "      <td>5</td>\n",
       "      <td>Havertz</td>\n",
       "      <td>Kai</td>\n",
       "      <td>1</td>\n",
       "      <td>3</td>\n",
       "      <td>1.7</td>\n",
       "      <td>71</td>\n",
       "      <td>446</td>\n",
       "      <td>25572</td>\n",
       "      <td>316855</td>\n",
       "      <td>2.1</td>\n",
       "      <td>0</td>\n",
       "      <td>38</td>\n",
       "      <td>15</td>\n",
       "      <td>1.58</td>\n",
       "      <td>0.50</td>\n",
       "      <td>2.08</td>\n",
       "      <td>4.82</td>\n",
       "      <td>0.32</td>\n",
       "      <td>0.10</td>\n",
       "      <td>0.42</td>\n",
       "      <td>0.97</td>\n",
       "      <td>3</td>\n",
       "      <td>Midfielders</td>\n",
       "      <td>Midfielder</td>\n",
       "      <td>MF</td>\n",
       "      <td>1</td>\n",
       "      <td>Arsenal</td>\n",
       "      <td>Kai Havertz</td>\n",
       "    </tr>\n",
       "  </tbody>\n",
       "</table>\n",
       "</div>"
      ],
      "text/plain": [
       "   index           second_name first_name  team  element_type  \\\n",
       "0      0               Balogun    Folarin     1             4   \n",
       "1      1          Alves Soares     Cedric     1             2   \n",
       "2      2                Elneny    Mohamed     1             3   \n",
       "3      3       Ferreira Vieira      Fabio     1             3   \n",
       "4      4  dos Santos Magalhaes    Gabriel     1             2   \n",
       "5      5               Havertz        Kai     1             3   \n",
       "\n",
       "  selected_by_percent  now_cost  minutes  transfers_in  transfers_out  \\\n",
       "0                 0.3        44        0         10024          52995   \n",
       "1                 0.4        39        0         13536          18554   \n",
       "2                 0.1        44        0          5135           9838   \n",
       "3                 0.1        54      185          8971           9951   \n",
       "4                12.7        47      384        228409        1885273   \n",
       "5                 1.7        71      446         25572         316855   \n",
       "\n",
       "  value_season  bonus  bps  total_points expected_goals expected_assists  \\\n",
       "0          0.0      0    0             0           0.00             0.00   \n",
       "1          0.0      0    0             0           0.00             0.00   \n",
       "2          0.0      0    0             0           0.00             0.00   \n",
       "3          3.0      0   45            16           0.41             0.32   \n",
       "4          3.4      0   82            16           0.07             0.04   \n",
       "5          2.1      0   38            15           1.58             0.50   \n",
       "\n",
       "  expected_goal_involvements expected_goals_conceded  expected_goals_per_90  \\\n",
       "0                       0.00                    0.00                   0.00   \n",
       "1                       0.00                    0.00                   0.00   \n",
       "2                       0.00                    0.00                   0.00   \n",
       "3                       0.73                    1.41                   0.20   \n",
       "4                       0.11                    4.20                   0.02   \n",
       "5                       2.08                    4.82                   0.32   \n",
       "\n",
       "   expected_assists_per_90  expected_goal_involvements_per_90  \\\n",
       "0                     0.00                               0.00   \n",
       "1                     0.00                               0.00   \n",
       "2                     0.00                               0.00   \n",
       "3                     0.16                               0.36   \n",
       "4                     0.01                               0.03   \n",
       "5                     0.10                               0.42   \n",
       "\n",
       "   expected_goals_conceded_per_90  id_x  plural_name singular_name pos_short  \\\n",
       "0                            0.00     4     Forwards       Forward        FW   \n",
       "1                            0.00     2    Defenders      Defender        DF   \n",
       "2                            0.00     3  Midfielders    Midfielder        MF   \n",
       "3                            0.69     3  Midfielders    Midfielder        MF   \n",
       "4                            0.98     2    Defenders      Defender        DF   \n",
       "5                            0.97     3  Midfielders    Midfielder        MF   \n",
       "\n",
       "   id_y     name            full_name  \n",
       "0     1  Arsenal      Folarin Balogun  \n",
       "1     1  Arsenal  Cedric Alves Soares  \n",
       "2     1  Arsenal       Mohamed Elneny  \n",
       "3     1  Arsenal         Fabio Vieira  \n",
       "4     1  Arsenal   Gabriel Dos Santos  \n",
       "5     1  Arsenal          Kai Havertz  "
      ]
     },
     "execution_count": 10,
     "metadata": {},
     "output_type": "execute_result"
    }
   ],
   "source": [
    "pd.set_option('display.max_columns', None)\n",
    "df_fpl.head(6)\n",
    "# selected_by_percent\n",
    "# total_points"
   ]
  },
  {
   "cell_type": "code",
   "execution_count": 17,
   "metadata": {},
   "outputs": [
    {
     "name": "stderr",
     "output_type": "stream",
     "text": [
      "/Users/richard/opt/anaconda3/lib/python3.9/site-packages/seaborn/_decorators.py:36: FutureWarning: Pass the following variables as keyword args: x, y. From version 0.12, the only valid positional argument will be `data`, and passing other arguments without an explicit keyword will result in an error or misinterpretation.\n",
      "  warnings.warn(\n"
     ]
    },
    {
     "data": {
      "image/png": "[encoded data removed]",
      "text/plain": [
       "<Figure size 720x432 with 1 Axes>"
      ]
     },
     "metadata": {
      "needs_background": "light"
     },
     "output_type": "display_data"
    }
   ],
   "source": [
    "# df_fpl.head(6)\n",
    "# selected_by_percent\n",
    "# total_points\n",
    "\n",
    "\n",
    "df_fpl['selected_by_percent'] = pd.to_numeric(df_fpl['selected_by_percent']) #.astype(int)\n",
    "\n",
    "plt.figure(figsize=(10, 6))\n",
    "sns.scatterplot(df_fpl['selected_by_percent'], df_fpl['total_points'], s=100) #, hue=df_fpl['full_name']\n",
    "plt.xlabel('Ownership')\n",
    "plt.ylabel('Gameweek Points')\n",
    "plt.title('Differentials and essentials')\n",
    "plt.show()"
   ]
  },
  {
   "cell_type": "code",
   "execution_count": 23,
   "metadata": {},
   "outputs": [
    {
     "name": "stderr",
     "output_type": "stream",
     "text": [
      "/Users/richard/opt/anaconda3/lib/python3.9/site-packages/seaborn/_decorators.py:36: FutureWarning: Pass the following variables as keyword args: x, y. From version 0.12, the only valid positional argument will be `data`, and passing other arguments without an explicit keyword will result in an error or misinterpretation.\n",
      "  warnings.warn(\n"
     ]
    },
    {
     "data": {
      "image/png": "[encoded data removed]",
      "text/plain": [
       "<Figure size 720x432 with 1 Axes>"
      ]
     },
     "metadata": {
      "needs_background": "light"
     },
     "output_type": "display_data"
    }
   ],
   "source": [
    "players = ['Son', 'Sterling', 'Fernandes', 'Beckham']\n",
    "transfers = [1372000, -3005000, -130000, -10000]\n",
    "\n",
    "plt.figure(figsize=(10, 6))\n",
    "sns.barplot(players, transfers, palette='coolwarm')\n",
    "plt.xlabel('Players')\n",
    "plt.ylabel('Transfers')\n",
    "plt.title('Top pre-gameweek moves')\n",
    "plt.show()"
   ]
  },
  {
   "cell_type": "code",
   "execution_count": 19,
   "metadata": {},
   "outputs": [
    {
     "data": {
      "image/png": "[encoded data removed]",
      "text/plain": [
       "<Figure size 720x432 with 1 Axes>"
      ]
     },
     "metadata": {
      "needs_background": "light"
     },
     "output_type": "display_data"
    }
   ],
   "source": [
    "players = ['Isak', 'Doucoure', 'Mendes']\n",
    "xg_values = [1.0, 0.8, 0.9]\n",
    "xa_values = [0.5, 0.4, 0.3]\n",
    "\n",
    "plt.figure(figsize=(10, 6))\n",
    "for player, xg, xa in zip(players, xg_values, xa_values):\n",
    "    plt.plot([xg, xa], [player, player], marker='o')\n",
    "plt.xlabel('xG + xA')\n",
    "plt.title('Great expectations: Non-penalty xG + xA')\n",
    "plt.show()"
   ]
  },
  {
   "cell_type": "code",
   "execution_count": 24,
   "metadata": {},
   "outputs": [
    {
     "data": {
      "image/png": "[encoded data removed]",
      "text/plain": [
       "<Figure size 576x432 with 2 Axes>"
      ]
     },
     "metadata": {
      "needs_background": "light"
     },
     "output_type": "display_data"
    }
   ],
   "source": [
    "data = {\n",
    "    'Goalkeepers': [2, 3, 2, 3],\n",
    "    'Defenders': [5, 6, 5, 7],\n",
    "    'Midfielders': [10, 12, 11, 13],\n",
    "    'Forwards': [3, 4, 3, 5]\n",
    "}\n",
    "gameweeks = [5, 6, 7, 8]\n",
    "\n",
    "heatmap_data = pd.DataFrame(data, index=gameweeks)\n",
    "plt.figure(figsize=(8, 6))\n",
    "sns.heatmap(heatmap_data, cmap='coolwarm', annot=True)\n",
    "plt.title('Points share')\n",
    "plt.show()"
   ]
  },
  {
   "cell_type": "code",
   "execution_count": 25,
   "metadata": {},
   "outputs": [
    {
     "data": {
      "image/png": "[encoded data removed]",
      "text/plain": [
       "<Figure size 864x1080 with 1 Axes>"
      ]
     },
     "metadata": {
      "needs_background": "light"
     },
     "output_type": "display_data"
    }
   ],
   "source": [
    "import matplotlib.pyplot as plt\n",
    "\n",
    "# Sample Data\n",
    "players = [\n",
    "    \"Thierry Henry\", \"Sergio Agüero\", \"Mohamed Salah\",\n",
    "    # ... (add other players here)\n",
    "    \"James Maddison\", \"Theo Walcott\"\n",
    "]\n",
    "\n",
    "# Just for this example, I'm assuming the first value is non-penalty goals \n",
    "# and the second value is assists. You'll need to adjust these.\n",
    "non_penalty_goals = [0.85, 0.83, 0.76, 0.52, 0.47]\n",
    "assists = [0.10, 0.10, 0.10, 0.01, 0.05]\n",
    "\n",
    "# Plotting\n",
    "fig, ax = plt.subplots(figsize=(12, 15))\n",
    "\n",
    "# Stacked Bar Chart\n",
    "ax.barh(players, non_penalty_goals, color='#7a5195', label='Non-Penalty Goals per 90', edgecolor='black')\n",
    "ax.barh(players, assists, left=non_penalty_goals, color='#003f5c', label='Assists per 90', edgecolor='black')\n",
    "\n",
    "# Invert y-axis to have the player with the highest value on top\n",
    "ax.invert_yaxis()\n",
    "\n",
    "# Setting title and labels\n",
    "ax.set_title(\"NON-PENALTY GOALS + ASSISTS PER 90\\nPremier League | 99/00 - 22/23 |>10k min\", fontsize=16, fontweight='bold', pad=20)\n",
    "ax.set_xlabel(\"Non-Penalty Goals + Assists per 90\", fontsize=14)\n",
    "\n",
    "# Remove y-ticks\n",
    "ax.tick_params(axis='y', which='both', length=0)\n",
    "ax.grid(axis='x')\n",
    "\n",
    "# Display the combined values next to the bars\n",
    "for i, (g, a) in enumerate(zip(non_penalty_goals, assists)):\n",
    "    ax.text(g + a + 0.01, i, \n",
    "            f\"{g + a:.2f}\", va='center', ha='left', fontsize=12, fontweight='bold', color='black')\n",
    "\n",
    "plt.tight_layout()\n",
    "plt.show()\n"
   ]
  },
  {
   "cell_type": "code",
   "execution_count": 27,
   "metadata": {},
   "outputs": [
    {
     "data": {
      "application/vnd.plotly.v1+json": {
       "config": {
        "plotlyServerURL": "https://plot.ly"
       },
       "data": [
        {
         "colorbar": {
          "title": {
           "text": "Points"
          }
         },
         "colorscale": [
          [
           0,
           "rgb(255,245,240)"
          ],
          [
           0.125,
           "rgb(254,224,210)"
          ],
          [
           0.25,
           "rgb(252,187,161)"
          ],
          [
           0.375,
           "rgb(252,146,114)"
          ],
          [
           0.5,
           "rgb(251,106,74)"
          ],
          [
           0.625,
           "rgb(239,59,44)"
          ],
          [
           0.75,
           "rgb(203,24,29)"
          ],
          [
           0.875,
           "rgb(165,15,21)"
          ],
          [
           1,
           "rgb(103,0,13)"
          ]
         ],
         "hoverongaps": false,
         "type": "heatmap",
         "x": [
          "2",
          "4",
          "6",
          "8"
         ],
         "y": [
          "Joachim Andersen (51 points)",
          "Kieran Trippier (49 points)",
          "Benjamin White (45 points)",
          "William Saliba (36 points)",
          "Matty Cash (36 points)",
          "Cristian Romero (36 points)",
          "Marc Guéhi (35 points)",
          "Tyrick Mitchell (34 points)",
          "Micky van de Ven (34 points)",
          "Axel Disasi (34 points)",
          "Vladimir Coufal (33 points)",
          "Levi Colwill (33 points)",
          "Pedro Porro (32 points)",
          "Destiny Udogie (32 points)",
          "Pau Torres (31 points)",
          "Kyle Walker (31 points)"
         ],
         "z": [
          [
           9,
           2,
           11,
           1,
           1,
           6,
           15,
           6
          ],
          [
           2,
           2,
           0,
           1,
           8,
           18,
           12,
           6
          ],
          [
           1,
           7,
           1,
           2,
           7,
           4,
           14,
           9
          ],
          [
           5,
           8,
           1,
           2,
           6,
           1,
           6,
           7
          ],
          [
           -1,
           6,
           17,
           -1,
           1,
           6,
           6,
           2
          ],
          [
           7,
           6,
           7,
           7,
           2,
           -2,
           1,
           8
          ],
          [
           6,
           2,
           2,
           1,
           0,
           8,
           7,
           9
          ],
          [
           8,
           2,
           2,
           4,
           1,
           5,
           6,
           6
          ],
          [
           1,
           7,
           6,
           1,
           1,
           1,
           2,
           15
          ],
          [
           11,
           0,
           6,
           2,
           5,
           2,
           6,
           2
          ],
          [
           2,
           2,
           2,
           2,
           4,
           12,
           5,
           5
          ],
          [
           2,
           2,
           1,
           6,
           2,
           6,
           2,
           12
          ],
          [
           0,
           1,
           6,
           6,
           4,
           2,
           1,
           7
          ],
          [
           1,
           1,
           5,
           12,
           5,
           2,
           0,
           1
          ],
          [
           0,
           0,
           6,
           2,
           1,
           2,
           8,
           2
          ],
          [
           6,
           6,
           6,
           2,
           2,
           2,
           11,
           0
          ]
         ]
        }
       ],
       "layout": {
        "template": {
         "data": {
          "bar": [
           {
            "error_x": {
             "color": "#2a3f5f"
            },
            "error_y": {
             "color": "#2a3f5f"
            },
            "marker": {
             "line": {
              "color": "#E5ECF6",
              "width": 0.5
             },
             "pattern": {
              "fillmode": "overlay",
              "size": 10,
              "solidity": 0.2
             }
            },
            "type": "bar"
           }
          ],
          "barpolar": [
           {
            "marker": {
             "line": {
              "color": "#E5ECF6",
              "width": 0.5
             },
             "pattern": {
              "fillmode": "overlay",
              "size": 10,
              "solidity": 0.2
             }
            },
            "type": "barpolar"
           }
          ],
          "carpet": [
           {
            "aaxis": {
             "endlinecolor": "#2a3f5f",
             "gridcolor": "white",
             "linecolor": "white",
             "minorgridcolor": "white",
             "startlinecolor": "#2a3f5f"
            },
            "baxis": {
             "endlinecolor": "#2a3f5f",
             "gridcolor": "white",
             "linecolor": "white",
             "minorgridcolor": "white",
             "startlinecolor": "#2a3f5f"
            },
            "type": "carpet"
           }
          ],
          "choropleth": [
           {
            "colorbar": {
             "outlinewidth": 0,
             "ticks": ""
            },
            "type": "choropleth"
           }
          ],
          "contour": [
           {
            "colorbar": {
             "outlinewidth": 0,
             "ticks": ""
            },
            "colorscale": [
             [
              0,
              "#0d0887"
             ],
             [
              0.1111111111111111,
              "#46039f"
             ],
             [
              0.2222222222222222,
              "#7201a8"
             ],
             [
              0.3333333333333333,
              "#9c179e"
             ],
             [
              0.4444444444444444,
              "#bd3786"
             ],
             [
              0.5555555555555556,
              "#d8576b"
             ],
             [
              0.6666666666666666,
              "#ed7953"
             ],
             [
              0.7777777777777778,
              "#fb9f3a"
             ],
             [
              0.8888888888888888,
              "#fdca26"
             ],
             [
              1,
              "#f0f921"
             ]
            ],
            "type": "contour"
           }
          ],
          "contourcarpet": [
           {
            "colorbar": {
             "outlinewidth": 0,
             "ticks": ""
            },
            "type": "contourcarpet"
           }
          ],
          "heatmap": [
           {
            "colorbar": {
             "outlinewidth": 0,
             "ticks": ""
            },
            "colorscale": [
             [
              0,
              "#0d0887"
             ],
             [
              0.1111111111111111,
              "#46039f"
             ],
             [
              0.2222222222222222,
              "#7201a8"
             ],
             [
              0.3333333333333333,
              "#9c179e"
             ],
             [
              0.4444444444444444,
              "#bd3786"
             ],
             [
              0.5555555555555556,
              "#d8576b"
             ],
             [
              0.6666666666666666,
              "#ed7953"
             ],
             [
              0.7777777777777778,
              "#fb9f3a"
             ],
             [
              0.8888888888888888,
              "#fdca26"
             ],
             [
              1,
              "#f0f921"
             ]
            ],
            "type": "heatmap"
           }
          ],
          "heatmapgl": [
           {
            "colorbar": {
             "outlinewidth": 0,
             "ticks": ""
            },
            "colorscale": [
             [
              0,
              "#0d0887"
             ],
             [
              0.1111111111111111,
              "#46039f"
             ],
             [
              0.2222222222222222,
              "#7201a8"
             ],
             [
              0.3333333333333333,
              "#9c179e"
             ],
             [
              0.4444444444444444,
              "#bd3786"
             ],
             [
              0.5555555555555556,
              "#d8576b"
             ],
             [
              0.6666666666666666,
              "#ed7953"
             ],
             [
              0.7777777777777778,
              "#fb9f3a"
             ],
             [
              0.8888888888888888,
              "#fdca26"
             ],
             [
              1,
              "#f0f921"
             ]
            ],
            "type": "heatmapgl"
           }
          ],
          "histogram": [
           {
            "marker": {
             "pattern": {
              "fillmode": "overlay",
              "size": 10,
              "solidity": 0.2
             }
            },
            "type": "histogram"
           }
          ],
          "histogram2d": [
           {
            "colorbar": {
             "outlinewidth": 0,
             "ticks": ""
            },
            "colorscale": [
             [
              0,
              "#0d0887"
             ],
             [
              0.1111111111111111,
              "#46039f"
             ],
             [
              0.2222222222222222,
              "#7201a8"
             ],
             [
              0.3333333333333333,
              "#9c179e"
             ],
             [
              0.4444444444444444,
              "#bd3786"
             ],
             [
              0.5555555555555556,
              "#d8576b"
             ],
             [
              0.6666666666666666,
              "#ed7953"
             ],
             [
              0.7777777777777778,
              "#fb9f3a"
             ],
             [
              0.8888888888888888,
              "#fdca26"
             ],
             [
              1,
              "#f0f921"
             ]
            ],
            "type": "histogram2d"
           }
          ],
          "histogram2dcontour": [
           {
            "colorbar": {
             "outlinewidth": 0,
             "ticks": ""
            },
            "colorscale": [
             [
              0,
              "#0d0887"
             ],
             [
              0.1111111111111111,
              "#46039f"
             ],
             [
              0.2222222222222222,
              "#7201a8"
             ],
             [
              0.3333333333333333,
              "#9c179e"
             ],
             [
              0.4444444444444444,
              "#bd3786"
             ],
             [
              0.5555555555555556,
              "#d8576b"
             ],
             [
              0.6666666666666666,
              "#ed7953"
             ],
             [
              0.7777777777777778,
              "#fb9f3a"
             ],
             [
              0.8888888888888888,
              "#fdca26"
             ],
             [
              1,
              "#f0f921"
             ]
            ],
            "type": "histogram2dcontour"
           }
          ],
          "mesh3d": [
           {
            "colorbar": {
             "outlinewidth": 0,
             "ticks": ""
            },
            "type": "mesh3d"
           }
          ],
          "parcoords": [
           {
            "line": {
             "colorbar": {
              "outlinewidth": 0,
              "ticks": ""
             }
            },
            "type": "parcoords"
           }
          ],
          "pie": [
           {
            "automargin": true,
            "type": "pie"
           }
          ],
          "scatter": [
           {
            "marker": {
             "colorbar": {
              "outlinewidth": 0,
              "ticks": ""
             }
            },
            "type": "scatter"
           }
          ],
          "scatter3d": [
           {
            "line": {
             "colorbar": {
              "outlinewidth": 0,
              "ticks": ""
             }
            },
            "marker": {
             "colorbar": {
              "outlinewidth": 0,
              "ticks": ""
             }
            },
            "type": "scatter3d"
           }
          ],
          "scattercarpet": [
           {
            "marker": {
             "colorbar": {
              "outlinewidth": 0,
              "ticks": ""
             }
            },
            "type": "scattercarpet"
           }
          ],
          "scattergeo": [
           {
            "marker": {
             "colorbar": {
              "outlinewidth": 0,
              "ticks": ""
             }
            },
            "type": "scattergeo"
           }
          ],
          "scattergl": [
           {
            "marker": {
             "colorbar": {
              "outlinewidth": 0,
              "ticks": ""
             }
            },
            "type": "scattergl"
           }
          ],
          "scattermapbox": [
           {
            "marker": {
             "colorbar": {
              "outlinewidth": 0,
              "ticks": ""
             }
            },
            "type": "scattermapbox"
           }
          ],
          "scatterpolar": [
           {
            "marker": {
             "colorbar": {
              "outlinewidth": 0,
              "ticks": ""
             }
            },
            "type": "scatterpolar"
           }
          ],
          "scatterpolargl": [
           {
            "marker": {
             "colorbar": {
              "outlinewidth": 0,
              "ticks": ""
             }
            },
            "type": "scatterpolargl"
           }
          ],
          "scatterternary": [
           {
            "marker": {
             "colorbar": {
              "outlinewidth": 0,
              "ticks": ""
             }
            },
            "type": "scatterternary"
           }
          ],
          "surface": [
           {
            "colorbar": {
             "outlinewidth": 0,
             "ticks": ""
            },
            "colorscale": [
             [
              0,
              "#0d0887"
             ],
             [
              0.1111111111111111,
              "#46039f"
             ],
             [
              0.2222222222222222,
              "#7201a8"
             ],
             [
              0.3333333333333333,
              "#9c179e"
             ],
             [
              0.4444444444444444,
              "#bd3786"
             ],
             [
              0.5555555555555556,
              "#d8576b"
             ],
             [
              0.6666666666666666,
              "#ed7953"
             ],
             [
              0.7777777777777778,
              "#fb9f3a"
             ],
             [
              0.8888888888888888,
              "#fdca26"
             ],
             [
              1,
              "#f0f921"
             ]
            ],
            "type": "surface"
           }
          ],
          "table": [
           {
            "cells": {
             "fill": {
              "color": "#EBF0F8"
             },
             "line": {
              "color": "white"
             }
            },
            "header": {
             "fill": {
              "color": "#C8D4E3"
             },
             "line": {
              "color": "white"
             }
            },
            "type": "table"
           }
          ]
         },
         "layout": {
          "annotationdefaults": {
           "arrowcolor": "#2a3f5f",
           "arrowhead": 0,
           "arrowwidth": 1
          },
          "autotypenumbers": "strict",
          "coloraxis": {
           "colorbar": {
            "outlinewidth": 0,
            "ticks": ""
           }
          },
          "colorscale": {
           "diverging": [
            [
             0,
             "#8e0152"
            ],
            [
             0.1,
             "#c51b7d"
            ],
            [
             0.2,
             "#de77ae"
            ],
            [
             0.3,
             "#f1b6da"
            ],
            [
             0.4,
             "#fde0ef"
            ],
            [
             0.5,
             "#f7f7f7"
            ],
            [
             0.6,
             "#e6f5d0"
            ],
            [
             0.7,
             "#b8e186"
            ],
            [
             0.8,
             "#7fbc41"
            ],
            [
             0.9,
             "#4d9221"
            ],
            [
             1,
             "#276419"
            ]
           ],
           "sequential": [
            [
             0,
             "#0d0887"
            ],
            [
             0.1111111111111111,
             "#46039f"
            ],
            [
             0.2222222222222222,
             "#7201a8"
            ],
            [
             0.3333333333333333,
             "#9c179e"
            ],
            [
             0.4444444444444444,
             "#bd3786"
            ],
            [
             0.5555555555555556,
             "#d8576b"
            ],
            [
             0.6666666666666666,
             "#ed7953"
            ],
            [
             0.7777777777777778,
             "#fb9f3a"
            ],
            [
             0.8888888888888888,
             "#fdca26"
            ],
            [
             1,
             "#f0f921"
            ]
           ],
           "sequentialminus": [
            [
             0,
             "#0d0887"
            ],
            [
             0.1111111111111111,
             "#46039f"
            ],
            [
             0.2222222222222222,
             "#7201a8"
            ],
            [
             0.3333333333333333,
             "#9c179e"
            ],
            [
             0.4444444444444444,
             "#bd3786"
            ],
            [
             0.5555555555555556,
             "#d8576b"
            ],
            [
             0.6666666666666666,
             "#ed7953"
            ],
            [
             0.7777777777777778,
             "#fb9f3a"
            ],
            [
             0.8888888888888888,
             "#fdca26"
            ],
            [
             1,
             "#f0f921"
            ]
           ]
          },
          "colorway": [
           "#636efa",
           "#EF553B",
           "#00cc96",
           "#ab63fa",
           "#FFA15A",
           "#19d3f3",
           "#FF6692",
           "#B6E880",
           "#FF97FF",
           "#FECB52"
          ],
          "font": {
           "color": "#2a3f5f"
          },
          "geo": {
           "bgcolor": "white",
           "lakecolor": "white",
           "landcolor": "#E5ECF6",
           "showlakes": true,
           "showland": true,
           "subunitcolor": "white"
          },
          "hoverlabel": {
           "align": "left"
          },
          "hovermode": "closest",
          "mapbox": {
           "style": "light"
          },
          "paper_bgcolor": "white",
          "plot_bgcolor": "#E5ECF6",
          "polar": {
           "angularaxis": {
            "gridcolor": "white",
            "linecolor": "white",
            "ticks": ""
           },
           "bgcolor": "#E5ECF6",
           "radialaxis": {
            "gridcolor": "white",
            "linecolor": "white",
            "ticks": ""
           }
          },
          "scene": {
           "xaxis": {
            "backgroundcolor": "#E5ECF6",
            "gridcolor": "white",
            "gridwidth": 2,
            "linecolor": "white",
            "showbackground": true,
            "ticks": "",
            "zerolinecolor": "white"
           },
           "yaxis": {
            "backgroundcolor": "#E5ECF6",
            "gridcolor": "white",
            "gridwidth": 2,
            "linecolor": "white",
            "showbackground": true,
            "ticks": "",
            "zerolinecolor": "white"
           },
           "zaxis": {
            "backgroundcolor": "#E5ECF6",
            "gridcolor": "white",
            "gridwidth": 2,
            "linecolor": "white",
            "showbackground": true,
            "ticks": "",
            "zerolinecolor": "white"
           }
          },
          "shapedefaults": {
           "line": {
            "color": "#2a3f5f"
           }
          },
          "ternary": {
           "aaxis": {
            "gridcolor": "white",
            "linecolor": "white",
            "ticks": ""
           },
           "baxis": {
            "gridcolor": "white",
            "linecolor": "white",
            "ticks": ""
           },
           "bgcolor": "#E5ECF6",
           "caxis": {
            "gridcolor": "white",
            "linecolor": "white",
            "ticks": ""
           }
          },
          "title": {
           "x": 0.05
          },
          "xaxis": {
           "automargin": true,
           "gridcolor": "white",
           "linecolor": "white",
           "ticks": "",
           "title": {
            "standoff": 15
           },
           "zerolinecolor": "white",
           "zerolinewidth": 2
          },
          "yaxis": {
           "automargin": true,
           "gridcolor": "white",
           "linecolor": "white",
           "ticks": "",
           "title": {
            "standoff": 15
           },
           "zerolinecolor": "white",
           "zerolinewidth": 2
          }
         }
        },
        "title": {
         "text": "Points by gameweek: Defenders with over 30 points"
        },
        "xaxis": {
         "nticks": 4,
         "title": {
          "text": "Gameweek"
         }
        },
        "yaxis": {
         "nticks": 16,
         "title": {}
        }
       }
      }
     },
     "metadata": {},
     "output_type": "display_data"
    }
   ],
   "source": [
    "import plotly.graph_objects as go\n",
    "\n",
    "# Data\n",
    "players = [\n",
    "    \"Joachim Andersen\", \"Kieran Trippier\", \"Benjamin White\",\n",
    "    \"William Saliba\", \"Matty Cash\", \"Cristian Romero\",\n",
    "    \"Marc Guéhi\", \"Tyrick Mitchell\", \"Micky van de Ven\",\n",
    "    \"Axel Disasi\", \"Vladimir Coufal\", \"Levi Colwill\",\n",
    "    \"Pedro Porro\", \"Destiny Udogie\", \"Pau Torres\", \"Kyle Walker\"\n",
    "]\n",
    "points = [51, 49, 45, 36, 36, 36, 35, 34, 34, 34, 33, 33, 32, 32, 31, 31]\n",
    "\n",
    "gameweeks = [\"2\", \"4\", \"6\", \"8\"]\n",
    "scores = [\n",
    "    [9, 2, 11, 1, 1, 6, 15, 6],\n",
    "    [2, 2, 0, 1, 8, 18, 12, 6],\n",
    "    [1, 7, 1, 2, 7, 4, 14, 9],\n",
    "    [5, 8, 1, 2, 6, 1, 6, 7],\n",
    "    [-1, 6, 17, -1, 1, 6, 6, 2],\n",
    "    [7, 6, 7, 7, 2, -2, 1, 8],\n",
    "    [6, 2, 2, 1, 0, 8, 7, 9],\n",
    "    [8, 2, 2, 4, 1, 5, 6, 6],\n",
    "    [1, 7, 6, 1, 1, 1, 2, 15],\n",
    "    [11, 0, 6, 2, 5, 2, 6, 2],\n",
    "    [2, 2, 2, 2, 4, 12, 5, 5],\n",
    "    [2, 2, 1, 6, 2, 6, 2, 12],\n",
    "    [0, 1, 6, 6, 4, 2, 1, 7],\n",
    "    [1, 1, 5, 12, 5, 2, 0, 1],\n",
    "    [0, 0, 6, 2, 1, 2, 8, 2],\n",
    "    [6, 6, 6, 2, 2, 2, 11, 0]\n",
    "]\n",
    "\n",
    "# Creating the heatmap\n",
    "fig = go.Figure(data=go.Heatmap(\n",
    "    z=scores,\n",
    "    x=gameweeks,\n",
    "    y=[f\"{player} ({point} points)\" for player, point in zip(players, points)],\n",
    "    hoverongaps=False,\n",
    "    colorscale=\"reds\",\n",
    "    colorbar=dict(title='Points')\n",
    "))\n",
    "\n",
    "fig.update_layout(\n",
    "    title=\"Points by gameweek: Defenders with over 30 points\",\n",
    "    xaxis_nticks=len(gameweeks),\n",
    "    yaxis_nticks=len(players),\n",
    "    xaxis_title=\"Gameweek\",\n",
    "    yaxis_title=None,\n",
    ")\n",
    "\n",
    "fig.show()\n"
   ]
  },
  {
   "cell_type": "code",
   "execution_count": 31,
   "metadata": {},
   "outputs": [
    {
     "data": {
      "image/png": "[encoded data removed]",
      "text/plain": [
       "<Figure size 864x432 with 1 Axes>"
      ]
     },
     "metadata": {
      "needs_background": "light"
     },
     "output_type": "display_data"
    }
   ],
   "source": [
    "import pandas as pd\n",
    "import seaborn as sns\n",
    "import matplotlib.pyplot as plt\n",
    "\n",
    "# Data setup\n",
    "players = [\n",
    "    \"Joachim Andersen (51 points)\",\n",
    "    \"Kieran Trippier (49 points)\",\n",
    "    \"Benjamin White (45 points)\",\n",
    "    \"William Saliba (36 points)\",\n",
    "    \"Matty Cash (36 points)\"\n",
    "]\n",
    "\n",
    "gameweek_data = [\n",
    "    [9, 2, 11, 1, 1, 6, 15, 6],\n",
    "    [2, 2, 0, 1, 8, 18, 12, 6],\n",
    "    [1, 7, 1, 2, 7, 4, 14, 9],\n",
    "    [5, 8, 1, 2, 6, 1, 6, 7],\n",
    "    [-1, 6, 17, -1, 1, 6, 6, 2]\n",
    "]\n",
    "\n",
    "df = pd.DataFrame(gameweek_data, columns=[f\"Gameweek {i}\" for i in [2, 3, 4, 5, 6, 7, 8, 9]], index=players)\n",
    "\n",
    "# Plotting\n",
    "plt.figure(figsize=(12, 6))\n",
    "cmap = sns.diverging_palette(220, 10, as_cmap=True) # Define color palette\n",
    "sns.set(font_scale=1.2)\n",
    "sns.heatmap(df, cmap=cmap, annot=True, fmt='g', linewidths=0.5, linecolor='gray', cbar=False)\n",
    "\n",
    "# Title and display\n",
    "plt.title(\"Points by gameweek\\nDefenders with over 30 points\", size=16)\n",
    "plt.show()\n"
   ]
  },
  {
   "cell_type": "code",
   "execution_count": 28,
   "metadata": {},
   "outputs": [
    {
     "data": {
      "application/vnd.plotly.v1+json": {
       "config": {
        "plotlyServerURL": "https://plot.ly"
       },
       "data": [
        {
         "fill": "toself",
         "name": "Shooting",
         "r": [
          77.4,
          75,
          23.3,
          94.4,
          57.8,
          53.4,
          84.6,
          88.4
         ],
         "theta": [
          "Non-Penalty Goal",
          "Big Chances",
          "Shot Quality",
          "On Target %",
          "Off Shots",
          "Dribbles Completed %",
          "Pressure Regains",
          "Turnovers"
         ],
         "type": "scatterpolar"
        }
       ],
       "layout": {
        "polar": {
         "radialaxis": {
          "range": [
           0,
           100
          ],
          "visible": true
         }
        },
        "showlegend": false,
        "template": {
         "data": {
          "bar": [
           {
            "error_x": {
             "color": "#2a3f5f"
            },
            "error_y": {
             "color": "#2a3f5f"
            },
            "marker": {
             "line": {
              "color": "#E5ECF6",
              "width": 0.5
             },
             "pattern": {
              "fillmode": "overlay",
              "size": 10,
              "solidity": 0.2
             }
            },
            "type": "bar"
           }
          ],
          "barpolar": [
           {
            "marker": {
             "line": {
              "color": "#E5ECF6",
              "width": 0.5
             },
             "pattern": {
              "fillmode": "overlay",
              "size": 10,
              "solidity": 0.2
             }
            },
            "type": "barpolar"
           }
          ],
          "carpet": [
           {
            "aaxis": {
             "endlinecolor": "#2a3f5f",
             "gridcolor": "white",
             "linecolor": "white",
             "minorgridcolor": "white",
             "startlinecolor": "#2a3f5f"
            },
            "baxis": {
             "endlinecolor": "#2a3f5f",
             "gridcolor": "white",
             "linecolor": "white",
             "minorgridcolor": "white",
             "startlinecolor": "#2a3f5f"
            },
            "type": "carpet"
           }
          ],
          "choropleth": [
           {
            "colorbar": {
             "outlinewidth": 0,
             "ticks": ""
            },
            "type": "choropleth"
           }
          ],
          "contour": [
           {
            "colorbar": {
             "outlinewidth": 0,
             "ticks": ""
            },
            "colorscale": [
             [
              0,
              "#0d0887"
             ],
             [
              0.1111111111111111,
              "#46039f"
             ],
             [
              0.2222222222222222,
              "#7201a8"
             ],
             [
              0.3333333333333333,
              "#9c179e"
             ],
             [
              0.4444444444444444,
              "#bd3786"
             ],
             [
              0.5555555555555556,
              "#d8576b"
             ],
             [
              0.6666666666666666,
              "#ed7953"
             ],
             [
              0.7777777777777778,
              "#fb9f3a"
             ],
             [
              0.8888888888888888,
              "#fdca26"
             ],
             [
              1,
              "#f0f921"
             ]
            ],
            "type": "contour"
           }
          ],
          "contourcarpet": [
           {
            "colorbar": {
             "outlinewidth": 0,
             "ticks": ""
            },
            "type": "contourcarpet"
           }
          ],
          "heatmap": [
           {
            "colorbar": {
             "outlinewidth": 0,
             "ticks": ""
            },
            "colorscale": [
             [
              0,
              "#0d0887"
             ],
             [
              0.1111111111111111,
              "#46039f"
             ],
             [
              0.2222222222222222,
              "#7201a8"
             ],
             [
              0.3333333333333333,
              "#9c179e"
             ],
             [
              0.4444444444444444,
              "#bd3786"
             ],
             [
              0.5555555555555556,
              "#d8576b"
             ],
             [
              0.6666666666666666,
              "#ed7953"
             ],
             [
              0.7777777777777778,
              "#fb9f3a"
             ],
             [
              0.8888888888888888,
              "#fdca26"
             ],
             [
              1,
              "#f0f921"
             ]
            ],
            "type": "heatmap"
           }
          ],
          "heatmapgl": [
           {
            "colorbar": {
             "outlinewidth": 0,
             "ticks": ""
            },
            "colorscale": [
             [
              0,
              "#0d0887"
             ],
             [
              0.1111111111111111,
              "#46039f"
             ],
             [
              0.2222222222222222,
              "#7201a8"
             ],
             [
              0.3333333333333333,
              "#9c179e"
             ],
             [
              0.4444444444444444,
              "#bd3786"
             ],
             [
              0.5555555555555556,
              "#d8576b"
             ],
             [
              0.6666666666666666,
              "#ed7953"
             ],
             [
              0.7777777777777778,
              "#fb9f3a"
             ],
             [
              0.8888888888888888,
              "#fdca26"
             ],
             [
              1,
              "#f0f921"
             ]
            ],
            "type": "heatmapgl"
           }
          ],
          "histogram": [
           {
            "marker": {
             "pattern": {
              "fillmode": "overlay",
              "size": 10,
              "solidity": 0.2
             }
            },
            "type": "histogram"
           }
          ],
          "histogram2d": [
           {
            "colorbar": {
             "outlinewidth": 0,
             "ticks": ""
            },
            "colorscale": [
             [
              0,
              "#0d0887"
             ],
             [
              0.1111111111111111,
              "#46039f"
             ],
             [
              0.2222222222222222,
              "#7201a8"
             ],
             [
              0.3333333333333333,
              "#9c179e"
             ],
             [
              0.4444444444444444,
              "#bd3786"
             ],
             [
              0.5555555555555556,
              "#d8576b"
             ],
             [
              0.6666666666666666,
              "#ed7953"
             ],
             [
              0.7777777777777778,
              "#fb9f3a"
             ],
             [
              0.8888888888888888,
              "#fdca26"
             ],
             [
              1,
              "#f0f921"
             ]
            ],
            "type": "histogram2d"
           }
          ],
          "histogram2dcontour": [
           {
            "colorbar": {
             "outlinewidth": 0,
             "ticks": ""
            },
            "colorscale": [
             [
              0,
              "#0d0887"
             ],
             [
              0.1111111111111111,
              "#46039f"
             ],
             [
              0.2222222222222222,
              "#7201a8"
             ],
             [
              0.3333333333333333,
              "#9c179e"
             ],
             [
              0.4444444444444444,
              "#bd3786"
             ],
             [
              0.5555555555555556,
              "#d8576b"
             ],
             [
              0.6666666666666666,
              "#ed7953"
             ],
             [
              0.7777777777777778,
              "#fb9f3a"
             ],
             [
              0.8888888888888888,
              "#fdca26"
             ],
             [
              1,
              "#f0f921"
             ]
            ],
            "type": "histogram2dcontour"
           }
          ],
          "mesh3d": [
           {
            "colorbar": {
             "outlinewidth": 0,
             "ticks": ""
            },
            "type": "mesh3d"
           }
          ],
          "parcoords": [
           {
            "line": {
             "colorbar": {
              "outlinewidth": 0,
              "ticks": ""
             }
            },
            "type": "parcoords"
           }
          ],
          "pie": [
           {
            "automargin": true,
            "type": "pie"
           }
          ],
          "scatter": [
           {
            "marker": {
             "colorbar": {
              "outlinewidth": 0,
              "ticks": ""
             }
            },
            "type": "scatter"
           }
          ],
          "scatter3d": [
           {
            "line": {
             "colorbar": {
              "outlinewidth": 0,
              "ticks": ""
             }
            },
            "marker": {
             "colorbar": {
              "outlinewidth": 0,
              "ticks": ""
             }
            },
            "type": "scatter3d"
           }
          ],
          "scattercarpet": [
           {
            "marker": {
             "colorbar": {
              "outlinewidth": 0,
              "ticks": ""
             }
            },
            "type": "scattercarpet"
           }
          ],
          "scattergeo": [
           {
            "marker": {
             "colorbar": {
              "outlinewidth": 0,
              "ticks": ""
             }
            },
            "type": "scattergeo"
           }
          ],
          "scattergl": [
           {
            "marker": {
             "colorbar": {
              "outlinewidth": 0,
              "ticks": ""
             }
            },
            "type": "scattergl"
           }
          ],
          "scattermapbox": [
           {
            "marker": {
             "colorbar": {
              "outlinewidth": 0,
              "ticks": ""
             }
            },
            "type": "scattermapbox"
           }
          ],
          "scatterpolar": [
           {
            "marker": {
             "colorbar": {
              "outlinewidth": 0,
              "ticks": ""
             }
            },
            "type": "scatterpolar"
           }
          ],
          "scatterpolargl": [
           {
            "marker": {
             "colorbar": {
              "outlinewidth": 0,
              "ticks": ""
             }
            },
            "type": "scatterpolargl"
           }
          ],
          "scatterternary": [
           {
            "marker": {
             "colorbar": {
              "outlinewidth": 0,
              "ticks": ""
             }
            },
            "type": "scatterternary"
           }
          ],
          "surface": [
           {
            "colorbar": {
             "outlinewidth": 0,
             "ticks": ""
            },
            "colorscale": [
             [
              0,
              "#0d0887"
             ],
             [
              0.1111111111111111,
              "#46039f"
             ],
             [
              0.2222222222222222,
              "#7201a8"
             ],
             [
              0.3333333333333333,
              "#9c179e"
             ],
             [
              0.4444444444444444,
              "#bd3786"
             ],
             [
              0.5555555555555556,
              "#d8576b"
             ],
             [
              0.6666666666666666,
              "#ed7953"
             ],
             [
              0.7777777777777778,
              "#fb9f3a"
             ],
             [
              0.8888888888888888,
              "#fdca26"
             ],
             [
              1,
              "#f0f921"
             ]
            ],
            "type": "surface"
           }
          ],
          "table": [
           {
            "cells": {
             "fill": {
              "color": "#EBF0F8"
             },
             "line": {
              "color": "white"
             }
            },
            "header": {
             "fill": {
              "color": "#C8D4E3"
             },
             "line": {
              "color": "white"
             }
            },
            "type": "table"
           }
          ]
         },
         "layout": {
          "annotationdefaults": {
           "arrowcolor": "#2a3f5f",
           "arrowhead": 0,
           "arrowwidth": 1
          },
          "autotypenumbers": "strict",
          "coloraxis": {
           "colorbar": {
            "outlinewidth": 0,
            "ticks": ""
           }
          },
          "colorscale": {
           "diverging": [
            [
             0,
             "#8e0152"
            ],
            [
             0.1,
             "#c51b7d"
            ],
            [
             0.2,
             "#de77ae"
            ],
            [
             0.3,
             "#f1b6da"
            ],
            [
             0.4,
             "#fde0ef"
            ],
            [
             0.5,
             "#f7f7f7"
            ],
            [
             0.6,
             "#e6f5d0"
            ],
            [
             0.7,
             "#b8e186"
            ],
            [
             0.8,
             "#7fbc41"
            ],
            [
             0.9,
             "#4d9221"
            ],
            [
             1,
             "#276419"
            ]
           ],
           "sequential": [
            [
             0,
             "#0d0887"
            ],
            [
             0.1111111111111111,
             "#46039f"
            ],
            [
             0.2222222222222222,
             "#7201a8"
            ],
            [
             0.3333333333333333,
             "#9c179e"
            ],
            [
             0.4444444444444444,
             "#bd3786"
            ],
            [
             0.5555555555555556,
             "#d8576b"
            ],
            [
             0.6666666666666666,
             "#ed7953"
            ],
            [
             0.7777777777777778,
             "#fb9f3a"
            ],
            [
             0.8888888888888888,
             "#fdca26"
            ],
            [
             1,
             "#f0f921"
            ]
           ],
           "sequentialminus": [
            [
             0,
             "#0d0887"
            ],
            [
             0.1111111111111111,
             "#46039f"
            ],
            [
             0.2222222222222222,
             "#7201a8"
            ],
            [
             0.3333333333333333,
             "#9c179e"
            ],
            [
             0.4444444444444444,
             "#bd3786"
            ],
            [
             0.5555555555555556,
             "#d8576b"
            ],
            [
             0.6666666666666666,
             "#ed7953"
            ],
            [
             0.7777777777777778,
             "#fb9f3a"
            ],
            [
             0.8888888888888888,
             "#fdca26"
            ],
            [
             1,
             "#f0f921"
            ]
           ]
          },
          "colorway": [
           "#636efa",
           "#EF553B",
           "#00cc96",
           "#ab63fa",
           "#FFA15A",
           "#19d3f3",
           "#FF6692",
           "#B6E880",
           "#FF97FF",
           "#FECB52"
          ],
          "font": {
           "color": "#2a3f5f"
          },
          "geo": {
           "bgcolor": "white",
           "lakecolor": "white",
           "landcolor": "#E5ECF6",
           "showlakes": true,
           "showland": true,
           "subunitcolor": "white"
          },
          "hoverlabel": {
           "align": "left"
          },
          "hovermode": "closest",
          "mapbox": {
           "style": "light"
          },
          "paper_bgcolor": "white",
          "plot_bgcolor": "#E5ECF6",
          "polar": {
           "angularaxis": {
            "gridcolor": "white",
            "linecolor": "white",
            "ticks": ""
           },
           "bgcolor": "#E5ECF6",
           "radialaxis": {
            "gridcolor": "white",
            "linecolor": "white",
            "ticks": ""
           }
          },
          "scene": {
           "xaxis": {
            "backgroundcolor": "#E5ECF6",
            "gridcolor": "white",
            "gridwidth": 2,
            "linecolor": "white",
            "showbackground": true,
            "ticks": "",
            "zerolinecolor": "white"
           },
           "yaxis": {
            "backgroundcolor": "#E5ECF6",
            "gridcolor": "white",
            "gridwidth": 2,
            "linecolor": "white",
            "showbackground": true,
            "ticks": "",
            "zerolinecolor": "white"
           },
           "zaxis": {
            "backgroundcolor": "#E5ECF6",
            "gridcolor": "white",
            "gridwidth": 2,
            "linecolor": "white",
            "showbackground": true,
            "ticks": "",
            "zerolinecolor": "white"
           }
          },
          "shapedefaults": {
           "line": {
            "color": "#2a3f5f"
           }
          },
          "ternary": {
           "aaxis": {
            "gridcolor": "white",
            "linecolor": "white",
            "ticks": ""
           },
           "baxis": {
            "gridcolor": "white",
            "linecolor": "white",
            "ticks": ""
           },
           "bgcolor": "#E5ECF6",
           "caxis": {
            "gridcolor": "white",
            "linecolor": "white",
            "ticks": ""
           }
          },
          "title": {
           "x": 0.05
          },
          "xaxis": {
           "automargin": true,
           "gridcolor": "white",
           "linecolor": "white",
           "ticks": "",
           "title": {
            "standoff": 15
           },
           "zerolinecolor": "white",
           "zerolinewidth": 2
          },
          "yaxis": {
           "automargin": true,
           "gridcolor": "white",
           "linecolor": "white",
           "ticks": "",
           "title": {
            "standoff": 15
           },
           "zerolinecolor": "white",
           "zerolinewidth": 2
          }
         }
        }
       }
      }
     },
     "metadata": {},
     "output_type": "display_data"
    }
   ],
   "source": [
    "import plotly.graph_objects as go\n",
    "\n",
    "# Define the labels and values\n",
    "labels = [\"Non-Penalty Goal\", \"Big Chances\", \"Shot Quality\", \"On Target %\", \"Off Shots\", \"Dribbles Completed %\", \"Pressure Regains\", \"Turnovers\"]\n",
    "values = [77.4, 75.0, 23.3, 94.4, 57.8, 53.4, 84.6, 88.4]\n",
    "\n",
    "# Create the plot\n",
    "fig = go.Figure(data=go.Scatterpolar(\n",
    "    r=values,\n",
    "    theta=labels,\n",
    "    fill='toself',\n",
    "    name='Shooting'\n",
    "))\n",
    "\n",
    "# Set the layout and appearance\n",
    "fig.update_layout(\n",
    "    polar=dict(\n",
    "        radialaxis=dict(\n",
    "            visible=True,\n",
    "            range=[0, 100]  # Set the maximum value of the radar chart\n",
    "        )\n",
    "    ),\n",
    "    showlegend=False\n",
    ")\n",
    "\n",
    "fig.show()\n"
   ]
  },
  {
   "cell_type": "code",
   "execution_count": 29,
   "metadata": {},
   "outputs": [
    {
     "data": {
      "application/vnd.plotly.v1+json": {
       "config": {
        "plotlyServerURL": "https://plot.ly"
       },
       "data": [
        {
         "fill": "toself",
         "name": "Shooting",
         "r": [
          77.4,
          75,
          23.3,
          94.4,
          57.8,
          53.4,
          84.6,
          88.4
         ],
         "subplot": "polar",
         "theta": [
          "Non-Penalty Goal",
          "Big Chances",
          "Shot Quality",
          "On Target %",
          "Off Shots",
          "Dribbles Completed %",
          "Pressure Regains",
          "Turnovers"
         ],
         "type": "scatterpolar"
        },
        {
         "fill": "toself",
         "name": "Creating",
         "r": [
          72,
          59.5,
          82.3,
          83.9,
          84.1,
          59.9,
          78.1,
          87.1
         ],
         "subplot": "polar2",
         "theta": [
          "Non-Penalty Goal",
          "Big Chances",
          "Shot Quality",
          "On Target %",
          "Off Shots",
          "Dribbles Completed %",
          "Pressure Regains",
          "Turnovers"
         ],
         "type": "scatterpolar"
        }
       ],
       "layout": {
        "annotations": [
         {
          "font": {
           "size": 16
          },
          "showarrow": false,
          "text": "Shooting: 69.3",
          "x": 0.225,
          "xanchor": "center",
          "xref": "paper",
          "y": 1,
          "yanchor": "bottom",
          "yref": "paper"
         },
         {
          "font": {
           "size": 16
          },
          "showarrow": false,
          "text": "Creating: 75.9",
          "x": 0.775,
          "xanchor": "center",
          "xref": "paper",
          "y": 1,
          "yanchor": "bottom",
          "yref": "paper"
         }
        ],
        "polar": {
         "domain": {
          "x": [
           0,
           0.45
          ],
          "y": [
           0,
           1
          ]
         },
         "radialaxis": {
          "range": [
           0,
           100
          ],
          "visible": true
         }
        },
        "polar2": {
         "domain": {
          "x": [
           0.55,
           1
          ],
          "y": [
           0,
           1
          ]
         },
         "radialaxis": {
          "range": [
           0,
           100
          ],
          "visible": true
         }
        },
        "showlegend": false,
        "template": {
         "data": {
          "bar": [
           {
            "error_x": {
             "color": "#2a3f5f"
            },
            "error_y": {
             "color": "#2a3f5f"
            },
            "marker": {
             "line": {
              "color": "#E5ECF6",
              "width": 0.5
             },
             "pattern": {
              "fillmode": "overlay",
              "size": 10,
              "solidity": 0.2
             }
            },
            "type": "bar"
           }
          ],
          "barpolar": [
           {
            "marker": {
             "line": {
              "color": "#E5ECF6",
              "width": 0.5
             },
             "pattern": {
              "fillmode": "overlay",
              "size": 10,
              "solidity": 0.2
             }
            },
            "type": "barpolar"
           }
          ],
          "carpet": [
           {
            "aaxis": {
             "endlinecolor": "#2a3f5f",
             "gridcolor": "white",
             "linecolor": "white",
             "minorgridcolor": "white",
             "startlinecolor": "#2a3f5f"
            },
            "baxis": {
             "endlinecolor": "#2a3f5f",
             "gridcolor": "white",
             "linecolor": "white",
             "minorgridcolor": "white",
             "startlinecolor": "#2a3f5f"
            },
            "type": "carpet"
           }
          ],
          "choropleth": [
           {
            "colorbar": {
             "outlinewidth": 0,
             "ticks": ""
            },
            "type": "choropleth"
           }
          ],
          "contour": [
           {
            "colorbar": {
             "outlinewidth": 0,
             "ticks": ""
            },
            "colorscale": [
             [
              0,
              "#0d0887"
             ],
             [
              0.1111111111111111,
              "#46039f"
             ],
             [
              0.2222222222222222,
              "#7201a8"
             ],
             [
              0.3333333333333333,
              "#9c179e"
             ],
             [
              0.4444444444444444,
              "#bd3786"
             ],
             [
              0.5555555555555556,
              "#d8576b"
             ],
             [
              0.6666666666666666,
              "#ed7953"
             ],
             [
              0.7777777777777778,
              "#fb9f3a"
             ],
             [
              0.8888888888888888,
              "#fdca26"
             ],
             [
              1,
              "#f0f921"
             ]
            ],
            "type": "contour"
           }
          ],
          "contourcarpet": [
           {
            "colorbar": {
             "outlinewidth": 0,
             "ticks": ""
            },
            "type": "contourcarpet"
           }
          ],
          "heatmap": [
           {
            "colorbar": {
             "outlinewidth": 0,
             "ticks": ""
            },
            "colorscale": [
             [
              0,
              "#0d0887"
             ],
             [
              0.1111111111111111,
              "#46039f"
             ],
             [
              0.2222222222222222,
              "#7201a8"
             ],
             [
              0.3333333333333333,
              "#9c179e"
             ],
             [
              0.4444444444444444,
              "#bd3786"
             ],
             [
              0.5555555555555556,
              "#d8576b"
             ],
             [
              0.6666666666666666,
              "#ed7953"
             ],
             [
              0.7777777777777778,
              "#fb9f3a"
             ],
             [
              0.8888888888888888,
              "#fdca26"
             ],
             [
              1,
              "#f0f921"
             ]
            ],
            "type": "heatmap"
           }
          ],
          "heatmapgl": [
           {
            "colorbar": {
             "outlinewidth": 0,
             "ticks": ""
            },
            "colorscale": [
             [
              0,
              "#0d0887"
             ],
             [
              0.1111111111111111,
              "#46039f"
             ],
             [
              0.2222222222222222,
              "#7201a8"
             ],
             [
              0.3333333333333333,
              "#9c179e"
             ],
             [
              0.4444444444444444,
              "#bd3786"
             ],
             [
              0.5555555555555556,
              "#d8576b"
             ],
             [
              0.6666666666666666,
              "#ed7953"
             ],
             [
              0.7777777777777778,
              "#fb9f3a"
             ],
             [
              0.8888888888888888,
              "#fdca26"
             ],
             [
              1,
              "#f0f921"
             ]
            ],
            "type": "heatmapgl"
           }
          ],
          "histogram": [
           {
            "marker": {
             "pattern": {
              "fillmode": "overlay",
              "size": 10,
              "solidity": 0.2
             }
            },
            "type": "histogram"
           }
          ],
          "histogram2d": [
           {
            "colorbar": {
             "outlinewidth": 0,
             "ticks": ""
            },
            "colorscale": [
             [
              0,
              "#0d0887"
             ],
             [
              0.1111111111111111,
              "#46039f"
             ],
             [
              0.2222222222222222,
              "#7201a8"
             ],
             [
              0.3333333333333333,
              "#9c179e"
             ],
             [
              0.4444444444444444,
              "#bd3786"
             ],
             [
              0.5555555555555556,
              "#d8576b"
             ],
             [
              0.6666666666666666,
              "#ed7953"
             ],
             [
              0.7777777777777778,
              "#fb9f3a"
             ],
             [
              0.8888888888888888,
              "#fdca26"
             ],
             [
              1,
              "#f0f921"
             ]
            ],
            "type": "histogram2d"
           }
          ],
          "histogram2dcontour": [
           {
            "colorbar": {
             "outlinewidth": 0,
             "ticks": ""
            },
            "colorscale": [
             [
              0,
              "#0d0887"
             ],
             [
              0.1111111111111111,
              "#46039f"
             ],
             [
              0.2222222222222222,
              "#7201a8"
             ],
             [
              0.3333333333333333,
              "#9c179e"
             ],
             [
              0.4444444444444444,
              "#bd3786"
             ],
             [
              0.5555555555555556,
              "#d8576b"
             ],
             [
              0.6666666666666666,
              "#ed7953"
             ],
             [
              0.7777777777777778,
              "#fb9f3a"
             ],
             [
              0.8888888888888888,
              "#fdca26"
             ],
             [
              1,
              "#f0f921"
             ]
            ],
            "type": "histogram2dcontour"
           }
          ],
          "mesh3d": [
           {
            "colorbar": {
             "outlinewidth": 0,
             "ticks": ""
            },
            "type": "mesh3d"
           }
          ],
          "parcoords": [
           {
            "line": {
             "colorbar": {
              "outlinewidth": 0,
              "ticks": ""
             }
            },
            "type": "parcoords"
           }
          ],
          "pie": [
           {
            "automargin": true,
            "type": "pie"
           }
          ],
          "scatter": [
           {
            "marker": {
             "colorbar": {
              "outlinewidth": 0,
              "ticks": ""
             }
            },
            "type": "scatter"
           }
          ],
          "scatter3d": [
           {
            "line": {
             "colorbar": {
              "outlinewidth": 0,
              "ticks": ""
             }
            },
            "marker": {
             "colorbar": {
              "outlinewidth": 0,
              "ticks": ""
             }
            },
            "type": "scatter3d"
           }
          ],
          "scattercarpet": [
           {
            "marker": {
             "colorbar": {
              "outlinewidth": 0,
              "ticks": ""
             }
            },
            "type": "scattercarpet"
           }
          ],
          "scattergeo": [
           {
            "marker": {
             "colorbar": {
              "outlinewidth": 0,
              "ticks": ""
             }
            },
            "type": "scattergeo"
           }
          ],
          "scattergl": [
           {
            "marker": {
             "colorbar": {
              "outlinewidth": 0,
              "ticks": ""
             }
            },
            "type": "scattergl"
           }
          ],
          "scattermapbox": [
           {
            "marker": {
             "colorbar": {
              "outlinewidth": 0,
              "ticks": ""
             }
            },
            "type": "scattermapbox"
           }
          ],
          "scatterpolar": [
           {
            "marker": {
             "colorbar": {
              "outlinewidth": 0,
              "ticks": ""
             }
            },
            "type": "scatterpolar"
           }
          ],
          "scatterpolargl": [
           {
            "marker": {
             "colorbar": {
              "outlinewidth": 0,
              "ticks": ""
             }
            },
            "type": "scatterpolargl"
           }
          ],
          "scatterternary": [
           {
            "marker": {
             "colorbar": {
              "outlinewidth": 0,
              "ticks": ""
             }
            },
            "type": "scatterternary"
           }
          ],
          "surface": [
           {
            "colorbar": {
             "outlinewidth": 0,
             "ticks": ""
            },
            "colorscale": [
             [
              0,
              "#0d0887"
             ],
             [
              0.1111111111111111,
              "#46039f"
             ],
             [
              0.2222222222222222,
              "#7201a8"
             ],
             [
              0.3333333333333333,
              "#9c179e"
             ],
             [
              0.4444444444444444,
              "#bd3786"
             ],
             [
              0.5555555555555556,
              "#d8576b"
             ],
             [
              0.6666666666666666,
              "#ed7953"
             ],
             [
              0.7777777777777778,
              "#fb9f3a"
             ],
             [
              0.8888888888888888,
              "#fdca26"
             ],
             [
              1,
              "#f0f921"
             ]
            ],
            "type": "surface"
           }
          ],
          "table": [
           {
            "cells": {
             "fill": {
              "color": "#EBF0F8"
             },
             "line": {
              "color": "white"
             }
            },
            "header": {
             "fill": {
              "color": "#C8D4E3"
             },
             "line": {
              "color": "white"
             }
            },
            "type": "table"
           }
          ]
         },
         "layout": {
          "annotationdefaults": {
           "arrowcolor": "#2a3f5f",
           "arrowhead": 0,
           "arrowwidth": 1
          },
          "autotypenumbers": "strict",
          "coloraxis": {
           "colorbar": {
            "outlinewidth": 0,
            "ticks": ""
           }
          },
          "colorscale": {
           "diverging": [
            [
             0,
             "#8e0152"
            ],
            [
             0.1,
             "#c51b7d"
            ],
            [
             0.2,
             "#de77ae"
            ],
            [
             0.3,
             "#f1b6da"
            ],
            [
             0.4,
             "#fde0ef"
            ],
            [
             0.5,
             "#f7f7f7"
            ],
            [
             0.6,
             "#e6f5d0"
            ],
            [
             0.7,
             "#b8e186"
            ],
            [
             0.8,
             "#7fbc41"
            ],
            [
             0.9,
             "#4d9221"
            ],
            [
             1,
             "#276419"
            ]
           ],
           "sequential": [
            [
             0,
             "#0d0887"
            ],
            [
             0.1111111111111111,
             "#46039f"
            ],
            [
             0.2222222222222222,
             "#7201a8"
            ],
            [
             0.3333333333333333,
             "#9c179e"
            ],
            [
             0.4444444444444444,
             "#bd3786"
            ],
            [
             0.5555555555555556,
             "#d8576b"
            ],
            [
             0.6666666666666666,
             "#ed7953"
            ],
            [
             0.7777777777777778,
             "#fb9f3a"
            ],
            [
             0.8888888888888888,
             "#fdca26"
            ],
            [
             1,
             "#f0f921"
            ]
           ],
           "sequentialminus": [
            [
             0,
             "#0d0887"
            ],
            [
             0.1111111111111111,
             "#46039f"
            ],
            [
             0.2222222222222222,
             "#7201a8"
            ],
            [
             0.3333333333333333,
             "#9c179e"
            ],
            [
             0.4444444444444444,
             "#bd3786"
            ],
            [
             0.5555555555555556,
             "#d8576b"
            ],
            [
             0.6666666666666666,
             "#ed7953"
            ],
            [
             0.7777777777777778,
             "#fb9f3a"
            ],
            [
             0.8888888888888888,
             "#fdca26"
            ],
            [
             1,
             "#f0f921"
            ]
           ]
          },
          "colorway": [
           "#636efa",
           "#EF553B",
           "#00cc96",
           "#ab63fa",
           "#FFA15A",
           "#19d3f3",
           "#FF6692",
           "#B6E880",
           "#FF97FF",
           "#FECB52"
          ],
          "font": {
           "color": "#2a3f5f"
          },
          "geo": {
           "bgcolor": "white",
           "lakecolor": "white",
           "landcolor": "#E5ECF6",
           "showlakes": true,
           "showland": true,
           "subunitcolor": "white"
          },
          "hoverlabel": {
           "align": "left"
          },
          "hovermode": "closest",
          "mapbox": {
           "style": "light"
          },
          "paper_bgcolor": "white",
          "plot_bgcolor": "#E5ECF6",
          "polar": {
           "angularaxis": {
            "gridcolor": "white",
            "linecolor": "white",
            "ticks": ""
           },
           "bgcolor": "#E5ECF6",
           "radialaxis": {
            "gridcolor": "white",
            "linecolor": "white",
            "ticks": ""
           }
          },
          "scene": {
           "xaxis": {
            "backgroundcolor": "#E5ECF6",
            "gridcolor": "white",
            "gridwidth": 2,
            "linecolor": "white",
            "showbackground": true,
            "ticks": "",
            "zerolinecolor": "white"
           },
           "yaxis": {
            "backgroundcolor": "#E5ECF6",
            "gridcolor": "white",
            "gridwidth": 2,
            "linecolor": "white",
            "showbackground": true,
            "ticks": "",
            "zerolinecolor": "white"
           },
           "zaxis": {
            "backgroundcolor": "#E5ECF6",
            "gridcolor": "white",
            "gridwidth": 2,
            "linecolor": "white",
            "showbackground": true,
            "ticks": "",
            "zerolinecolor": "white"
           }
          },
          "shapedefaults": {
           "line": {
            "color": "#2a3f5f"
           }
          },
          "ternary": {
           "aaxis": {
            "gridcolor": "white",
            "linecolor": "white",
            "ticks": ""
           },
           "baxis": {
            "gridcolor": "white",
            "linecolor": "white",
            "ticks": ""
           },
           "bgcolor": "#E5ECF6",
           "caxis": {
            "gridcolor": "white",
            "linecolor": "white",
            "ticks": ""
           }
          },
          "title": {
           "x": 0.05
          },
          "xaxis": {
           "automargin": true,
           "gridcolor": "white",
           "linecolor": "white",
           "ticks": "",
           "title": {
            "standoff": 15
           },
           "zerolinecolor": "white",
           "zerolinewidth": 2
          },
          "yaxis": {
           "automargin": true,
           "gridcolor": "white",
           "linecolor": "white",
           "ticks": "",
           "title": {
            "standoff": 15
           },
           "zerolinecolor": "white",
           "zerolinewidth": 2
          }
         }
        }
       }
      }
     },
     "metadata": {},
     "output_type": "display_data"
    }
   ],
   "source": [
    "import plotly.graph_objects as go\n",
    "from plotly.subplots import make_subplots\n",
    "import numpy as np\n",
    "\n",
    "# Define the labels and values\n",
    "labels = [\"Non-Penalty Goal\", \"Big Chances\", \"Shot Quality\", \"On Target %\", \"Off Shots\", \"Dribbles Completed %\", \"Pressure Regains\", \"Turnovers\"]\n",
    "\n",
    "values_shooting = [77.4, 75.0, 23.3, 94.4, 57.8, 53.4, 84.6, 88.4]\n",
    "values_creating = [72.0, 59.5, 82.3, 83.9, 84.1, 59.9, 78.1, 87.1]\n",
    "\n",
    "# Create a subplot layout\n",
    "fig = make_subplots(rows=1, cols=2, \n",
    "                    subplot_titles=(f'Shooting: {np.mean(values_shooting):.1f}', \n",
    "                                    f'Creating: {np.mean(values_creating):.1f}'),\n",
    "                    specs=[[{'type': 'polar'}, {'type': 'polar'}]])\n",
    "\n",
    "# Add traces for shooting and creating\n",
    "fig.add_trace(go.Scatterpolar(r=values_shooting, theta=labels, fill='toself', name='Shooting'), row=1, col=1)\n",
    "fig.add_trace(go.Scatterpolar(r=values_creating, theta=labels, fill='toself', name='Creating'), row=1, col=2)\n",
    "\n",
    "# Update the layout\n",
    "fig.update_layout(\n",
    "    polar=dict(\n",
    "        radialaxis=dict(\n",
    "            visible=True,\n",
    "            range=[0, 100]\n",
    "        )\n",
    "    ),\n",
    "    polar2=dict(\n",
    "        radialaxis=dict(\n",
    "            visible=True,\n",
    "            range=[0, 100]\n",
    "        )\n",
    "    ),\n",
    "    showlegend=False\n",
    ")\n",
    "\n",
    "fig.show()\n"
   ]
  },
  {
   "cell_type": "code",
   "execution_count": 1,
   "metadata": {},
   "outputs": [
    {
     "data": {
      "image/png": "[encoded data removed]",
      "text/plain": [
       "<Figure size 720x864 with 1 Axes>"
      ]
     },
     "metadata": {
      "needs_background": "light"
     },
     "output_type": "display_data"
    }
   ],
   "source": [
    "import matplotlib.pyplot as plt\n",
    "\n",
    "teams = [\"Man City\", \"Newcastle\", \"Chelsea\", \"Everton\", \"Liverpool\", \"Spurs\", \"Brentford\", \"Aston Villa\",\n",
    "         \"Brighton\", \"Man Utd\", \"Crystal Palace\", \"Nott'm Forest\", \"West Ham\", \"Luton Town\", \"Fulham\",\n",
    "         \"Wolves\", \"Burnley\", \"Bournemouth\", \"Sheffield Utd\"]\n",
    "\n",
    "actual_positions = [1, 2, 3, 3, 4, 4, 1, 5, 5, 6, 9, 9, 7, 15, 12, 15, 15, 19, 20]\n",
    "expected_positions = [3, 8, 3, 5, 6, 7, 8, 9, 10, 11, 12, 13, 14, 16, 14, 17, 17, 18, 20]\n",
    "\n",
    "# Plotting\n",
    "fig, ax = plt.subplots(figsize=(10, 12))\n",
    "ax.scatter(expected_positions, range(len(teams)), color='gray', label=\"Expected Position\")\n",
    "ax.scatter(actual_positions, range(len(teams)), color='red', label=\"Actual Position\")\n",
    "ax.set_yticks(range(len(teams)))\n",
    "ax.set_yticklabels(teams)\n",
    "ax.invert_yaxis()  # Reverse y-axis to have top teams at the top\n",
    "ax.set_xlabel(\"Position\")\n",
    "ax.set_title(\"Comparing actual and expected position | English Premier League 2023-24\")\n",
    "ax.legend()\n",
    "\n",
    "# Draw lines between actual and expected positions\n",
    "for i, team in enumerate(teams):\n",
    "    ax.plot([expected_positions[i], actual_positions[i]], [i, i], color='black', linestyle='--', linewidth=0.7)\n",
    "\n",
    "plt.tight_layout()\n",
    "plt.show()\n"
   ]
  },
  {
   "cell_type": "code",
   "execution_count": 13,
   "metadata": {},
   "outputs": [
    {
     "data": {
      "image/png": "[encoded data removed]",
      "text/plain": [
       "<Figure size 720x864 with 1 Axes>"
      ]
     },
     "metadata": {
      "needs_background": "light"
     },
     "output_type": "display_data"
    }
   ],
   "source": [
    "import matplotlib.pyplot as plt\n",
    "\n",
    "teams = [\"Man City\", \"Newcastle\", \"Chelsea\", \"Everton\", \"Liverpool\", \"Spurs\", \"Brentford\", \"Aston Villa\",\n",
    "         \"Brighton\", \"Man Utd\", \"Crystal Palace\", \"Nott'm Forest\", \"West Ham\", \"Luton Town\", \"Fulham\",\n",
    "         \"Wolves\", \"Burnley\", \"Bournemouth\", \"Sheffield Utd\"]\n",
    "\n",
    "actual_positions = [1, 2, 3, 3, 4, 4, 1, 5, 5, 6, 9, 9, 7, 15, 12, 15, 15, 19, 20]\n",
    "expected_positions = [3, 8, 3, 5, 6, 7, 8, 9, 10, 11, 12, 13, 14, 16, 14, 17, 17, 18, 20]\n",
    "\n",
    "# Reverse the lists\n",
    "teams = teams[::-1]\n",
    "actual_positions = actual_positions[::-1]\n",
    "expected_positions = expected_positions[::-1]\n",
    "\n",
    "# Create a scatter plot\n",
    "fig, ax = plt.subplots(figsize=(10, 12))\n",
    "\n",
    "# Plot actual positions (in red) and expected positions (in yellow)\n",
    "ax.scatter(actual_positions, teams, color='green', s=300, label=\"Actual Position\")\n",
    "ax.scatter(expected_positions, teams, color='red', s=300, label=\"Expected Position\")\n",
    "\n",
    "# Draw arrows between actual and expected positions\n",
    "for team, actual, expected in zip(teams, actual_positions, expected_positions):\n",
    "    ax.annotate(\"\", xy=(expected, team), xytext=(actual, team),\n",
    "                arrowprops=dict(arrowstyle=\"->\", lw=1.5))\n",
    "    ax.text(actual, team, str(actual), color='white', ha='center', va='center', weight='bold')\n",
    "    ax.text(expected, team, str(expected), color='black', ha='center', va='center', weight='bold')\n",
    "\n",
    "# Set labels, title and adjust x-axis\n",
    "ax.set_xlabel(\"Position\")\n",
    "ax.set_title(\"Actual vs Expected Positions (EPL 2023-24)\")\n",
    "ax.set_xlim(0, 21)  # Set x-axis limits from 1 to 20\n",
    "ax.legend(loc=\"upper right\")\n",
    "\n",
    "plt.tight_layout()\n",
    "plt.show()\n"
   ]
  },
  {
   "cell_type": "code",
   "execution_count": 54,
   "metadata": {},
   "outputs": [],
   "source": [
    "# Function to calculate xPts\n",
    "def calculate_xPts(row):\n",
    "    xG = row['xg']\n",
    "    xA = row['xga']\n",
    "    goal_diff = xG - xA\n",
    "    \n",
    "    # Adjusting the thresholds and probabilities to closely match the xPts value of 19.31\n",
    "    if goal_diff > 1.5:\n",
    "        p_win = 0.9\n",
    "        p_draw = 0.07\n",
    "        p_loss = 0.03\n",
    "    elif goal_diff > 0.5:\n",
    "        p_win = 0.75\n",
    "        p_draw = 0.2\n",
    "        p_loss = 0.05\n",
    "    elif goal_diff > 0:\n",
    "        p_win = 0.6\n",
    "        p_draw = 0.3\n",
    "        p_loss = 0.1\n",
    "    else:\n",
    "        p_win = 0.4\n",
    "        p_draw = 0.4\n",
    "        p_loss = 0.2\n",
    "        \n",
    "    # Calculating xPts based on the probabilities\n",
    "    xPts = 3 * p_win + 1 * p_draw\n",
    "    \n",
    "    return xPts"
   ]
  },
  {
   "cell_type": "code",
   "execution_count": 82,
   "metadata": {},
   "outputs": [
    {
     "data": {
      "text/html": [
       "<div>\n",
       "<style scoped>\n",
       "    .dataframe tbody tr th:only-of-type {\n",
       "        vertical-align: middle;\n",
       "    }\n",
       "\n",
       "    .dataframe tbody tr th {\n",
       "        vertical-align: top;\n",
       "    }\n",
       "\n",
       "    .dataframe thead th {\n",
       "        text-align: right;\n",
       "    }\n",
       "</style>\n",
       "<table border=\"1\" class=\"dataframe\">\n",
       "  <thead>\n",
       "    <tr style=\"text-align: right;\">\n",
       "      <th></th>\n",
       "      <th>index</th>\n",
       "      <th>date</th>\n",
       "      <th>round</th>\n",
       "      <th>venue</th>\n",
       "      <th>result</th>\n",
       "      <th>gf</th>\n",
       "      <th>ga</th>\n",
       "      <th>opponent</th>\n",
       "      <th>xg</th>\n",
       "      <th>xga</th>\n",
       "      <th>possession</th>\n",
       "      <th>xg_roll</th>\n",
       "      <th>xga_roll</th>\n",
       "      <th>team</th>\n",
       "      <th>year</th>\n",
       "    </tr>\n",
       "  </thead>\n",
       "  <tbody>\n",
       "    <tr>\n",
       "      <th>2596</th>\n",
       "      <td>10</td>\n",
       "      <td>2023-11-04 00:00:00</td>\n",
       "      <td>Matchweek 11</td>\n",
       "      <td>Home</td>\n",
       "      <td>L</td>\n",
       "      <td>0.0</td>\n",
       "      <td>1.0</td>\n",
       "      <td>Manchester Utd</td>\n",
       "      <td>1.0</td>\n",
       "      <td>0.7</td>\n",
       "      <td>45</td>\n",
       "      <td>1.01</td>\n",
       "      <td>1.64</td>\n",
       "      <td>Fulham</td>\n",
       "      <td>2023-2024</td>\n",
       "    </tr>\n",
       "    <tr>\n",
       "      <th>2597</th>\n",
       "      <td>10</td>\n",
       "      <td>2023-11-04 00:00:00</td>\n",
       "      <td>Matchweek 11</td>\n",
       "      <td>Home</td>\n",
       "      <td>L</td>\n",
       "      <td>0.0</td>\n",
       "      <td>2.0</td>\n",
       "      <td>Crystal Palace</td>\n",
       "      <td>1.1</td>\n",
       "      <td>1.3</td>\n",
       "      <td>67</td>\n",
       "      <td>0.9</td>\n",
       "      <td>1.83</td>\n",
       "      <td>Burnley</td>\n",
       "      <td>2023-2024</td>\n",
       "    </tr>\n",
       "    <tr>\n",
       "      <th>2598</th>\n",
       "      <td>10</td>\n",
       "      <td>2023-11-04 00:00:00</td>\n",
       "      <td>Matchweek 11</td>\n",
       "      <td>Home</td>\n",
       "      <td>D</td>\n",
       "      <td>1.0</td>\n",
       "      <td>1.0</td>\n",
       "      <td>Brighton</td>\n",
       "      <td>0.7</td>\n",
       "      <td>0.5</td>\n",
       "      <td>21</td>\n",
       "      <td>1.35</td>\n",
       "      <td>1.22</td>\n",
       "      <td>Everton</td>\n",
       "      <td>2023-2024</td>\n",
       "    </tr>\n",
       "    <tr>\n",
       "      <th>2599</th>\n",
       "      <td>10</td>\n",
       "      <td>2023-11-04 00:00:00</td>\n",
       "      <td>Matchweek 11</td>\n",
       "      <td>Home</td>\n",
       "      <td>W</td>\n",
       "      <td>3.0</td>\n",
       "      <td>2.0</td>\n",
       "      <td>West Ham</td>\n",
       "      <td>1.5</td>\n",
       "      <td>1.8</td>\n",
       "      <td>58</td>\n",
       "      <td>1.84</td>\n",
       "      <td>1.34</td>\n",
       "      <td>Brentford</td>\n",
       "      <td>2023-2024</td>\n",
       "    </tr>\n",
       "    <tr>\n",
       "      <th>2600</th>\n",
       "      <td>10</td>\n",
       "      <td>2023-11-04 00:00:00</td>\n",
       "      <td>Matchweek 11</td>\n",
       "      <td>Away</td>\n",
       "      <td>L</td>\n",
       "      <td>1.0</td>\n",
       "      <td>6.0</td>\n",
       "      <td>Manchester City</td>\n",
       "      <td>0.9</td>\n",
       "      <td>1.9</td>\n",
       "      <td>35</td>\n",
       "      <td>1.01</td>\n",
       "      <td>2.26</td>\n",
       "      <td>Bournemouth</td>\n",
       "      <td>2023-2024</td>\n",
       "    </tr>\n",
       "    <tr>\n",
       "      <th>2601</th>\n",
       "      <td>10</td>\n",
       "      <td>2023-11-04 00:00:00</td>\n",
       "      <td>Matchweek 11</td>\n",
       "      <td>Away</td>\n",
       "      <td>L</td>\n",
       "      <td>0.0</td>\n",
       "      <td>1.0</td>\n",
       "      <td>Newcastle Utd</td>\n",
       "      <td>0.6</td>\n",
       "      <td>1.0</td>\n",
       "      <td>58</td>\n",
       "      <td>1.85</td>\n",
       "      <td>0.76</td>\n",
       "      <td>Arsenal</td>\n",
       "      <td>2023-2024</td>\n",
       "    </tr>\n",
       "    <tr>\n",
       "      <th>2602</th>\n",
       "      <td>10</td>\n",
       "      <td>2023-11-04 00:00:00</td>\n",
       "      <td>Matchweek 11</td>\n",
       "      <td>Away</td>\n",
       "      <td>L</td>\n",
       "      <td>1.0</td>\n",
       "      <td>2.0</td>\n",
       "      <td>Sheffield Utd</td>\n",
       "      <td>1.2</td>\n",
       "      <td>1.0</td>\n",
       "      <td>61</td>\n",
       "      <td>1.22</td>\n",
       "      <td>1.65</td>\n",
       "      <td>Wolves</td>\n",
       "      <td>2023-2024</td>\n",
       "    </tr>\n",
       "    <tr>\n",
       "      <th>2603</th>\n",
       "      <td>10</td>\n",
       "      <td>2023-11-04 00:00:00</td>\n",
       "      <td>Matchweek 11</td>\n",
       "      <td>Away</td>\n",
       "      <td>W</td>\n",
       "      <td>2.0</td>\n",
       "      <td>0.0</td>\n",
       "      <td>Burnley</td>\n",
       "      <td>1.3</td>\n",
       "      <td>1.1</td>\n",
       "      <td>33</td>\n",
       "      <td>1.02</td>\n",
       "      <td>1.47</td>\n",
       "      <td>Crystal Palace</td>\n",
       "      <td>2023-2024</td>\n",
       "    </tr>\n",
       "    <tr>\n",
       "      <th>2604</th>\n",
       "      <td>10</td>\n",
       "      <td>2023-11-04 00:00:00</td>\n",
       "      <td>Matchweek 11</td>\n",
       "      <td>Away</td>\n",
       "      <td>D</td>\n",
       "      <td>1.0</td>\n",
       "      <td>1.0</td>\n",
       "      <td>Everton</td>\n",
       "      <td>0.5</td>\n",
       "      <td>0.7</td>\n",
       "      <td>79</td>\n",
       "      <td>1.53</td>\n",
       "      <td>1.45</td>\n",
       "      <td>Brighton</td>\n",
       "      <td>2023-2024</td>\n",
       "    </tr>\n",
       "    <tr>\n",
       "      <th>2605</th>\n",
       "      <td>10</td>\n",
       "      <td>2023-11-05 00:00:00</td>\n",
       "      <td>Matchweek 11</td>\n",
       "      <td>Away</td>\n",
       "      <td>L</td>\n",
       "      <td>0.0</td>\n",
       "      <td>2.0</td>\n",
       "      <td>Nott'ham Forest</td>\n",
       "      <td>1.2</td>\n",
       "      <td>0.4</td>\n",
       "      <td>73</td>\n",
       "      <td>1.87</td>\n",
       "      <td>1.17</td>\n",
       "      <td>Aston Villa</td>\n",
       "      <td>2023-2024</td>\n",
       "    </tr>\n",
       "    <tr>\n",
       "      <th>2606</th>\n",
       "      <td>10</td>\n",
       "      <td>2023-11-05 00:00:00</td>\n",
       "      <td>Matchweek 11</td>\n",
       "      <td>Away</td>\n",
       "      <td>D</td>\n",
       "      <td>1.0</td>\n",
       "      <td>1.0</td>\n",
       "      <td>Luton Town</td>\n",
       "      <td>2.6</td>\n",
       "      <td>0.8</td>\n",
       "      <td>73</td>\n",
       "      <td>2.35</td>\n",
       "      <td>1.15</td>\n",
       "      <td>Liverpool</td>\n",
       "      <td>2023-2024</td>\n",
       "    </tr>\n",
       "    <tr>\n",
       "      <th>2607</th>\n",
       "      <td>10</td>\n",
       "      <td>2023-11-05 00:00:00</td>\n",
       "      <td>Matchweek 11</td>\n",
       "      <td>Home</td>\n",
       "      <td>W</td>\n",
       "      <td>2.0</td>\n",
       "      <td>0.0</td>\n",
       "      <td>Aston Villa</td>\n",
       "      <td>0.4</td>\n",
       "      <td>1.2</td>\n",
       "      <td>27</td>\n",
       "      <td>1.03</td>\n",
       "      <td>1.59</td>\n",
       "      <td>Nott'ham Forest</td>\n",
       "      <td>2023-2024</td>\n",
       "    </tr>\n",
       "    <tr>\n",
       "      <th>2608</th>\n",
       "      <td>10</td>\n",
       "      <td>2023-11-05 00:00:00</td>\n",
       "      <td>Matchweek 11</td>\n",
       "      <td>Home</td>\n",
       "      <td>D</td>\n",
       "      <td>1.0</td>\n",
       "      <td>1.0</td>\n",
       "      <td>Liverpool</td>\n",
       "      <td>0.8</td>\n",
       "      <td>2.6</td>\n",
       "      <td>27</td>\n",
       "      <td>1.1</td>\n",
       "      <td>1.85</td>\n",
       "      <td>Luton Town</td>\n",
       "      <td>2023-2024</td>\n",
       "    </tr>\n",
       "    <tr>\n",
       "      <th>2609</th>\n",
       "      <td>10</td>\n",
       "      <td>2023-11-06 00:00:00</td>\n",
       "      <td>Matchweek 11</td>\n",
       "      <td>Away</td>\n",
       "      <td>W</td>\n",
       "      <td>4.0</td>\n",
       "      <td>1.0</td>\n",
       "      <td>Tottenham</td>\n",
       "      <td>4.0</td>\n",
       "      <td>0.9</td>\n",
       "      <td>60</td>\n",
       "      <td>2.09</td>\n",
       "      <td>1.09</td>\n",
       "      <td>Chelsea</td>\n",
       "      <td>2023-2024</td>\n",
       "    </tr>\n",
       "    <tr>\n",
       "      <th>2610</th>\n",
       "      <td>10</td>\n",
       "      <td>2023-11-06 00:00:00</td>\n",
       "      <td>Matchweek 11</td>\n",
       "      <td>Home</td>\n",
       "      <td>L</td>\n",
       "      <td>1.0</td>\n",
       "      <td>4.0</td>\n",
       "      <td>Chelsea</td>\n",
       "      <td>0.9</td>\n",
       "      <td>4.0</td>\n",
       "      <td>40</td>\n",
       "      <td>1.71</td>\n",
       "      <td>1.43</td>\n",
       "      <td>Tottenham</td>\n",
       "      <td>2023-2024</td>\n",
       "    </tr>\n",
       "  </tbody>\n",
       "</table>\n",
       "</div>"
      ],
      "text/plain": [
       "      index                 date         round venue result   gf   ga  \\\n",
       "2596     10  2023-11-04 00:00:00  Matchweek 11  Home      L  0.0  1.0   \n",
       "2597     10  2023-11-04 00:00:00  Matchweek 11  Home      L  0.0  2.0   \n",
       "2598     10  2023-11-04 00:00:00  Matchweek 11  Home      D  1.0  1.0   \n",
       "2599     10  2023-11-04 00:00:00  Matchweek 11  Home      W  3.0  2.0   \n",
       "2600     10  2023-11-04 00:00:00  Matchweek 11  Away      L  1.0  6.0   \n",
       "2601     10  2023-11-04 00:00:00  Matchweek 11  Away      L  0.0  1.0   \n",
       "2602     10  2023-11-04 00:00:00  Matchweek 11  Away      L  1.0  2.0   \n",
       "2603     10  2023-11-04 00:00:00  Matchweek 11  Away      W  2.0  0.0   \n",
       "2604     10  2023-11-04 00:00:00  Matchweek 11  Away      D  1.0  1.0   \n",
       "2605     10  2023-11-05 00:00:00  Matchweek 11  Away      L  0.0  2.0   \n",
       "2606     10  2023-11-05 00:00:00  Matchweek 11  Away      D  1.0  1.0   \n",
       "2607     10  2023-11-05 00:00:00  Matchweek 11  Home      W  2.0  0.0   \n",
       "2608     10  2023-11-05 00:00:00  Matchweek 11  Home      D  1.0  1.0   \n",
       "2609     10  2023-11-06 00:00:00  Matchweek 11  Away      W  4.0  1.0   \n",
       "2610     10  2023-11-06 00:00:00  Matchweek 11  Home      L  1.0  4.0   \n",
       "\n",
       "             opponent   xg  xga  possession xg_roll xga_roll             team  \\\n",
       "2596   Manchester Utd  1.0  0.7          45    1.01     1.64           Fulham   \n",
       "2597   Crystal Palace  1.1  1.3          67     0.9     1.83          Burnley   \n",
       "2598         Brighton  0.7  0.5          21    1.35     1.22          Everton   \n",
       "2599         West Ham  1.5  1.8          58    1.84     1.34        Brentford   \n",
       "2600  Manchester City  0.9  1.9          35    1.01     2.26      Bournemouth   \n",
       "2601    Newcastle Utd  0.6  1.0          58    1.85     0.76          Arsenal   \n",
       "2602    Sheffield Utd  1.2  1.0          61    1.22     1.65           Wolves   \n",
       "2603          Burnley  1.3  1.1          33    1.02     1.47   Crystal Palace   \n",
       "2604          Everton  0.5  0.7          79    1.53     1.45         Brighton   \n",
       "2605  Nott'ham Forest  1.2  0.4          73    1.87     1.17      Aston Villa   \n",
       "2606       Luton Town  2.6  0.8          73    2.35     1.15        Liverpool   \n",
       "2607      Aston Villa  0.4  1.2          27    1.03     1.59  Nott'ham Forest   \n",
       "2608        Liverpool  0.8  2.6          27     1.1     1.85       Luton Town   \n",
       "2609        Tottenham  4.0  0.9          60    2.09     1.09          Chelsea   \n",
       "2610          Chelsea  0.9  4.0          40    1.71     1.43        Tottenham   \n",
       "\n",
       "           year  \n",
       "2596  2023-2024  \n",
       "2597  2023-2024  \n",
       "2598  2023-2024  \n",
       "2599  2023-2024  \n",
       "2600  2023-2024  \n",
       "2601  2023-2024  \n",
       "2602  2023-2024  \n",
       "2603  2023-2024  \n",
       "2604  2023-2024  \n",
       "2605  2023-2024  \n",
       "2606  2023-2024  \n",
       "2607  2023-2024  \n",
       "2608  2023-2024  \n",
       "2609  2023-2024  \n",
       "2610  2023-2024  "
      ]
     },
     "execution_count": 82,
     "metadata": {},
     "output_type": "execute_result"
    }
   ],
   "source": [
    "import sqlite3\n",
    "import pandas as pd\n",
    "\n",
    "folder_db = '/data/databases/'\n",
    "folder_raw = '/data/raw_files/'\n",
    "\n",
    "# Get the directory of the current script\n",
    "current_directory = os.path.abspath('')\n",
    "\n",
    "\n",
    "db_path = os.path.join(current_directory + folder_db, \"fbref_data_team_individual.db\")\n",
    "conn = sqlite3.connect(db_path)\n",
    "df_individual_xpts = pd.read_sql_query('SELECT * FROM team_individual_tbl', conn)\n",
    "conn.close()\n",
    "df_individual_xpts = df_individual_xpts[df_individual_xpts['year'] == '2023-2024']\n",
    "df_individual_xpts.tail(15)"
   ]
  },
  {
   "cell_type": "code",
   "execution_count": 55,
   "metadata": {},
   "outputs": [
    {
     "name": "stdout",
     "output_type": "stream",
     "text": [
      "Expected Points for Brentford: 1.30\n",
      "Expected Points for Arsenal: 1.44\n"
     ]
    }
   ],
   "source": [
    "import numpy as np\n",
    "from scipy.stats import poisson\n",
    "\n",
    "def simulate_match(xG_home, xG_away, num_simulations=20000):\n",
    "    # Simulate goals using Poisson distribution\n",
    "    home_goals = poisson.rvs(mu=xG_home, size=num_simulations)\n",
    "    away_goals = poisson.rvs(mu=xG_away, size=num_simulations)\n",
    "    \n",
    "    # Calculate wins, draws, losses\n",
    "    home_wins = np.sum(home_goals > away_goals)\n",
    "    draws = np.sum(home_goals == away_goals)\n",
    "    away_wins = num_simulations - home_wins - draws\n",
    "    \n",
    "    # Calculate probabilities\n",
    "    win_probability_home = home_wins / num_simulations\n",
    "    draw_probability = draws / num_simulations\n",
    "    win_probability_away = away_wins / num_simulations\n",
    "    \n",
    "    # Calculate expected points (xPts)\n",
    "    xPts_home = (win_probability_home * 3.0) + (draw_probability * 1.0)\n",
    "    xPts_away = (win_probability_away * 3.0) + (draw_probability * 1.0)\n",
    "    \n",
    "    return xPts_home, xPts_away\n",
    "\n",
    "# Example\n",
    "xG_Brentford = 1.3\n",
    "xG_Arsenal = 1.4\n",
    "xPts_Brentford, xPts_Arsenal = simulate_match(xG_Brentford, xG_Arsenal)\n",
    "print(f\"Expected Points for Brentford: {xPts_Brentford:.2f}\")\n",
    "print(f\"Expected Points for Arsenal: {xPts_Arsenal:.2f}\")\n"
   ]
  },
  {
   "cell_type": "code",
   "execution_count": 104,
   "metadata": {},
   "outputs": [
    {
     "name": "stderr",
     "output_type": "stream",
     "text": [
      "/var/folders/vd/ly4k__lj017dwcj6ngy4n4c00000gn/T/ipykernel_5272/2507096414.py:14: SettingWithCopyWarning: \n",
      "A value is trying to be set on a copy of a slice from a DataFrame.\n",
      "Try using .loc[row_indexer,col_indexer] = value instead\n",
      "\n",
      "See the caveats in the documentation: https://pandas.pydata.org/pandas-docs/stable/user_guide/indexing.html#returning-a-view-versus-a-copy\n",
      "  df['xG Difference'] = df['npxG per 90_x'] - df['npxG per 90_y']\n"
     ]
    },
    {
     "name": "stdout",
     "output_type": "stream",
     "text": [
      "              Squad  npxG per 90_x  npxG per 90_y  xG Difference\n",
      "0           Arsenal           1.57           0.71           0.86\n",
      "12  Manchester City           1.71           0.88           0.83\n",
      "10        Liverpool           1.83           1.15           0.68\n",
      "14    Newcastle Utd           1.91           1.23           0.68\n",
      "8           Everton           1.58           1.11           0.47\n"
     ]
    },
    {
     "data": {
      "image/png": "[encoded data removed]",
      "text/plain": [
       "<Figure size 720x576 with 1 Axes>"
      ]
     },
     "metadata": {
      "needs_background": "light"
     },
     "output_type": "display_data"
    }
   ],
   "source": [
    "\n",
    "import matplotlib.pyplot as plt\n",
    "import numpy as np\n",
    "\n",
    "db_path = os.path.join(current_directory + folder_db, \"fbref_for_team_data_overall_2023-2024.db\")\n",
    "conn = sqlite3.connect(db_path)\n",
    "df1 = pd.read_sql_query('SELECT * FROM teams_for_general', conn)\n",
    "conn.close()\n",
    "df1\n",
    "\n",
    "db_path = os.path.join(current_directory + folder_db, \"fbref_against_team_data_overall_2023-2024.db\")\n",
    "conn = sqlite3.connect(db_path)\n",
    "df2 = pd.read_sql_query('SELECT * FROM teams_against_general', conn)\n",
    "conn.close()\n",
    "df2\n",
    "\n",
    "merged_df_teams = df1.merge(df2, left_on='Squad', right_on='Squad', how='left') \n",
    " \n",
    "\n",
    "df = merged_df_teams\n",
    "\n",
    "# Sample data: Team names and their xG Difference\n",
    "teams = df['Squad'].unique()\n",
    "\n",
    "cols = ['Squad', 'npxG per 90_x','npxG per 90_y']\n",
    "df = df[cols]\n",
    "\n",
    "# Assuming the xG Difference ranges from -14 to 14 as a placeholder\n",
    "# The actual values should be replaced with the real data\n",
    "df['xG Difference'] = df['npxG per 90_x'] - df['npxG per 90_y']\n",
    "\n",
    "# Sort the DataFrame based on 'xG Difference' values\n",
    "df_sorted = df.sort_values('xG Difference', ascending=False)\n",
    "\n",
    "print(df_sorted.head(5))\n",
    "\n",
    "# Now we can use df_sorted to plot our graph\n",
    "# Extract the sorted teams and their xG difference\n",
    "sorted_teams = df_sorted['Squad'].values\n",
    "sorted_xg_difference = df_sorted['xG Difference'].values\n",
    "\n",
    "\n",
    "# Colors for the bars\n",
    "colors = [plt.cm.RdYlGn(x) for x in np.linspace(0, 1, len(teams))]\n",
    "\n",
    "# Create the horizontal bar graph with sorted teams\n",
    "plt.figure(figsize=(10, 8))\n",
    "bars = plt.barh(sorted_teams[::-1], sorted_xg_difference[::-1], color=colors)\n",
    "\n",
    "# Determine the max absolute xG difference to set equal limits around zero\n",
    "max_xg_diff = np.max(np.abs(sorted_xg_difference)) + 0.25\n",
    "\n",
    "# Set the x-axis limits to be equal on both sides of zero\n",
    "plt.xlim(-max_xg_diff, max_xg_diff)\n",
    "\n",
    "# Adding the League Average line\n",
    "plt.axvline(0, color='grey', linewidth=0.8, linestyle=\"--\")\n",
    "\n",
    "# Set the title and labels\n",
    "plt.title('Champions League\\n2023-09-18 to 2023-12-13\\nTeam Comparison\\nComparison Metric: xG Difference')\n",
    "plt.xlabel('xG Difference')\n",
    "plt.ylabel('Teams')\n",
    "\n",
    "# # Set the y-ticks to team names\n",
    "# plt.yticks(np.arange(len(teams)), teams)\n",
    "\n",
    "# Remove the spines\n",
    "for spine in plt.gca().spines.values():\n",
    "    spine.set_visible(False)\n",
    "\n",
    "# Show the plot\n",
    "plt.show()\n"
   ]
  },
  {
   "cell_type": "code",
   "execution_count": 106,
   "metadata": {},
   "outputs": [
    {
     "data": {
      "text/html": [
       "<div>\n",
       "<style scoped>\n",
       "    .dataframe tbody tr th:only-of-type {\n",
       "        vertical-align: middle;\n",
       "    }\n",
       "\n",
       "    .dataframe tbody tr th {\n",
       "        vertical-align: top;\n",
       "    }\n",
       "\n",
       "    .dataframe thead th {\n",
       "        text-align: right;\n",
       "    }\n",
       "</style>\n",
       "<table border=\"1\" class=\"dataframe\">\n",
       "  <thead>\n",
       "    <tr style=\"text-align: right;\">\n",
       "      <th></th>\n",
       "      <th>index</th>\n",
       "      <th>element</th>\n",
       "      <th>total_points</th>\n",
       "      <th>minutes</th>\n",
       "      <th>goals_scored</th>\n",
       "      <th>assists</th>\n",
       "      <th>clean_sheets</th>\n",
       "      <th>goals_conceded</th>\n",
       "      <th>own_goals</th>\n",
       "      <th>penalties_saved</th>\n",
       "      <th>...</th>\n",
       "      <th>starts</th>\n",
       "      <th>expected_goals</th>\n",
       "      <th>expected_assists</th>\n",
       "      <th>expected_goal_involvements</th>\n",
       "      <th>expected_goals_conceded</th>\n",
       "      <th>selected</th>\n",
       "      <th>transfers_in</th>\n",
       "      <th>transfers_out</th>\n",
       "      <th>full_name</th>\n",
       "      <th>id_x</th>\n",
       "    </tr>\n",
       "  </thead>\n",
       "  <tbody>\n",
       "    <tr>\n",
       "      <th>0</th>\n",
       "      <td>0</td>\n",
       "      <td>308</td>\n",
       "      <td>5</td>\n",
       "      <td>76</td>\n",
       "      <td>0</td>\n",
       "      <td>1</td>\n",
       "      <td>0</td>\n",
       "      <td>1</td>\n",
       "      <td>0</td>\n",
       "      <td>0</td>\n",
       "      <td>...</td>\n",
       "      <td>1</td>\n",
       "      <td>0.28</td>\n",
       "      <td>0.31</td>\n",
       "      <td>0.59</td>\n",
       "      <td>1.28</td>\n",
       "      <td>2243674</td>\n",
       "      <td>0</td>\n",
       "      <td>0</td>\n",
       "      <td>Mohamed Salah</td>\n",
       "      <td>308</td>\n",
       "    </tr>\n",
       "    <tr>\n",
       "      <th>1</th>\n",
       "      <td>1</td>\n",
       "      <td>308</td>\n",
       "      <td>5</td>\n",
       "      <td>85</td>\n",
       "      <td>1</td>\n",
       "      <td>0</td>\n",
       "      <td>0</td>\n",
       "      <td>1</td>\n",
       "      <td>0</td>\n",
       "      <td>0</td>\n",
       "      <td>...</td>\n",
       "      <td>1</td>\n",
       "      <td>1.23</td>\n",
       "      <td>0.11</td>\n",
       "      <td>1.34</td>\n",
       "      <td>1.00</td>\n",
       "      <td>2739755</td>\n",
       "      <td>211617</td>\n",
       "      <td>48553</td>\n",
       "      <td>Mohamed Salah</td>\n",
       "      <td>308</td>\n",
       "    </tr>\n",
       "    <tr>\n",
       "      <th>2</th>\n",
       "      <td>2</td>\n",
       "      <td>308</td>\n",
       "      <td>5</td>\n",
       "      <td>90</td>\n",
       "      <td>0</td>\n",
       "      <td>1</td>\n",
       "      <td>0</td>\n",
       "      <td>1</td>\n",
       "      <td>0</td>\n",
       "      <td>0</td>\n",
       "      <td>...</td>\n",
       "      <td>1</td>\n",
       "      <td>0.18</td>\n",
       "      <td>0.12</td>\n",
       "      <td>0.30</td>\n",
       "      <td>2.00</td>\n",
       "      <td>2570086</td>\n",
       "      <td>98738</td>\n",
       "      <td>328035</td>\n",
       "      <td>Mohamed Salah</td>\n",
       "      <td>308</td>\n",
       "    </tr>\n",
       "    <tr>\n",
       "      <th>3</th>\n",
       "      <td>3</td>\n",
       "      <td>308</td>\n",
       "      <td>8</td>\n",
       "      <td>90</td>\n",
       "      <td>1</td>\n",
       "      <td>0</td>\n",
       "      <td>1</td>\n",
       "      <td>0</td>\n",
       "      <td>0</td>\n",
       "      <td>0</td>\n",
       "      <td>...</td>\n",
       "      <td>1</td>\n",
       "      <td>0.80</td>\n",
       "      <td>0.07</td>\n",
       "      <td>0.87</td>\n",
       "      <td>0.66</td>\n",
       "      <td>2505698</td>\n",
       "      <td>74612</td>\n",
       "      <td>197028</td>\n",
       "      <td>Mohamed Salah</td>\n",
       "      <td>308</td>\n",
       "    </tr>\n",
       "    <tr>\n",
       "      <th>4</th>\n",
       "      <td>4</td>\n",
       "      <td>308</td>\n",
       "      <td>10</td>\n",
       "      <td>90</td>\n",
       "      <td>0</td>\n",
       "      <td>2</td>\n",
       "      <td>0</td>\n",
       "      <td>1</td>\n",
       "      <td>0</td>\n",
       "      <td>0</td>\n",
       "      <td>...</td>\n",
       "      <td>1</td>\n",
       "      <td>0.24</td>\n",
       "      <td>1.47</td>\n",
       "      <td>1.71</td>\n",
       "      <td>0.63</td>\n",
       "      <td>2540130</td>\n",
       "      <td>117182</td>\n",
       "      <td>139826</td>\n",
       "      <td>Mohamed Salah</td>\n",
       "      <td>308</td>\n",
       "    </tr>\n",
       "  </tbody>\n",
       "</table>\n",
       "<p>5 rows × 26 columns</p>\n",
       "</div>"
      ],
      "text/plain": [
       "   index  element  total_points  minutes  goals_scored  assists  clean_sheets  \\\n",
       "0      0      308             5       76             0        1             0   \n",
       "1      1      308             5       85             1        0             0   \n",
       "2      2      308             5       90             0        1             0   \n",
       "3      3      308             8       90             1        0             1   \n",
       "4      4      308            10       90             0        2             0   \n",
       "\n",
       "   goals_conceded  own_goals  penalties_saved  ...  starts  expected_goals  \\\n",
       "0               1          0                0  ...       1            0.28   \n",
       "1               1          0                0  ...       1            1.23   \n",
       "2               1          0                0  ...       1            0.18   \n",
       "3               0          0                0  ...       1            0.80   \n",
       "4               1          0                0  ...       1            0.24   \n",
       "\n",
       "   expected_assists  expected_goal_involvements  expected_goals_conceded  \\\n",
       "0              0.31                        0.59                     1.28   \n",
       "1              0.11                        1.34                     1.00   \n",
       "2              0.12                        0.30                     2.00   \n",
       "3              0.07                        0.87                     0.66   \n",
       "4              1.47                        1.71                     0.63   \n",
       "\n",
       "   selected  transfers_in transfers_out      full_name id_x  \n",
       "0   2243674             0             0  Mohamed Salah  308  \n",
       "1   2739755        211617         48553  Mohamed Salah  308  \n",
       "2   2570086         98738        328035  Mohamed Salah  308  \n",
       "3   2505698         74612        197028  Mohamed Salah  308  \n",
       "4   2540130        117182        139826  Mohamed Salah  308  \n",
       "\n",
       "[5 rows x 26 columns]"
      ]
     },
     "execution_count": 106,
     "metadata": {},
     "output_type": "execute_result"
    }
   ],
   "source": [
    "# Bring in weekly fpl data\n",
    "current_dir = os.getcwd()\n",
    "new_directory = os.path.join(current_dir, \"data\", \"databases\")\n",
    "db_name = os.path.join(new_directory, 'fpl_data_weekly.db')\n",
    "table_name = 'general_data'\n",
    "conn = sqlite3.connect(db_name)\n",
    "df_weekly_fpl = pd.read_sql_query(f'SELECT * FROM {table_name}', conn)\n",
    "conn.close()\n",
    "\n",
    "\n",
    "df_weekly_fpl.head(5)"
   ]
  },
  {
   "cell_type": "code",
   "execution_count": 113,
   "metadata": {},
   "outputs": [
    {
     "name": "stderr",
     "output_type": "stream",
     "text": [
      "/var/folders/vd/ly4k__lj017dwcj6ngy4n4c00000gn/T/ipykernel_5272/1717145060.py:19: SettingWithCopyWarning: \n",
      "A value is trying to be set on a copy of a slice from a DataFrame.\n",
      "Try using .loc[row_indexer,col_indexer] = value instead\n",
      "\n",
      "See the caveats in the documentation: https://pandas.pydata.org/pandas-docs/stable/user_guide/indexing.html#returning-a-view-versus-a-copy\n",
      "  df_last_8_weeks['expected_goals'] = df_last_8_weeks['expected_goals'].astype(float)\n",
      "/var/folders/vd/ly4k__lj017dwcj6ngy4n4c00000gn/T/ipykernel_5272/1717145060.py:20: SettingWithCopyWarning: \n",
      "A value is trying to be set on a copy of a slice from a DataFrame.\n",
      "Try using .loc[row_indexer,col_indexer] = value instead\n",
      "\n",
      "See the caveats in the documentation: https://pandas.pydata.org/pandas-docs/stable/user_guide/indexing.html#returning-a-view-versus-a-copy\n",
      "  df_last_8_weeks['expected_assists'] = df_last_8_weeks['expected_assists'].astype(float)\n"
     ]
    },
    {
     "data": {
      "image/png": "[encoded data removed]",
      "text/plain": [
       "<Figure size 720x576 with 1 Axes>"
      ]
     },
     "metadata": {
      "needs_background": "light"
     },
     "output_type": "display_data"
    }
   ],
   "source": [
    "import pandas as pd\n",
    "import matplotlib.pyplot as plt\n",
    "\n",
    "# Load the data from the CSV file\n",
    "df = df_weekly_fpl\n",
    "\n",
    "# Assign gameweeks correctly by using a groupby operation on 'element'\n",
    "# and using the cumulative count within each group as the gameweek number\n",
    "df['gameweek'] = df.groupby('element').cumcount() + 1\n",
    "\n",
    "# Find the maximum gameweek for each element (player)\n",
    "max_gameweeks = df.groupby('element')['gameweek'].transform('max')\n",
    "\n",
    "# Filter to get the rows for the last 8 gameweeks for each player\n",
    "df_last_8_weeks = df[(max_gameweeks - df['gameweek']) < 6]\n",
    "\n",
    "# Group by 'full_name' and sum the 'expected_goals' and 'expected_assists'\n",
    "\n",
    "df_last_8_weeks['expected_goals'] = df_last_8_weeks['expected_goals'].astype(float)\n",
    "df_last_8_weeks['expected_assists'] = df_last_8_weeks['expected_assists'].astype(float)\n",
    "player_xg_xa_last_8 = df_last_8_weeks.groupby('full_name')[['expected_goals', 'expected_assists']].sum().reset_index()\n",
    "\n",
    "\n",
    "# Identifying the top 10 players based on xG and xA\n",
    "top_10_xg = player_xg_xa_last_8.nlargest(15, 'expected_goals')\n",
    "top_10_xa = player_xg_xa_last_8.nlargest(15, 'expected_assists')\n",
    "\n",
    "\n",
    "\n",
    "# Create the scatter plot\n",
    "plt.figure(figsize=(10, 8))\n",
    "plt.scatter(player_xg_xa_last_8['expected_assists'], player_xg_xa_last_8['expected_goals'])\n",
    "\n",
    "# Highlight the top 10 players in xG and xA in red\n",
    "plt.scatter(top_10_xg['expected_assists'] , top_10_xg['expected_goals'], color='red', label='Top 15 xG')\n",
    "plt.scatter(top_10_xa['expected_assists'], top_10_xa['expected_goals'],  color='red', label='Top 15 xA')\n",
    "\n",
    "\n",
    "# Adding names to the highlighted points\n",
    "for i, row in top_10_xg.iterrows():\n",
    "    plt.text(row['expected_assists'], row['expected_goals'],  row['full_name'], fontsize=8)\n",
    "for i, row in top_10_xa.iterrows():\n",
    "    plt.text(row['expected_assists'], row['expected_goals'],  row['full_name'], fontsize=8)\n",
    "\n",
    "\n",
    "\n",
    "# Adding labels and title\n",
    "plt.xlabel('Summed Expected Assists (xA) - Last 8 Gameweeks')\n",
    "plt.ylabel('Summed Expected Goals (xG) - Last 8 Gameweeks')\n",
    "plt.title('Summed xG and xA over the Last 8 Gameweeks for All Players')\n",
    "\n",
    "# Show plot with a grid for better readability\n",
    "plt.grid(True)\n",
    "plt.show()\n"
   ]
  },
  {
   "cell_type": "code",
   "execution_count": 137,
   "metadata": {},
   "outputs": [
    {
     "data": {
      "text/html": [
       "<div>\n",
       "<style scoped>\n",
       "    .dataframe tbody tr th:only-of-type {\n",
       "        vertical-align: middle;\n",
       "    }\n",
       "\n",
       "    .dataframe tbody tr th {\n",
       "        vertical-align: top;\n",
       "    }\n",
       "\n",
       "    .dataframe thead th {\n",
       "        text-align: right;\n",
       "    }\n",
       "</style>\n",
       "<table border=\"1\" class=\"dataframe\">\n",
       "  <thead>\n",
       "    <tr style=\"text-align: right;\">\n",
       "      <th></th>\n",
       "      <th>Rk</th>\n",
       "      <th>Player</th>\n",
       "      <th>Nation</th>\n",
       "      <th>Pos</th>\n",
       "      <th>Squad</th>\n",
       "      <th>Age</th>\n",
       "      <th>Born</th>\n",
       "      <th>MP</th>\n",
       "      <th>Starts</th>\n",
       "      <th>Min</th>\n",
       "      <th>90s</th>\n",
       "      <th>Gls</th>\n",
       "      <th>Ast</th>\n",
       "      <th>G+A</th>\n",
       "      <th>G-PK</th>\n",
       "      <th>PK</th>\n",
       "      <th>PKatt</th>\n",
       "      <th>CrdY</th>\n",
       "      <th>CrdR</th>\n",
       "      <th>xG</th>\n",
       "      <th>npxG</th>\n",
       "      <th>xAG</th>\n",
       "      <th>npxG+xAG</th>\n",
       "      <th>Progressive Carries</th>\n",
       "      <th>Progressive Passes</th>\n",
       "      <th>PrgR</th>\n",
       "      <th>Gls per 90</th>\n",
       "      <th>Ast per 90</th>\n",
       "      <th>G+A per 90</th>\n",
       "      <th>G-PK per 90</th>\n",
       "      <th>G+A-PK per 90</th>\n",
       "      <th>xG per 90</th>\n",
       "      <th>xAG per 90</th>\n",
       "      <th>xG+xAG</th>\n",
       "      <th>npxG per 90</th>\n",
       "      <th>npxG+xAG per 90</th>\n",
       "      <th>season_years</th>\n",
       "      <th>GA</th>\n",
       "      <th>GA90</th>\n",
       "      <th>SoTA</th>\n",
       "      <th>Saves</th>\n",
       "      <th>Save%</th>\n",
       "      <th>W</th>\n",
       "      <th>D</th>\n",
       "      <th>L</th>\n",
       "      <th>CS</th>\n",
       "      <th>CS%</th>\n",
       "      <th>PKA</th>\n",
       "      <th>PKsv</th>\n",
       "      <th>PKm</th>\n",
       "      <th>Save%.1</th>\n",
       "      <th>FK</th>\n",
       "      <th>CK</th>\n",
       "      <th>OG</th>\n",
       "      <th>PSxG</th>\n",
       "      <th>PSxG/SoT</th>\n",
       "      <th>PSxG+/-</th>\n",
       "      <th>/90</th>\n",
       "      <th>Cmp</th>\n",
       "      <th>Att</th>\n",
       "      <th>Cmp%</th>\n",
       "      <th>Att (GK)</th>\n",
       "      <th>Thr</th>\n",
       "      <th>Launch%</th>\n",
       "      <th>AvgLen</th>\n",
       "      <th>Att.1</th>\n",
       "      <th>Launch%.1</th>\n",
       "      <th>AvgLen.1</th>\n",
       "      <th>Opp</th>\n",
       "      <th>Stp</th>\n",
       "      <th>Stp%</th>\n",
       "      <th>#OPA</th>\n",
       "      <th>#OPA/90</th>\n",
       "      <th>AvgDist</th>\n",
       "      <th>Sh</th>\n",
       "      <th>SoT</th>\n",
       "      <th>SoT Pct</th>\n",
       "      <th>Sh per 90</th>\n",
       "      <th>SoT per 90</th>\n",
       "      <th>Goals per Shot</th>\n",
       "      <th>Goals per SoT</th>\n",
       "      <th>Average Shot Distance</th>\n",
       "      <th>npxG per Shot</th>\n",
       "      <th>G-xG</th>\n",
       "      <th>npG - npxG</th>\n",
       "      <th>Passes Completed</th>\n",
       "      <th>Passes Attempted</th>\n",
       "      <th>Pass Completion Pct</th>\n",
       "      <th>Total Passing Dist</th>\n",
       "      <th>Progressive Passing Dist</th>\n",
       "      <th>Passes Completed (Short)</th>\n",
       "      <th>Passes Attempted (Short)</th>\n",
       "      <th>Pass Completion Pct (Short)</th>\n",
       "      <th>Passes Completed (Medium)</th>\n",
       "      <th>Passes Attempted (Medium)</th>\n",
       "      <th>Pass Completion Pct (Medium)</th>\n",
       "      <th>Passes Completed (Long)</th>\n",
       "      <th>Passes Attempted (Long)</th>\n",
       "      <th>Pass Completion Pct (Long)</th>\n",
       "      <th>xA</th>\n",
       "      <th>A-xAG</th>\n",
       "      <th>Key Passes</th>\n",
       "      <th>Passes Into Final Third</th>\n",
       "      <th>Passes Into Pen Area</th>\n",
       "      <th>Crosses Into Pen Area</th>\n",
       "      <th>Live-ball Passes</th>\n",
       "      <th>Dead-ball Passes</th>\n",
       "      <th>Passes from FK</th>\n",
       "      <th>Through Balls</th>\n",
       "      <th>Switches</th>\n",
       "      <th>Crosses</th>\n",
       "      <th>Throw-Ins</th>\n",
       "      <th>Corner Kicks</th>\n",
       "      <th>Inswinging CK</th>\n",
       "      <th>Outswinging CK</th>\n",
       "      <th>Straight CK</th>\n",
       "      <th>Passes Offside</th>\n",
       "      <th>Passes Blocked</th>\n",
       "      <th>Shot Creating Actions</th>\n",
       "      <th>Shot Creating Actions per 90</th>\n",
       "      <th>SCA PassLive</th>\n",
       "      <th>SCA PassDead</th>\n",
       "      <th>SCA Take-ons</th>\n",
       "      <th>SCA Shots</th>\n",
       "      <th>SCA Fouled</th>\n",
       "      <th>SCA Defensive Actions</th>\n",
       "      <th>Goal Creating Actions</th>\n",
       "      <th>Goal Creating Actions per 90</th>\n",
       "      <th>GCA PassLive</th>\n",
       "      <th>GCA PassDead</th>\n",
       "      <th>GCA Take-ons</th>\n",
       "      <th>GCA Shots</th>\n",
       "      <th>GCA Fouled</th>\n",
       "      <th>GCA Defensive Actions</th>\n",
       "      <th>Tackles</th>\n",
       "      <th>Tackles Won</th>\n",
       "      <th>Tackles Def 3rd</th>\n",
       "      <th>Tackles Mid 3rd</th>\n",
       "      <th>Tackles Att 3rd</th>\n",
       "      <th>Dribblers Tackled</th>\n",
       "      <th>Dribblers Challenged</th>\n",
       "      <th>Dribblers Tackled Pct</th>\n",
       "      <th>Dribblers Challenged Lost</th>\n",
       "      <th>Blocks</th>\n",
       "      <th>Shots Blocked</th>\n",
       "      <th>Interceptions</th>\n",
       "      <th>Tackles and Interceptions</th>\n",
       "      <th>Clearances</th>\n",
       "      <th>Errors Leading to Shots</th>\n",
       "      <th>Touches</th>\n",
       "      <th>Touches (Def Pen)</th>\n",
       "      <th>Touches (Def 3rd)</th>\n",
       "      <th>Touches (Mid 3rd)</th>\n",
       "      <th>Touches (Att 3rd)</th>\n",
       "      <th>Touches (Att Pen)</th>\n",
       "      <th>Touches (Live-Ball)</th>\n",
       "      <th>Take-Ons Attempted</th>\n",
       "      <th>Successful Take-Ons</th>\n",
       "      <th>Successful Take-On %</th>\n",
       "      <th>Times Tackled During Take-Ons</th>\n",
       "      <th>Tackled During Take-On %</th>\n",
       "      <th>Carries</th>\n",
       "      <th>Total Carrying Distance</th>\n",
       "      <th>Progressive Carrying Distance</th>\n",
       "      <th>Carries Into Final 3rd</th>\n",
       "      <th>Carries Into Penalty Area</th>\n",
       "      <th>Miscontrols</th>\n",
       "      <th>Disposessed</th>\n",
       "      <th>Passes Recieved</th>\n",
       "      <th>Progressive Passes Receieved</th>\n",
       "      <th>Mins</th>\n",
       "      <th>Minutes per Matches Played</th>\n",
       "      <th>Minutes Played Pct</th>\n",
       "      <th>Minutes Per Start</th>\n",
       "      <th>Complete Matches Played</th>\n",
       "      <th>Sub Apps</th>\n",
       "      <th>Minutes Per Sub</th>\n",
       "      <th>Unused Subs</th>\n",
       "      <th>Points Per Match</th>\n",
       "      <th>Goals Scored (On Pitch)</th>\n",
       "      <th>Goals Allowed (On Pitch)</th>\n",
       "      <th>Scored Minus Allowed (On Pitch)</th>\n",
       "      <th>Scored Minus Allowed (On Pitch) per 90</th>\n",
       "      <th>Scored Minus Allowed Net (On Pitch) per 90</th>\n",
       "      <th>xG (On Pitch)</th>\n",
       "      <th>xGA (On Pitch)</th>\n",
       "      <th>xG Minus xGA (On Pitch)</th>\n",
       "      <th>xG Minus xGA (On Pitch) per 90</th>\n",
       "      <th>xG Minus xGA Net (On Pitch) per 90</th>\n",
       "      <th>2CrdY</th>\n",
       "      <th>Fouls</th>\n",
       "      <th>Fouled</th>\n",
       "      <th>Offsides</th>\n",
       "      <th>PK Won</th>\n",
       "      <th>PK Conceded</th>\n",
       "      <th>Own Goals</th>\n",
       "      <th>Balls Recovered</th>\n",
       "      <th>Aerial Duels Won</th>\n",
       "      <th>Aerial Duels Lost</th>\n",
       "      <th>Aerial Duels Win Pct</th>\n",
       "    </tr>\n",
       "  </thead>\n",
       "  <tbody>\n",
       "    <tr>\n",
       "      <th>132</th>\n",
       "      <td>266</td>\n",
       "      <td>Douglas Luiz</td>\n",
       "      <td>BRA</td>\n",
       "      <td>MF</td>\n",
       "      <td>Aston Villa</td>\n",
       "      <td>25.0</td>\n",
       "      <td>1998.0</td>\n",
       "      <td>16.0</td>\n",
       "      <td>16.0</td>\n",
       "      <td>1383.0</td>\n",
       "      <td>15.4</td>\n",
       "      <td>5.0</td>\n",
       "      <td>2.0</td>\n",
       "      <td>7.0</td>\n",
       "      <td>2.0</td>\n",
       "      <td>3.0</td>\n",
       "      <td>3.0</td>\n",
       "      <td>5.0</td>\n",
       "      <td>0.0</td>\n",
       "      <td>4.1</td>\n",
       "      <td>1.8</td>\n",
       "      <td>1.9</td>\n",
       "      <td>3.7</td>\n",
       "      <td>35.0</td>\n",
       "      <td>76.0</td>\n",
       "      <td>28.0</td>\n",
       "      <td>0.33</td>\n",
       "      <td>0.13</td>\n",
       "      <td>0.46</td>\n",
       "      <td>0.13</td>\n",
       "      <td>0.26</td>\n",
       "      <td>0.27</td>\n",
       "      <td>0.12</td>\n",
       "      <td>0.39</td>\n",
       "      <td>0.12</td>\n",
       "      <td>0.24</td>\n",
       "      <td>2023-2024</td>\n",
       "      <td>NaN</td>\n",
       "      <td>NaN</td>\n",
       "      <td>NaN</td>\n",
       "      <td>NaN</td>\n",
       "      <td>NaN</td>\n",
       "      <td>NaN</td>\n",
       "      <td>NaN</td>\n",
       "      <td>NaN</td>\n",
       "      <td>NaN</td>\n",
       "      <td>NaN</td>\n",
       "      <td>NaN</td>\n",
       "      <td>NaN</td>\n",
       "      <td>NaN</td>\n",
       "      <td>NaN</td>\n",
       "      <td>NaN</td>\n",
       "      <td>NaN</td>\n",
       "      <td>NaN</td>\n",
       "      <td>NaN</td>\n",
       "      <td>NaN</td>\n",
       "      <td>NaN</td>\n",
       "      <td>NaN</td>\n",
       "      <td>NaN</td>\n",
       "      <td>NaN</td>\n",
       "      <td>NaN</td>\n",
       "      <td>NaN</td>\n",
       "      <td>NaN</td>\n",
       "      <td>NaN</td>\n",
       "      <td>NaN</td>\n",
       "      <td>NaN</td>\n",
       "      <td>NaN</td>\n",
       "      <td>NaN</td>\n",
       "      <td>NaN</td>\n",
       "      <td>NaN</td>\n",
       "      <td>NaN</td>\n",
       "      <td>NaN</td>\n",
       "      <td>NaN</td>\n",
       "      <td>NaN</td>\n",
       "      <td>27.0</td>\n",
       "      <td>6.0</td>\n",
       "      <td>22.2</td>\n",
       "      <td>1.76</td>\n",
       "      <td>0.39</td>\n",
       "      <td>0.07</td>\n",
       "      <td>0.33</td>\n",
       "      <td>24.8</td>\n",
       "      <td>0.07</td>\n",
       "      <td>0.9</td>\n",
       "      <td>0.2</td>\n",
       "      <td>863.0</td>\n",
       "      <td>1013.0</td>\n",
       "      <td>85.2</td>\n",
       "      <td>15380.0</td>\n",
       "      <td>3805.0</td>\n",
       "      <td>365.0</td>\n",
       "      <td>397.0</td>\n",
       "      <td>91.9</td>\n",
       "      <td>383.0</td>\n",
       "      <td>436.0</td>\n",
       "      <td>87.8</td>\n",
       "      <td>95.0</td>\n",
       "      <td>145.0</td>\n",
       "      <td>65.5</td>\n",
       "      <td>2.0</td>\n",
       "      <td>0.1</td>\n",
       "      <td>22.0</td>\n",
       "      <td>69.0</td>\n",
       "      <td>19.0</td>\n",
       "      <td>3.0</td>\n",
       "      <td>900.0</td>\n",
       "      <td>112.0</td>\n",
       "      <td>61.0</td>\n",
       "      <td>4.0</td>\n",
       "      <td>11.0</td>\n",
       "      <td>52.0</td>\n",
       "      <td>5.0</td>\n",
       "      <td>46.0</td>\n",
       "      <td>30.0</td>\n",
       "      <td>1.0</td>\n",
       "      <td>2.0</td>\n",
       "      <td>1.0</td>\n",
       "      <td>9.0</td>\n",
       "      <td>61.0</td>\n",
       "      <td>3.97</td>\n",
       "      <td>31.0</td>\n",
       "      <td>17.0</td>\n",
       "      <td>3.0</td>\n",
       "      <td>7.0</td>\n",
       "      <td>2.0</td>\n",
       "      <td>1.0</td>\n",
       "      <td>5.0</td>\n",
       "      <td>0.33</td>\n",
       "      <td>3.0</td>\n",
       "      <td>2.0</td>\n",
       "      <td>0.0</td>\n",
       "      <td>0.0</td>\n",
       "      <td>0.0</td>\n",
       "      <td>0.0</td>\n",
       "      <td>36.0</td>\n",
       "      <td>24.0</td>\n",
       "      <td>14.0</td>\n",
       "      <td>15.0</td>\n",
       "      <td>7.0</td>\n",
       "      <td>16.0</td>\n",
       "      <td>30.0</td>\n",
       "      <td>53.3</td>\n",
       "      <td>14.0</td>\n",
       "      <td>18.0</td>\n",
       "      <td>5.0</td>\n",
       "      <td>10.0</td>\n",
       "      <td>46.0</td>\n",
       "      <td>13.0</td>\n",
       "      <td>0.0</td>\n",
       "      <td>1155.0</td>\n",
       "      <td>47.0</td>\n",
       "      <td>241.0</td>\n",
       "      <td>630.0</td>\n",
       "      <td>294.0</td>\n",
       "      <td>23.0</td>\n",
       "      <td>1152.0</td>\n",
       "      <td>23.0</td>\n",
       "      <td>12.0</td>\n",
       "      <td>52.2</td>\n",
       "      <td>7.0</td>\n",
       "      <td>30.4</td>\n",
       "      <td>669.0</td>\n",
       "      <td>3633.0</td>\n",
       "      <td>1712.0</td>\n",
       "      <td>23.0</td>\n",
       "      <td>2.0</td>\n",
       "      <td>19.0</td>\n",
       "      <td>10.0</td>\n",
       "      <td>782.0</td>\n",
       "      <td>28.0</td>\n",
       "      <td>1383.0</td>\n",
       "      <td>86.0</td>\n",
       "      <td>90.4</td>\n",
       "      <td>86.0</td>\n",
       "      <td>11.0</td>\n",
       "      <td>0.0</td>\n",
       "      <td>0.0</td>\n",
       "      <td>0.0</td>\n",
       "      <td>2.19</td>\n",
       "      <td>34.0</td>\n",
       "      <td>20.0</td>\n",
       "      <td>14.0</td>\n",
       "      <td>0.91</td>\n",
       "      <td>-0.31</td>\n",
       "      <td>28.1</td>\n",
       "      <td>21.5</td>\n",
       "      <td>6.6</td>\n",
       "      <td>0.43</td>\n",
       "      <td>-0.08</td>\n",
       "      <td>0.0</td>\n",
       "      <td>21.0</td>\n",
       "      <td>21.0</td>\n",
       "      <td>0.0</td>\n",
       "      <td>0.0</td>\n",
       "      <td>0.0</td>\n",
       "      <td>0.0</td>\n",
       "      <td>101.0</td>\n",
       "      <td>11.0</td>\n",
       "      <td>8.0</td>\n",
       "      <td>57.9</td>\n",
       "    </tr>\n",
       "  </tbody>\n",
       "</table>\n",
       "</div>"
      ],
      "text/plain": [
       "      Rk        Player Nation Pos        Squad   Age    Born    MP  Starts  \\\n",
       "132  266  Douglas Luiz    BRA  MF  Aston Villa  25.0  1998.0  16.0    16.0   \n",
       "\n",
       "        Min   90s  Gls  Ast  G+A  G-PK   PK  PKatt  CrdY  CrdR   xG  npxG  \\\n",
       "132  1383.0  15.4  5.0  2.0  7.0   2.0  3.0    3.0   5.0   0.0  4.1   1.8   \n",
       "\n",
       "     xAG  npxG+xAG  Progressive Carries  Progressive Passes  PrgR  Gls per 90  \\\n",
       "132  1.9       3.7                 35.0                76.0  28.0        0.33   \n",
       "\n",
       "     Ast per 90  G+A per 90  G-PK per 90  G+A-PK per 90  xG per 90  \\\n",
       "132        0.13        0.46         0.13           0.26       0.27   \n",
       "\n",
       "     xAG per 90  xG+xAG  npxG per 90  npxG+xAG per 90 season_years  GA  GA90  \\\n",
       "132        0.12    0.39         0.12             0.24    2023-2024 NaN   NaN   \n",
       "\n",
       "     SoTA  Saves  Save%   W   D   L  CS  CS%  PKA  PKsv  PKm  Save%.1  FK  CK  \\\n",
       "132   NaN    NaN    NaN NaN NaN NaN NaN  NaN  NaN   NaN  NaN      NaN NaN NaN   \n",
       "\n",
       "     OG  PSxG  PSxG/SoT  PSxG+/-  /90  Cmp  Att  Cmp%  Att (GK)  Thr  Launch%  \\\n",
       "132 NaN   NaN       NaN      NaN  NaN  NaN  NaN   NaN       NaN  NaN      NaN   \n",
       "\n",
       "     AvgLen  Att.1  Launch%.1  AvgLen.1  Opp  Stp  Stp%  #OPA  #OPA/90  \\\n",
       "132     NaN    NaN        NaN       NaN  NaN  NaN   NaN   NaN      NaN   \n",
       "\n",
       "     AvgDist    Sh  SoT  SoT Pct  Sh per 90  SoT per 90  Goals per Shot  \\\n",
       "132      NaN  27.0  6.0     22.2       1.76        0.39            0.07   \n",
       "\n",
       "     Goals per SoT  Average Shot Distance  npxG per Shot  G-xG  npG - npxG  \\\n",
       "132           0.33                   24.8           0.07   0.9         0.2   \n",
       "\n",
       "     Passes Completed  Passes Attempted  Pass Completion Pct  \\\n",
       "132             863.0            1013.0                 85.2   \n",
       "\n",
       "     Total Passing Dist  Progressive Passing Dist  Passes Completed (Short)  \\\n",
       "132             15380.0                    3805.0                     365.0   \n",
       "\n",
       "     Passes Attempted (Short)  Pass Completion Pct (Short)  \\\n",
       "132                     397.0                         91.9   \n",
       "\n",
       "     Passes Completed (Medium)  Passes Attempted (Medium)  \\\n",
       "132                      383.0                      436.0   \n",
       "\n",
       "     Pass Completion Pct (Medium)  Passes Completed (Long)  \\\n",
       "132                          87.8                     95.0   \n",
       "\n",
       "     Passes Attempted (Long)  Pass Completion Pct (Long)   xA  A-xAG  \\\n",
       "132                    145.0                        65.5  2.0    0.1   \n",
       "\n",
       "     Key Passes  Passes Into Final Third  Passes Into Pen Area  \\\n",
       "132        22.0                     69.0                  19.0   \n",
       "\n",
       "     Crosses Into Pen Area  Live-ball Passes  Dead-ball Passes  \\\n",
       "132                    3.0             900.0             112.0   \n",
       "\n",
       "     Passes from FK  Through Balls  Switches  Crosses  Throw-Ins  \\\n",
       "132            61.0            4.0      11.0     52.0        5.0   \n",
       "\n",
       "     Corner Kicks  Inswinging CK  Outswinging CK  Straight CK  Passes Offside  \\\n",
       "132          46.0           30.0             1.0          2.0             1.0   \n",
       "\n",
       "     Passes Blocked  Shot Creating Actions  Shot Creating Actions per 90  \\\n",
       "132             9.0                   61.0                          3.97   \n",
       "\n",
       "     SCA PassLive  SCA PassDead  SCA Take-ons  SCA Shots  SCA Fouled  \\\n",
       "132          31.0          17.0           3.0        7.0         2.0   \n",
       "\n",
       "     SCA Defensive Actions  Goal Creating Actions  \\\n",
       "132                    1.0                    5.0   \n",
       "\n",
       "     Goal Creating Actions per 90  GCA PassLive  GCA PassDead  GCA Take-ons  \\\n",
       "132                          0.33           3.0           2.0           0.0   \n",
       "\n",
       "     GCA Shots  GCA Fouled  GCA Defensive Actions  Tackles  Tackles Won  \\\n",
       "132        0.0         0.0                    0.0     36.0         24.0   \n",
       "\n",
       "     Tackles Def 3rd  Tackles Mid 3rd  Tackles Att 3rd  Dribblers Tackled  \\\n",
       "132             14.0             15.0              7.0               16.0   \n",
       "\n",
       "     Dribblers Challenged  Dribblers Tackled Pct  Dribblers Challenged Lost  \\\n",
       "132                  30.0                   53.3                       14.0   \n",
       "\n",
       "     Blocks  Shots Blocked  Interceptions  Tackles and Interceptions  \\\n",
       "132    18.0            5.0           10.0                       46.0   \n",
       "\n",
       "     Clearances  Errors Leading to Shots  Touches  Touches (Def Pen)  \\\n",
       "132        13.0                      0.0   1155.0               47.0   \n",
       "\n",
       "     Touches (Def 3rd)  Touches (Mid 3rd)  Touches (Att 3rd)  \\\n",
       "132              241.0              630.0              294.0   \n",
       "\n",
       "     Touches (Att Pen)  Touches (Live-Ball)  Take-Ons Attempted  \\\n",
       "132               23.0               1152.0                23.0   \n",
       "\n",
       "     Successful Take-Ons  Successful Take-On %  Times Tackled During Take-Ons  \\\n",
       "132                 12.0                  52.2                            7.0   \n",
       "\n",
       "     Tackled During Take-On %  Carries  Total Carrying Distance  \\\n",
       "132                      30.4    669.0                   3633.0   \n",
       "\n",
       "     Progressive Carrying Distance  Carries Into Final 3rd  \\\n",
       "132                         1712.0                    23.0   \n",
       "\n",
       "     Carries Into Penalty Area  Miscontrols  Disposessed  Passes Recieved  \\\n",
       "132                        2.0         19.0         10.0            782.0   \n",
       "\n",
       "     Progressive Passes Receieved    Mins  Minutes per Matches Played  \\\n",
       "132                          28.0  1383.0                        86.0   \n",
       "\n",
       "     Minutes Played Pct  Minutes Per Start  Complete Matches Played  Sub Apps  \\\n",
       "132                90.4               86.0                     11.0       0.0   \n",
       "\n",
       "     Minutes Per Sub  Unused Subs  Points Per Match  Goals Scored (On Pitch)  \\\n",
       "132              0.0          0.0              2.19                     34.0   \n",
       "\n",
       "     Goals Allowed (On Pitch)  Scored Minus Allowed (On Pitch)  \\\n",
       "132                      20.0                             14.0   \n",
       "\n",
       "     Scored Minus Allowed (On Pitch) per 90  \\\n",
       "132                                    0.91   \n",
       "\n",
       "     Scored Minus Allowed Net (On Pitch) per 90  xG (On Pitch)  \\\n",
       "132                                       -0.31           28.1   \n",
       "\n",
       "     xGA (On Pitch)  xG Minus xGA (On Pitch)  xG Minus xGA (On Pitch) per 90  \\\n",
       "132            21.5                      6.6                            0.43   \n",
       "\n",
       "     xG Minus xGA Net (On Pitch) per 90  2CrdY  Fouls  Fouled  Offsides  \\\n",
       "132                               -0.08    0.0   21.0    21.0       0.0   \n",
       "\n",
       "     PK Won  PK Conceded  Own Goals  Balls Recovered  Aerial Duels Won  \\\n",
       "132     0.0          0.0        0.0            101.0              11.0   \n",
       "\n",
       "     Aerial Duels Lost  Aerial Duels Win Pct  \n",
       "132                8.0                  57.9  "
      ]
     },
     "execution_count": 137,
     "metadata": {},
     "output_type": "execute_result"
    }
   ],
   "source": [
    "folder_db = '/data/databases/'\n",
    "folder_raw = '/data/raw_files/'\n",
    "\n",
    "pd.set_option('display.max_columns', None)\n",
    "\n",
    "# current_dir = os.getcwd()\n",
    "# new_directory = os.path.join(current_dir, \"data\", \"databases\")\n",
    "# db_name = os.path.join(new_directory, 'fpl_data_weekly.db')\n",
    "# table_name = 'general_data'\n",
    "# conn = sqlite3.connect(db_name)\n",
    "# df_weekly_fpl = pd.read_sql_query(f'SELECT * FROM {table_name}', conn)\n",
    "# conn.close()\n",
    "\n",
    "# Get the directory of the current script\n",
    "current_dir = os.getcwd()\n",
    "# Generate the path to the database\n",
    "db_path = os.path.join(current_directory + folder_db, \"fbref_data_players_latest.db\")\n",
    "conn = sqlite3.connect(db_path)\n",
    "cursor = conn.cursor()\n",
    "\n",
    "# Write a SQL query to join all the tables\n",
    "query = \"\"\"\n",
    "SELECT *\n",
    "FROM general\n",
    "LEFT JOIN keepers ON general.Player = keepers.Player\n",
    "LEFT JOIN keepers_adv ON general.Player = keepers_adv.Player\n",
    "LEFT JOIN shooting ON general.Player = shooting.Player\n",
    "LEFT JOIN passing ON general.Player = passing.Player\n",
    "LEFT JOIN passing_types ON general.Player = passing_types.Player\n",
    "LEFT JOIN gca ON general.Player = gca.Player\n",
    "LEFT JOIN defense ON general.Player = defense.Player\n",
    "LEFT JOIN possession ON general.Player = possession.Player\n",
    "LEFT JOIN playingtime ON general.Player = playingtime.Player\n",
    "LEFT JOIN misc ON general.Player = misc.Player\n",
    "\"\"\"\n",
    "\n",
    "# Execute the query and load the result into a DataFrame\n",
    "current_players = pd.read_sql_query(query, conn)\n",
    "\n",
    "# Close the connection\n",
    "conn.close()\n",
    "\n",
    "df_player = current_players.drop(columns=['index'])\n",
    "duplicated_columns = df_player.columns[df_player.columns.duplicated()].tolist()\n",
    "df_player = df_player.loc[:, ~df_player.columns.duplicated()]\n",
    "\n",
    "test_df = df_player #df_player[df_player['Player'] == 'Douglas Luiz']\n",
    "test_df[test_df['Player'] == 'Douglas Luiz']"
   ]
  },
  {
   "cell_type": "code",
   "execution_count": 176,
   "metadata": {},
   "outputs": [
    {
     "name": "stdout",
     "output_type": "stream",
     "text": [
      "8\n",
      "5\n",
      "5\n",
      "18\n",
      "18\n",
      "[35, 97, 32, 32, 81, 62, 86, 61, 90, 93, 65, 75, 91, 89, 87, 86, 90, 67]\n",
      "[0.0, 1.5, 0.0, 0.1, 8.0, 12.0, 56.0, 12.0, 1146.0, 10.0, 12.0, 5.0, 800.0, 18.0, 20.0, 11.0, 47.0, 15.0, 0.0]\n",
      "<class 'list'>\n",
      "<class 'list'>\n"
     ]
    }
   ],
   "source": [
    "from scipy.stats import percentileofscore\n",
    "df = test_df\n",
    "player_of_interest = 'Ezri Konsa'\n",
    "\n",
    "# att_attr = ['G-PK','npxG','Ast','xAG','npxG+xAG','Sh','Shot Creating Actions', 'Progressive Passes', 'PrgR']\n",
    "att_attr = ['G-PK','npxG','Ast','xAG','Sh', 'Shot Creating Actions', 'Progressive Passes', 'PrgR']\n",
    "# pos_attr = ['Touches', 'Successful Take-Ons', 'Successful Take-On %','Carries', 'Progressive Carrying Distance', \n",
    "#                     'Progressive Carries', 'Miscontrols', 'Disposessed', 'Passes Recieved']\n",
    "pos_attr = ['Touches', 'Successful Take-Ons', 'Progressive Carries', 'Disposessed', 'Passes Recieved']\n",
    "# def_attr = ['Tackles Won', 'Dribblers Tackled', 'Dribblers Tackled Pct', 'Blocks', 'Shots Blocked', 'Passes Blocked',\n",
    "#                     'Tackles and Interceptions', 'Errors Leading to Shots', 'Aerial Duels Won', 'Aerial Duels Win Pct']\n",
    "def_attr = ['Tackles Won', 'Blocks', 'Shots Blocked', 'Tackles and Interceptions', 'Aerial Duels Won']\n",
    "\n",
    "attributes = att_attr + pos_attr + def_attr\n",
    "\n",
    "print(len(att_attr))\n",
    "print(len(pos_attr))\n",
    "print(len(def_attr))\n",
    "\n",
    "player_position = df[df['Player'] == player_of_interest]['Pos'].values[0]\n",
    "position_df = df[df['Pos'] == player_position]\n",
    "player_values = df[df['Player'] == player_of_interest][attributes].values.flatten()\n",
    "\n",
    "merged_df_per_90 = position_df.copy()\n",
    "percentile_values = [percentileofscore(merged_df_per_90[attribute], player_value) / 100 \n",
    "                        for attribute, player_value \n",
    "                        in zip(attributes, player_values)]\n",
    "# percentile_values = percentile_values \n",
    "# percentile_values = [ '%.0f' % elem for elem in percentile_values ]\n",
    "percentile_values = [ elem * 100 for elem in percentile_values ]\n",
    "percentile_values = [ '%.0f' % elem for elem in percentile_values ]\n",
    "percentile_values = list(percentile_values)\n",
    "# percentile_values += percentile_values[:1]\n",
    "\n",
    "# We will also add the first player value to the end of the list for the labels\n",
    "player_values = list(player_values)\n",
    "player_values += player_values[:1]\n",
    "\n",
    "values2 = [70, 77, 74, 68, 60, 96, 89, 97, 92, 94, 16, 19, 56, 53, 94]\n",
    "\n",
    "for i in range(0, len(percentile_values)): \n",
    "    percentile_values[i] = int(percentile_values[i]) \n",
    "\n",
    "print(len(attributes))\n",
    "print(len(percentile_values))\n",
    "print(percentile_values)\n",
    "print(player_values)\n",
    "\n",
    "print(type(percentile_values))\n",
    "print(type(values2))"
   ]
  },
  {
   "cell_type": "code",
   "execution_count": 192,
   "metadata": {},
   "outputs": [
    {
     "data": {
      "image/png": "[encoded data removed]",
      "text/plain": [
       "<Figure size 720x576 with 1 Axes>"
      ]
     },
     "metadata": {},
     "output_type": "display_data"
    }
   ],
   "source": [
    "from urllib.request import urlopen\n",
    "\n",
    "import matplotlib.pyplot as plt\n",
    "from PIL import Image\n",
    "\n",
    "from mplsoccer import PyPizza, add_image, FontManager\n",
    "\n",
    "\n",
    "# parameter list\n",
    "params = attributes\n",
    "name_update = {\n",
    "    \"G-PK\": \"Non-Penalty\\nGoals\", \n",
    "    \"Sh\": \"Shots\", \n",
    "    \"Ast\": \"Assists\",\n",
    "    \"Shot Creating Actions\": \"Shot Creating\\nActions\",\n",
    "    \"Progressive Passes\": \"Progressive\\nPasses\",\n",
    "    \"PrgR\": \"Progressive Passes\\nReceieved\",\n",
    "    \"Successful Take-Ons\": \"Successful\\nTake-Ons\",\n",
    "    \"Progressive Carries\": \"Progressive\\nCarries\",\n",
    "    \"Passes Recieved\": \"Passes\\nRecieved\",\n",
    "    \"Tackles Won\": \"Tackles\\nWon\",\n",
    "    \"Shots Blocked\": \"Shots\\nBlocked\",\n",
    "    \"Tackles and Interceptions\": \"Tackles\\nand Interceptions\",\n",
    "    \"Aerial Duels Won\": \"Aerial Duels\\nWon\",\n",
    "}\n",
    "\n",
    "params_updated = [name_update.get(param, param) for param in params]\n",
    "\n",
    "# value list\n",
    "values = percentile_values\n",
    "\n",
    "slice_colors = [\"#1A78CF\"] * 8 + [\"#FF9300\"] * 5 + [\"#D70232\"] * 5\n",
    "text_colors = [\"#000000\"] * 13 + [\"#F2F2F2\"] * 5\n",
    "\n",
    "# instantiate PyPizza class\n",
    "baker = PyPizza(\n",
    "    params=params_updated,                  # list of parameters\n",
    "    background_color=\"#222222\",     # background color\n",
    "    straight_line_color=\"#000000\",  # color for straight lines\n",
    "    straight_line_lw=1,             # linewidth for straight lines\n",
    "    last_circle_color=\"#000000\",    # color for last line\n",
    "    last_circle_lw=1,               # linewidth of last circle\n",
    "    other_circle_lw=0,              # linewidth for other circles\n",
    "    inner_circle_size=5            # size of inner circle\n",
    ")\n",
    "\n",
    "# plot pizza\n",
    "fig, ax = baker.make_pizza(\n",
    "    values,                          # list of values\n",
    "    figsize=(10, 8),                # adjust the figsize according to your need\n",
    "    color_blank_space=\"same\",        # use the same color to fill blank space\n",
    "    slice_colors=slice_colors,       # color for individual slices\n",
    "    value_colors=text_colors,        # color for the value-text\n",
    "    value_bck_colors=slice_colors,   # color for the blank spaces\n",
    "    blank_alpha=0.4,                 # alpha for blank-space colors\n",
    "    kwargs_slices=dict(\n",
    "        edgecolor=\"#000000\", zorder=2, linewidth=1\n",
    "    ),                               # values to be used when plotting slices\n",
    "    kwargs_params=dict(\n",
    "        color=\"#F2F2F2\", fontsize=11,\n",
    "        va=\"center\"\n",
    "    ),                               # values to be used when adding parameter labels\n",
    "    kwargs_values=dict(\n",
    "        color=\"#F2F2F2\", fontsize=11,\n",
    "        zorder=3,\n",
    "        bbox=dict(\n",
    "            edgecolor=\"#000000\", facecolor=\"cornflowerblue\",\n",
    "            boxstyle=\"round,pad=0.2\", lw=1\n",
    "        )\n",
    "    )                                # values to be used when adding parameter-values labels\n",
    ")\n",
    "\n",
    "# add title\n",
    "fig.text(\n",
    "    0.515, 0.985, f\"{player_of_interest}\", size=16,\n",
    "    ha=\"center\", color=\"#F2F2F2\"\n",
    ")\n",
    "\n",
    "# add subtitle\n",
    "fig.text(\n",
    "    0.515, 0.965,\n",
    "    \"Percentile Rank vs Premier League Players In Same Position | Season 2023-24\",\n",
    "    size=13,\n",
    "    ha=\"center\", color=\"#F2F2F2\"\n",
    ")\n",
    "\n",
    "# add text\n",
    "fig.text(\n",
    "    0.34, 0.935, \"Attacking        Possession       Defending\", size=14, color=\"#F2F2F2\"\n",
    ")\n",
    "\n",
    "# add rectangles\n",
    "fig.patches.extend([\n",
    "    plt.Rectangle(\n",
    "        (0.30, 0.9325), 0.025, 0.021, fill=True, color=\"#1a78cf\",\n",
    "        transform=fig.transFigure, figure=fig\n",
    "    ),\n",
    "    plt.Rectangle(\n",
    "        (0.45, 0.9325), 0.025, 0.021, fill=True, color=\"#ff9300\",\n",
    "        transform=fig.transFigure, figure=fig\n",
    "    ),\n",
    "    plt.Rectangle(\n",
    "        (0.60, 0.9325), 0.025, 0.021, fill=True, color=\"#d70232\",\n",
    "        transform=fig.transFigure, figure=fig\n",
    "    ),\n",
    "])\n",
    "\n",
    "plt.show()"
   ]
  },
  {
   "cell_type": "code",
   "execution_count": 198,
   "metadata": {},
   "outputs": [],
   "source": [
    "\n",
    "import matplotlib.pyplot as plt\n",
    "import numpy as np\n",
    "\n",
    "db_path = os.path.join(current_directory + folder_db, \"fbref_for_team_data_overall_2023-2024.db\")\n",
    "conn = sqlite3.connect(db_path)\n",
    "df1 = pd.read_sql_query('SELECT * FROM teams_for_general', conn)\n",
    "conn.close()\n",
    "df1\n",
    "\n",
    "db_path = os.path.join(current_directory + folder_db, \"fbref_against_team_data_overall_2023-2024.db\")\n",
    "conn = sqlite3.connect(db_path)\n",
    "df2 = pd.read_sql_query('SELECT * FROM teams_against_general', conn)\n",
    "conn.close()\n",
    "df2\n",
    "\n",
    "merged_df_teams = df1.merge(df2, left_on='Squad', right_on='Squad', how='left') \n",
    " \n",
    "\n",
    "db_path = os.path.join(current_directory + folder_db, \"fbref_data_team_individual.db\")\n",
    "conn = sqlite3.connect(db_path)\n",
    "df_individual = pd.read_sql_query('SELECT * FROM team_individual_tbl', conn)\n",
    "conn.close()\n",
    "\n",
    "\n",
    "df = df_individual"
   ]
  },
  {
   "cell_type": "code",
   "execution_count": 200,
   "metadata": {},
   "outputs": [
    {
     "data": {
      "text/html": [
       "<div>\n",
       "<style scoped>\n",
       "    .dataframe tbody tr th:only-of-type {\n",
       "        vertical-align: middle;\n",
       "    }\n",
       "\n",
       "    .dataframe tbody tr th {\n",
       "        vertical-align: top;\n",
       "    }\n",
       "\n",
       "    .dataframe thead th {\n",
       "        text-align: right;\n",
       "    }\n",
       "</style>\n",
       "<table border=\"1\" class=\"dataframe\">\n",
       "  <thead>\n",
       "    <tr style=\"text-align: right;\">\n",
       "      <th></th>\n",
       "      <th>index</th>\n",
       "      <th>date</th>\n",
       "      <th>round</th>\n",
       "      <th>venue</th>\n",
       "      <th>result</th>\n",
       "      <th>gf</th>\n",
       "      <th>ga</th>\n",
       "      <th>opponent</th>\n",
       "      <th>xg</th>\n",
       "      <th>xga</th>\n",
       "      <th>possession</th>\n",
       "      <th>xg_roll</th>\n",
       "      <th>xga_roll</th>\n",
       "      <th>team</th>\n",
       "      <th>year</th>\n",
       "    </tr>\n",
       "  </thead>\n",
       "  <tbody>\n",
       "    <tr>\n",
       "      <th>2391</th>\n",
       "      <td>0</td>\n",
       "      <td>2023-08-11 00:00:00</td>\n",
       "      <td>Matchweek 1</td>\n",
       "      <td>Home</td>\n",
       "      <td>L</td>\n",
       "      <td>0.0</td>\n",
       "      <td>3.0</td>\n",
       "      <td>Manchester City</td>\n",
       "      <td>0.3</td>\n",
       "      <td>1.9</td>\n",
       "      <td>35</td>\n",
       "      <td>None</td>\n",
       "      <td>None</td>\n",
       "      <td>Burnley</td>\n",
       "      <td>2023-2024</td>\n",
       "    </tr>\n",
       "    <tr>\n",
       "      <th>2392</th>\n",
       "      <td>0</td>\n",
       "      <td>2023-08-11 00:00:00</td>\n",
       "      <td>Matchweek 1</td>\n",
       "      <td>Away</td>\n",
       "      <td>W</td>\n",
       "      <td>3.0</td>\n",
       "      <td>0.0</td>\n",
       "      <td>Burnley</td>\n",
       "      <td>1.9</td>\n",
       "      <td>0.3</td>\n",
       "      <td>65</td>\n",
       "      <td>None</td>\n",
       "      <td>None</td>\n",
       "      <td>Manchester City</td>\n",
       "      <td>2023-2024</td>\n",
       "    </tr>\n",
       "    <tr>\n",
       "      <th>2393</th>\n",
       "      <td>0</td>\n",
       "      <td>2023-08-12 00:00:00</td>\n",
       "      <td>Matchweek 1</td>\n",
       "      <td>Away</td>\n",
       "      <td>L</td>\n",
       "      <td>1.0</td>\n",
       "      <td>4.0</td>\n",
       "      <td>Brighton</td>\n",
       "      <td>1.5</td>\n",
       "      <td>4.0</td>\n",
       "      <td>30</td>\n",
       "      <td>None</td>\n",
       "      <td>None</td>\n",
       "      <td>Luton Town</td>\n",
       "      <td>2023-2024</td>\n",
       "    </tr>\n",
       "    <tr>\n",
       "      <th>2394</th>\n",
       "      <td>0</td>\n",
       "      <td>2023-08-12 00:00:00</td>\n",
       "      <td>Matchweek 1</td>\n",
       "      <td>Home</td>\n",
       "      <td>W</td>\n",
       "      <td>2.0</td>\n",
       "      <td>1.0</td>\n",
       "      <td>Nott'ham Forest</td>\n",
       "      <td>0.8</td>\n",
       "      <td>1.2</td>\n",
       "      <td>78</td>\n",
       "      <td>None</td>\n",
       "      <td>None</td>\n",
       "      <td>Arsenal</td>\n",
       "      <td>2023-2024</td>\n",
       "    </tr>\n",
       "    <tr>\n",
       "      <th>2395</th>\n",
       "      <td>0</td>\n",
       "      <td>2023-08-12 00:00:00</td>\n",
       "      <td>Matchweek 1</td>\n",
       "      <td>Home</td>\n",
       "      <td>L</td>\n",
       "      <td>0.0</td>\n",
       "      <td>1.0</td>\n",
       "      <td>Crystal Palace</td>\n",
       "      <td>0.5</td>\n",
       "      <td>1.9</td>\n",
       "      <td>32</td>\n",
       "      <td>None</td>\n",
       "      <td>None</td>\n",
       "      <td>Sheffield Utd</td>\n",
       "      <td>2023-2024</td>\n",
       "    </tr>\n",
       "  </tbody>\n",
       "</table>\n",
       "</div>"
      ],
      "text/plain": [
       "      index                 date        round venue result   gf   ga  \\\n",
       "2391      0  2023-08-11 00:00:00  Matchweek 1  Home      L  0.0  3.0   \n",
       "2392      0  2023-08-11 00:00:00  Matchweek 1  Away      W  3.0  0.0   \n",
       "2393      0  2023-08-12 00:00:00  Matchweek 1  Away      L  1.0  4.0   \n",
       "2394      0  2023-08-12 00:00:00  Matchweek 1  Home      W  2.0  1.0   \n",
       "2395      0  2023-08-12 00:00:00  Matchweek 1  Home      L  0.0  1.0   \n",
       "\n",
       "             opponent   xg  xga  possession xg_roll xga_roll             team  \\\n",
       "2391  Manchester City  0.3  1.9          35    None     None          Burnley   \n",
       "2392          Burnley  1.9  0.3          65    None     None  Manchester City   \n",
       "2393         Brighton  1.5  4.0          30    None     None       Luton Town   \n",
       "2394  Nott'ham Forest  0.8  1.2          78    None     None          Arsenal   \n",
       "2395   Crystal Palace  0.5  1.9          32    None     None    Sheffield Utd   \n",
       "\n",
       "           year  \n",
       "2391  2023-2024  \n",
       "2392  2023-2024  \n",
       "2393  2023-2024  \n",
       "2394  2023-2024  \n",
       "2395  2023-2024  "
      ]
     },
     "execution_count": 200,
     "metadata": {},
     "output_type": "execute_result"
    }
   ],
   "source": [
    "df = df[df['year']=='2023-2024']\n",
    "df.head(5)"
   ]
  },
  {
   "cell_type": "code",
   "execution_count": 204,
   "metadata": {},
   "outputs": [
    {
     "name": "stderr",
     "output_type": "stream",
     "text": [
      "/var/folders/vd/ly4k__lj017dwcj6ngy4n4c00000gn/T/ipykernel_5272/3581290823.py:3: FutureWarning: Dropping of nuisance columns in DataFrame reductions (with 'numeric_only=None') is deprecated; in a future version this will raise TypeError.  Select only valid columns before calling the reduction.\n",
      "  return df.groupby('team').apply(lambda x: x.tail(num_matches).mean()).reset_index()\n"
     ]
    },
    {
     "data": {
      "image/png": "[encoded data removed]",
      "text/plain": [
       "<Figure size 1080x864 with 1 Axes>"
      ]
     },
     "execution_count": 204,
     "metadata": {},
     "output_type": "execute_result"
    },
    {
     "data": {
      "image/png": "[encoded data removed]",
      "text/plain": [
       "<Figure size 1080x864 with 1 Axes>"
      ]
     },
     "metadata": {
      "needs_background": "light"
     },
     "output_type": "display_data"
    }
   ],
   "source": [
    "def get_last_matches_stats(df, num_matches):\n",
    "    # Filter the last 'num_matches' for each team and calculate the average\n",
    "    return df.groupby('team').apply(lambda x: x.tail(num_matches).mean()).reset_index()\n",
    "\n",
    "def plot_team_scatter_filtered(df, highlight_team, num_matches):\n",
    "    df = df[df['year']=='2023-2024']\n",
    "    # Filter data based on selected number of matches for each team\n",
    "    filtered_df = get_last_matches_stats(df, num_matches)\n",
    "\n",
    "\n",
    "    fig, ax = plt.subplots(figsize=(15, 12))\n",
    "    ax.grid(True, linestyle='--', alpha=0.8)\n",
    "\n",
    "    for i in range(len(filtered_df)):\n",
    "        color = 'red' if filtered_df['team'][i] == highlight_team else 'green'\n",
    "\n",
    "        ax.scatter(filtered_df['xg'][i], \n",
    "                   filtered_df['xga'][i], \n",
    "                   s=100,\n",
    "                   c=color,\n",
    "                   edgecolor='black',\n",
    "                   alpha=0.7)\n",
    "\n",
    "        ax.annotate(filtered_df['team'][i],\n",
    "                    (filtered_df['xg'][i], filtered_df['xga'][i]),\n",
    "                    xytext=(-10, -20),\n",
    "                    textcoords='offset points',\n",
    "                    fontsize=12)\n",
    "\n",
    "    npxG_avg = filtered_df['xg'].mean()\n",
    "    xA_avg = filtered_df['xga'].mean()\n",
    "    plt.axhline(npxG_avg, color='grey', linestyle='--', alpha=0.5)\n",
    "    plt.axvline(xA_avg, color='grey', linestyle='--', alpha=0.5)\n",
    "\n",
    "    ax.set_title('Scatter Plot of npxG vs xA for the Last ' + str(num_matches) + ' Matches')\n",
    "    ax.set_xlabel('npxG per 90')\n",
    "    ax.set_ylabel('xA per 90')\n",
    "\n",
    "    ax.spines['right'].set_visible(False)\n",
    "    ax.spines['top'].set_visible(False)\n",
    "    ax.invert_yaxis()\n",
    "\n",
    "    return fig\n",
    "\n",
    "num_matches = 7\n",
    "team_of_interest = \"Arsenal\"\n",
    "\n",
    "\n",
    "plot_team_scatter_filtered(df, team_of_interest, num_matches)"
   ]
  },
  {
   "cell_type": "code",
   "execution_count": 205,
   "metadata": {},
   "outputs": [],
   "source": [
    "folder_db = '/data/databases/'\n",
    "folder_raw = '/data/raw_files/'\n",
    "\n",
    "# Get the directory of the current script\n",
    "current_dir = os.getcwd()\n",
    "# Generate the path to the database\n",
    "db_path = os.path.join(current_directory + folder_db, \"fbref_data_players_latest.db\")\n",
    "conn = sqlite3.connect(db_path)\n",
    "cursor = conn.cursor()\n",
    "\n",
    "# Write a SQL query to join all the tables\n",
    "query = \"\"\"\n",
    "SELECT *\n",
    "FROM general\n",
    "LEFT JOIN keepers ON general.Player = keepers.Player\n",
    "LEFT JOIN keepers_adv ON general.Player = keepers_adv.Player\n",
    "LEFT JOIN shooting ON general.Player = shooting.Player\n",
    "LEFT JOIN passing ON general.Player = passing.Player\n",
    "LEFT JOIN passing_types ON general.Player = passing_types.Player\n",
    "LEFT JOIN gca ON general.Player = gca.Player\n",
    "LEFT JOIN defense ON general.Player = defense.Player\n",
    "LEFT JOIN possession ON general.Player = possession.Player\n",
    "LEFT JOIN playingtime ON general.Player = playingtime.Player\n",
    "LEFT JOIN misc ON general.Player = misc.Player\n",
    "\"\"\"\n",
    "\n",
    "# Execute the query and load the result into a DataFrame\n",
    "current_players = pd.read_sql_query(query, conn)\n",
    "\n",
    "# Close the connection\n",
    "conn.close()\n",
    "\n",
    "\n",
    "\n",
    "current_players.to_csv('current_players_data.csv')"
   ]
  },
  {
   "cell_type": "code",
   "execution_count": null,
   "metadata": {},
   "outputs": [],
   "source": [
    "# Used to calculate rolling xg and xa\n",
    "db_path = os.path.join(current_directory + folder_db, \"fbref_data_team_individual.db\")\n",
    "conn = sqlite3.connect(db_path)\n",
    "df_individual = pd.read_sql_query('SELECT * FROM team_individual_tbl', conn)\n",
    "conn.close()\n",
    "\n",
    "df_individual.to_csv('team_rolling_xg.csv')"
   ]
  }
 ],
 "metadata": {
  "kernelspec": {
   "display_name": "Python 3.9.12 ('base')",
   "language": "python",
   "name": "python3"
  },
  "language_info": {
   "codemirror_mode": {
    "name": "ipython",
    "version": 3
   },
   "file_extension": ".py",
   "mimetype": "text/x-python",
   "name": "python",
   "nbconvert_exporter": "python",
   "pygments_lexer": "ipython3",
   "version": "3.9.12"
  },
  "orig_nbformat": 4,
  "vscode": {
   "interpreter": {
    "hash": "0496842fed3252e429d236fd9df9f28ef62eb2f8e7d98cd38ba8d6755488d983"
   }
  }
 },
 "nbformat": 4,
 "nbformat_minor": 2
}
