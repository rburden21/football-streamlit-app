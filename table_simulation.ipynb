{
 "cells": [
  {
   "cell_type": "code",
   "execution_count": null,
   "metadata": {},
   "outputs": [],
   "source": [
    "import os\n",
    "import numpy as np\n",
    "from scipy.stats import poisson\n",
    "import sqlite3\n",
    "import pandas as pd\n",
    "import requests\n",
    "from bs4 import BeautifulSoup\n",
    "import pandas as pd"
   ]
  },
  {
   "cell_type": "code",
   "execution_count": null,
   "metadata": {},
   "outputs": [],
   "source": [
    "folder_db = '/data/databases/'\n",
    "folder_raw = '/data/raw_files/'\n",
    "\n",
    "# Get the directory of the current script\n",
    "current_directory = os.path.abspath('')\n",
    "\n",
    "\n",
    "db_path = os.path.join(current_directory + folder_db, \"fbref_data_team_individual.db\")\n",
    "conn = sqlite3.connect(db_path)\n",
    "df_individual_xpts = pd.read_sql_query('SELECT * FROM team_individual_tbl', conn)\n",
    "conn.close()\n",
    "df_individual_xpts = df_individual_xpts[df_individual_xpts['year'] == '2023-2024']\n",
    "df_individual_xpts.tail(15)"
   ]
  },
  {
   "cell_type": "code",
   "execution_count": null,
   "metadata": {},
   "outputs": [],
   "source": [
    "# Same simulate_match function as before\n",
    "def simulate_match(xG_home, xG_away, num_simulations=50000):\n",
    "    home_goals = poisson.rvs(mu=xG_home, size=num_simulations)\n",
    "    away_goals = poisson.rvs(mu=xG_away, size=num_simulations)\n",
    "    \n",
    "    home_wins = np.sum(home_goals > away_goals)\n",
    "    draws = np.sum(home_goals == away_goals)\n",
    "    \n",
    "    win_probability_home = home_wins / num_simulations\n",
    "    draw_probability = draws / num_simulations\n",
    "    \n",
    "    xPts_home = (win_probability_home * 3.0) + (draw_probability * 1.0)\n",
    "    return xPts_home\n",
    "\n",
    "# Applying the simulate_match function to each row in the dataframe\n",
    "df_individual_xpts['xPts'] = df_individual_xpts.apply(lambda row: simulate_match(row['xg'], row['xga']), axis=1)\n",
    "\n",
    "df_individual_xpts.tail(10)\n"
   ]
  },
  {
   "cell_type": "code",
   "execution_count": null,
   "metadata": {},
   "outputs": [],
   "source": [
    "df_individual_xpts[df_individual_xpts['team'] == 'Tottenham']"
   ]
  },
  {
   "cell_type": "code",
   "execution_count": null,
   "metadata": {},
   "outputs": [],
   "source": [
    "# Group by 'team' and sum 'xPts', then sort by the xPts values\n",
    "team_xPts = df_individual_xpts.groupby('team')['xPts'].sum().sort_values(ascending=False)\n",
    "\n",
    "# Convert the Series to a DataFrame\n",
    "team_xPts_df = team_xPts.reset_index()\n",
    "team_xPts_df.loc[team_xPts_df['team']=='Everton', 'xPts'] -= 10\n",
    "\n",
    "# Add a new 'Rank' column which provides a rank from 1 to the length of the DataFrame\n",
    "team_xPts_df['Rank'] = team_xPts_df['xPts'].rank(ascending=False, method='min').astype(int)\n",
    "\n",
    "print(team_xPts_df)\n"
   ]
  },
  {
   "cell_type": "code",
   "execution_count": null,
   "metadata": {},
   "outputs": [],
   "source": [
    "url = 'https://fbref.com/en/comps/9/Premier-League-Stats'\n",
    "response = requests.get(url).text.replace('<!--', '').replace('-->', '')\n",
    "df_tables = pd.read_html(response)\n",
    "df_tables_prem = df_tables[0]\n",
    "cols = ['Rk', 'Squad', 'Pts']\n",
    "df_tables_prem = df_tables_prem[cols]\n",
    "# Display the first table from the fetched tables\n",
    "print(df_tables_prem)\n"
   ]
  },
  {
   "cell_type": "code",
   "execution_count": null,
   "metadata": {},
   "outputs": [],
   "source": [
    "merged_df = pd.merge(df_tables_prem, team_xPts_df, left_on='Squad', right_on='team', how='inner')\n",
    "merged_df"
   ]
  },
  {
   "cell_type": "code",
   "execution_count": null,
   "metadata": {},
   "outputs": [],
   "source": [
    "merged_df.to_csv('data/raw_files/tables_expected_actual.csv')"
   ]
  }
 ],
 "metadata": {
  "kernelspec": {
   "display_name": "Python 3.9.12 ('base')",
   "language": "python",
   "name": "python3"
  },
  "language_info": {
   "codemirror_mode": {
    "name": "ipython",
    "version": 3
   },
   "file_extension": ".py",
   "mimetype": "text/x-python",
   "name": "python",
   "nbconvert_exporter": "python",
   "pygments_lexer": "ipython3",
   "version": "3.9.12"
  },
  "orig_nbformat": 4,
  "vscode": {
   "interpreter": {
    "hash": "0496842fed3252e429d236fd9df9f28ef62eb2f8e7d98cd38ba8d6755488d983"
   }
  }
 },
 "nbformat": 4,
 "nbformat_minor": 2
}
